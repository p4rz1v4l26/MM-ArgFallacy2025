{
 "cells": [
  {
   "cell_type": "code",
   "execution_count": 1,
   "id": "bf2d7bc6",
   "metadata": {},
   "outputs": [
    {
     "name": "stdout",
     "output_type": "stream",
     "text": [
      "Requirement already satisfied: mamkit in c:\\users\\waral\\appdata\\local\\programs\\python\\python310\\lib\\site-packages (0.1.1)Note: you may need to restart the kernel to use updated packages.\n",
      "\n",
      "Requirement already satisfied: numpy~=1.26.4 in c:\\users\\waral\\appdata\\local\\programs\\python\\python310\\lib\\site-packages (from mamkit) (1.26.4)\n",
      "Requirement already satisfied: resampy==0.4.3 in c:\\users\\waral\\appdata\\local\\programs\\python\\python310\\lib\\site-packages (from mamkit) (0.4.3)\n",
      "Requirement already satisfied: scikit-image==0.19.2 in c:\\users\\waral\\appdata\\local\\programs\\python\\python310\\lib\\site-packages (from mamkit) (0.19.2)\n",
      "Requirement already satisfied: librosa==0.9.1 in c:\\users\\waral\\appdata\\local\\programs\\python\\python310\\lib\\site-packages (from mamkit) (0.9.1)\n",
      "Requirement already satisfied: nltk~=3.9.1 in c:\\users\\waral\\appdata\\local\\programs\\python\\python310\\lib\\site-packages (from mamkit) (3.9.1)\n",
      "Requirement already satisfied: pandas~=2.2.2 in c:\\users\\waral\\appdata\\local\\programs\\python\\python310\\lib\\site-packages (from mamkit) (2.2.3)\n",
      "Requirement already satisfied: pydub==0.25.1 in c:\\users\\waral\\appdata\\local\\programs\\python\\python310\\lib\\site-packages (from mamkit) (0.25.1)\n",
      "Requirement already satisfied: torch==2.3.0 in c:\\users\\waral\\appdata\\local\\programs\\python\\python310\\lib\\site-packages (from mamkit) (2.3.0)\n",
      "Requirement already satisfied: torchaudio==2.3.0 in c:\\users\\waral\\appdata\\local\\programs\\python\\python310\\lib\\site-packages (from mamkit) (2.3.0)\n",
      "Requirement already satisfied: torchmetrics~=1.4.1 in c:\\users\\waral\\appdata\\local\\programs\\python\\python310\\lib\\site-packages (from mamkit) (1.4.3)\n",
      "Requirement already satisfied: torchtext==0.18.0 in c:\\users\\waral\\appdata\\local\\programs\\python\\python310\\lib\\site-packages (from mamkit) (0.18.0)\n",
      "Requirement already satisfied: tqdm~=4.66.5 in c:\\users\\waral\\appdata\\local\\programs\\python\\python310\\lib\\site-packages (from mamkit) (4.66.6)\n",
      "Collecting transformers~=4.48.0 (from mamkit)\n",
      "  Using cached transformers-4.48.3-py3-none-any.whl.metadata (44 kB)\n",
      "Requirement already satisfied: yt-dlp==2025.2.19 in c:\\users\\waral\\appdata\\local\\programs\\python\\python310\\lib\\site-packages (from mamkit) (2025.2.19)\n",
      "Requirement already satisfied: Django~=5.1.3 in c:\\users\\waral\\appdata\\local\\programs\\python\\python310\\lib\\site-packages (from mamkit) (5.1.7)\n",
      "Requirement already satisfied: setuptools~=59.6.0 in c:\\users\\waral\\appdata\\local\\programs\\python\\python310\\lib\\site-packages (from mamkit) (59.6.0)\n",
      "Requirement already satisfied: simplejson==3.20.1 in c:\\users\\waral\\appdata\\local\\programs\\python\\python310\\lib\\site-packages (from mamkit) (3.20.1)\n",
      "Requirement already satisfied: httpx==0.28.1 in c:\\users\\waral\\appdata\\local\\programs\\python\\python310\\lib\\site-packages (from mamkit) (0.28.1)\n",
      "Requirement already satisfied: anyio in c:\\users\\waral\\appdata\\local\\programs\\python\\python310\\lib\\site-packages (from httpx==0.28.1->mamkit) (4.8.0)\n",
      "Requirement already satisfied: certifi in c:\\users\\waral\\appdata\\local\\programs\\python\\python310\\lib\\site-packages (from httpx==0.28.1->mamkit) (2025.1.31)\n",
      "Requirement already satisfied: httpcore==1.* in c:\\users\\waral\\appdata\\local\\programs\\python\\python310\\lib\\site-packages (from httpx==0.28.1->mamkit) (1.0.7)\n",
      "Requirement already satisfied: idna in c:\\users\\waral\\appdata\\local\\programs\\python\\python310\\lib\\site-packages (from httpx==0.28.1->mamkit) (3.10)\n",
      "Requirement already satisfied: audioread>=2.1.5 in c:\\users\\waral\\appdata\\local\\programs\\python\\python310\\lib\\site-packages (from librosa==0.9.1->mamkit) (3.0.1)\n",
      "Requirement already satisfied: scipy>=1.2.0 in c:\\users\\waral\\appdata\\local\\programs\\python\\python310\\lib\\site-packages (from librosa==0.9.1->mamkit) (1.15.2)\n",
      "Requirement already satisfied: scikit-learn>=0.19.1 in c:\\users\\waral\\appdata\\local\\programs\\python\\python310\\lib\\site-packages (from librosa==0.9.1->mamkit) (1.6.1)\n",
      "Requirement already satisfied: joblib>=0.14 in c:\\users\\waral\\appdata\\local\\programs\\python\\python310\\lib\\site-packages (from librosa==0.9.1->mamkit) (1.4.2)\n",
      "Requirement already satisfied: decorator>=4.0.10 in c:\\users\\waral\\appdata\\roaming\\python\\python310\\site-packages (from librosa==0.9.1->mamkit) (5.2.1)\n",
      "Requirement already satisfied: numba>=0.45.1 in c:\\users\\waral\\appdata\\local\\programs\\python\\python310\\lib\\site-packages (from librosa==0.9.1->mamkit) (0.61.0)\n",
      "Requirement already satisfied: soundfile>=0.10.2 in c:\\users\\waral\\appdata\\local\\programs\\python\\python310\\lib\\site-packages (from librosa==0.9.1->mamkit) (0.13.1)\n",
      "Requirement already satisfied: pooch>=1.0 in c:\\users\\waral\\appdata\\local\\programs\\python\\python310\\lib\\site-packages (from librosa==0.9.1->mamkit) (1.8.2)\n",
      "Requirement already satisfied: packaging>=20.0 in c:\\users\\waral\\appdata\\roaming\\python\\python310\\site-packages (from librosa==0.9.1->mamkit) (24.2)\n",
      "Requirement already satisfied: networkx>=2.2 in c:\\users\\waral\\appdata\\local\\programs\\python\\python310\\lib\\site-packages (from scikit-image==0.19.2->mamkit) (3.4.2)\n",
      "Requirement already satisfied: pillow!=7.1.0,!=7.1.1,!=8.3.0,>=6.1.0 in c:\\users\\waral\\appdata\\local\\programs\\python\\python310\\lib\\site-packages (from scikit-image==0.19.2->mamkit) (11.1.0)\n",
      "Requirement already satisfied: imageio>=2.4.1 in c:\\users\\waral\\appdata\\local\\programs\\python\\python310\\lib\\site-packages (from scikit-image==0.19.2->mamkit) (2.37.0)\n",
      "Requirement already satisfied: tifffile>=2019.7.26 in c:\\users\\waral\\appdata\\local\\programs\\python\\python310\\lib\\site-packages (from scikit-image==0.19.2->mamkit) (2025.3.13)\n",
      "Requirement already satisfied: PyWavelets>=1.1.1 in c:\\users\\waral\\appdata\\local\\programs\\python\\python310\\lib\\site-packages (from scikit-image==0.19.2->mamkit) (1.8.0)\n",
      "Requirement already satisfied: filelock in c:\\users\\waral\\appdata\\local\\programs\\python\\python310\\lib\\site-packages (from torch==2.3.0->mamkit) (3.18.0)\n",
      "Requirement already satisfied: typing-extensions>=4.8.0 in c:\\users\\waral\\appdata\\roaming\\python\\python310\\site-packages (from torch==2.3.0->mamkit) (4.12.2)\n",
      "Requirement already satisfied: sympy in c:\\users\\waral\\appdata\\local\\programs\\python\\python310\\lib\\site-packages (from torch==2.3.0->mamkit) (1.13.3)\n",
      "Requirement already satisfied: jinja2 in c:\\users\\waral\\appdata\\local\\programs\\python\\python310\\lib\\site-packages (from torch==2.3.0->mamkit) (3.1.6)\n",
      "Requirement already satisfied: fsspec in c:\\users\\waral\\appdata\\local\\programs\\python\\python310\\lib\\site-packages (from torch==2.3.0->mamkit) (2024.12.0)\n",
      "Requirement already satisfied: mkl<=2021.4.0,>=2021.1.1 in c:\\users\\waral\\appdata\\local\\programs\\python\\python310\\lib\\site-packages (from torch==2.3.0->mamkit) (2021.4.0)\n",
      "Requirement already satisfied: requests in c:\\users\\waral\\appdata\\local\\programs\\python\\python310\\lib\\site-packages (from torchtext==0.18.0->mamkit) (2.32.3)\n",
      "Requirement already satisfied: h11<0.15,>=0.13 in c:\\users\\waral\\appdata\\local\\programs\\python\\python310\\lib\\site-packages (from httpcore==1.*->httpx==0.28.1->mamkit) (0.14.0)\n",
      "Requirement already satisfied: asgiref<4,>=3.8.1 in c:\\users\\waral\\appdata\\local\\programs\\python\\python310\\lib\\site-packages (from Django~=5.1.3->mamkit) (3.8.1)\n",
      "Requirement already satisfied: sqlparse>=0.3.1 in c:\\users\\waral\\appdata\\local\\programs\\python\\python310\\lib\\site-packages (from Django~=5.1.3->mamkit) (0.5.3)\n",
      "Requirement already satisfied: tzdata in c:\\users\\waral\\appdata\\local\\programs\\python\\python310\\lib\\site-packages (from Django~=5.1.3->mamkit) (2025.1)\n",
      "Requirement already satisfied: click in c:\\users\\waral\\appdata\\local\\programs\\python\\python310\\lib\\site-packages (from nltk~=3.9.1->mamkit) (8.1.8)\n",
      "Requirement already satisfied: regex>=2021.8.3 in c:\\users\\waral\\appdata\\local\\programs\\python\\python310\\lib\\site-packages (from nltk~=3.9.1->mamkit) (2024.11.6)\n",
      "Requirement already satisfied: python-dateutil>=2.8.2 in c:\\users\\waral\\appdata\\roaming\\python\\python310\\site-packages (from pandas~=2.2.2->mamkit) (2.9.0.post0)\n",
      "Requirement already satisfied: pytz>=2020.1 in c:\\users\\waral\\appdata\\local\\programs\\python\\python310\\lib\\site-packages (from pandas~=2.2.2->mamkit) (2025.1)\n",
      "Requirement already satisfied: lightning-utilities>=0.8.0 in c:\\users\\waral\\appdata\\local\\programs\\python\\python310\\lib\\site-packages (from torchmetrics~=1.4.1->mamkit) (0.14.0)\n",
      "Requirement already satisfied: colorama in c:\\users\\waral\\appdata\\roaming\\python\\python310\\site-packages (from tqdm~=4.66.5->mamkit) (0.4.6)\n",
      "Requirement already satisfied: huggingface-hub<1.0,>=0.24.0 in c:\\users\\waral\\appdata\\local\\programs\\python\\python310\\lib\\site-packages (from transformers~=4.48.0->mamkit) (0.29.3)\n",
      "Requirement already satisfied: pyyaml>=5.1 in c:\\users\\waral\\appdata\\local\\programs\\python\\python310\\lib\\site-packages (from transformers~=4.48.0->mamkit) (6.0.2)\n",
      "Requirement already satisfied: tokenizers<0.22,>=0.21 in c:\\users\\waral\\appdata\\local\\programs\\python\\python310\\lib\\site-packages (from transformers~=4.48.0->mamkit) (0.21.1)\n",
      "Requirement already satisfied: safetensors>=0.4.1 in c:\\users\\waral\\appdata\\local\\programs\\python\\python310\\lib\\site-packages (from transformers~=4.48.0->mamkit) (0.5.3)\n",
      "Requirement already satisfied: intel-openmp==2021.* in c:\\users\\waral\\appdata\\local\\programs\\python\\python310\\lib\\site-packages (from mkl<=2021.4.0,>=2021.1.1->torch==2.3.0->mamkit) (2021.4.0)\n",
      "Requirement already satisfied: tbb==2021.* in c:\\users\\waral\\appdata\\local\\programs\\python\\python310\\lib\\site-packages (from mkl<=2021.4.0,>=2021.1.1->torch==2.3.0->mamkit) (2021.13.1)\n",
      "Requirement already satisfied: llvmlite<0.45,>=0.44.0dev0 in c:\\users\\waral\\appdata\\local\\programs\\python\\python310\\lib\\site-packages (from numba>=0.45.1->librosa==0.9.1->mamkit) (0.44.0)\n",
      "Requirement already satisfied: platformdirs>=2.5.0 in c:\\users\\waral\\appdata\\roaming\\python\\python310\\site-packages (from pooch>=1.0->librosa==0.9.1->mamkit) (4.3.6)\n",
      "Requirement already satisfied: six>=1.5 in c:\\users\\waral\\appdata\\roaming\\python\\python310\\site-packages (from python-dateutil>=2.8.2->pandas~=2.2.2->mamkit) (1.17.0)\n",
      "Requirement already satisfied: charset-normalizer<4,>=2 in c:\\users\\waral\\appdata\\local\\programs\\python\\python310\\lib\\site-packages (from requests->torchtext==0.18.0->mamkit) (3.4.1)\n",
      "Requirement already satisfied: urllib3<3,>=1.21.1 in c:\\users\\waral\\appdata\\local\\programs\\python\\python310\\lib\\site-packages (from requests->torchtext==0.18.0->mamkit) (2.3.0)\n",
      "Requirement already satisfied: threadpoolctl>=3.1.0 in c:\\users\\waral\\appdata\\local\\programs\\python\\python310\\lib\\site-packages (from scikit-learn>=0.19.1->librosa==0.9.1->mamkit) (3.6.0)\n",
      "Requirement already satisfied: cffi>=1.0 in c:\\users\\waral\\appdata\\local\\programs\\python\\python310\\lib\\site-packages (from soundfile>=0.10.2->librosa==0.9.1->mamkit) (1.17.1)\n",
      "Requirement already satisfied: exceptiongroup>=1.0.2 in c:\\users\\waral\\appdata\\roaming\\python\\python310\\site-packages (from anyio->httpx==0.28.1->mamkit) (1.2.2)\n",
      "Requirement already satisfied: sniffio>=1.1 in c:\\users\\waral\\appdata\\local\\programs\\python\\python310\\lib\\site-packages (from anyio->httpx==0.28.1->mamkit) (1.3.1)\n",
      "Requirement already satisfied: MarkupSafe>=2.0 in c:\\users\\waral\\appdata\\local\\programs\\python\\python310\\lib\\site-packages (from jinja2->torch==2.3.0->mamkit) (3.0.2)\n",
      "Requirement already satisfied: mpmath<1.4,>=1.1.0 in c:\\users\\waral\\appdata\\local\\programs\\python\\python310\\lib\\site-packages (from sympy->torch==2.3.0->mamkit) (1.3.0)\n",
      "Requirement already satisfied: pycparser in c:\\users\\waral\\appdata\\local\\programs\\python\\python310\\lib\\site-packages (from cffi>=1.0->soundfile>=0.10.2->librosa==0.9.1->mamkit) (2.22)\n",
      "Using cached transformers-4.48.3-py3-none-any.whl (9.7 MB)\n",
      "Installing collected packages: transformers\n",
      "  Attempting uninstall: transformers\n",
      "    Found existing installation: transformers 4.50.2\n",
      "    Uninstalling transformers-4.50.2:\n",
      "      Successfully uninstalled transformers-4.50.2\n",
      "Successfully installed transformers-4.48.3\n"
     ]
    }
   ],
   "source": [
    "pip install mamkit"
   ]
  },
  {
   "cell_type": "code",
   "execution_count": 1,
   "id": "95471ed3",
   "metadata": {},
   "outputs": [],
   "source": [
    "from mamkit.data.datasets import MMUSEDFallacy, InputMode\n",
    "from pathlib import Path\n",
    "\n",
    "def loading_data_example():\n",
    "    base_data_path = Path('Dataset-textonly-testdata')\n",
    "    loader = MMUSEDFallacy(task_name='afc',\n",
    "                           input_mode=InputMode.TEXT_ONLY,  # or TEXT_AUDIO or AUDIO_ONLY\n",
    "                           base_data_path=base_data_path)\n",
    "    split_info = loader.get_splits('mm-argfallacy-2025')"
   ]
  },
  {
   "cell_type": "code",
   "execution_count": 2,
   "id": "082a4fdd",
   "metadata": {},
   "outputs": [],
   "source": [
    "from pathlib import Path\n",
    "from mamkit.data.datasets import MMUSEDFallacy, InputMode\n",
    "\n",
    "def loading_data_example():\n",
    "    base_data_path = Path(__file__).parent.parent.resolve().joinpath('data')\n",
    "    loader = MMUSEDFallacy(\n",
    "        task_name='afd',\n",
    "        input_mode=InputMode.TEXT_ONLY,  # Options: TEXT_ONLY, AUDIO_ONLY, TEXT_AUDIO\n",
    "        base_data_path=base_data_path\n",
    "    )\n",
    "    split_info = loader.get_splits('mm-argfallacy-2025')\n"
   ]
  },
  {
   "cell_type": "code",
   "execution_count": 3,
   "id": "a2b6e466",
   "metadata": {},
   "outputs": [
    {
     "ename": "NameError",
     "evalue": "name 'loader' is not defined",
     "output_type": "error",
     "traceback": [
      "\u001b[1;31m---------------------------------------------------------------------------\u001b[0m",
      "\u001b[1;31mNameError\u001b[0m                                 Traceback (most recent call last)",
      "Cell \u001b[1;32mIn[3], line 1\u001b[0m\n\u001b[1;32m----> 1\u001b[0m \u001b[43mloader\u001b[49m\u001b[38;5;241m.\u001b[39msplit_info()\n\u001b[0;32m      3\u001b[0m \u001b[38;5;66;03m# Iterate over the splits to find the test split\u001b[39;00m\n\u001b[0;32m      4\u001b[0m \u001b[38;5;28;01mfor\u001b[39;00m split_info \u001b[38;5;129;01min\u001b[39;00m splits:\n",
      "\u001b[1;31mNameError\u001b[0m: name 'loader' is not defined"
     ]
    }
   ],
   "source": [
    "\n",
    "loader.split_info()\n",
    "\n",
    "# Iterate over the splits to find the test split\n",
    "for split_info in splits:\n",
    "    if split_info.split_name == 'test':\n",
    "        test_data = split_info.dataset\n",
    "        break\n",
    "else:\n",
    "    raise ValueError(\"Test split not found.\")"
   ]
  },
  {
   "cell_type": "markdown",
   "id": "bd7e3ee2",
   "metadata": {},
   "source": [
    "========================\n"
   ]
  },
  {
   "cell_type": "code",
   "execution_count": 11,
   "id": "091e5edf",
   "metadata": {},
   "outputs": [
    {
     "name": "stderr",
     "output_type": "stream",
     "text": [
      "Downloading: https://zenodo.org/api/records/14938117/files-archive: 5.71MB [00:07, 836kB/s] \n",
      "  0%|          | 0/35 [00:00<?, ?it/s]"
     ]
    },
    {
     "name": "stdout",
     "output_type": "stream",
     "text": [
      "[youtube] Extracting URL: https://www.youtube.com/watch?v=_hEeMvhcNlE&t=4579s\n",
      "[youtube] _hEeMvhcNlE: Downloading webpage\n",
      "[youtube] _hEeMvhcNlE: Downloading tv client config\n",
      "[youtube] _hEeMvhcNlE: Downloading player 9a279502\n",
      "[youtube] _hEeMvhcNlE: Downloading tv player API JSON\n",
      "[youtube] _hEeMvhcNlE: Downloading ios player API JSON\n",
      "[youtube] _hEeMvhcNlE: Downloading m3u8 information\n",
      "[info] _hEeMvhcNlE: Downloading 1 format(s): 251\n",
      "[download] Destination: C:\\Users\\waral\\Desktop\\data\\MMUSED-fallacy\\audio_recordings\\30_2004\\full_audio\n",
      "[download] 100% of   79.80MiB in 00:00:06 at 12.66MiB/s    \n",
      "[ExtractAudio] Destination: C:\\Users\\waral\\Desktop\\data\\MMUSED-fallacy\\audio_recordings\\30_2004\\full_audio.wav\n",
      "Deleting original file C:\\Users\\waral\\Desktop\\data\\MMUSED-fallacy\\audio_recordings\\30_2004\\full_audio (pass -k to keep)\n"
     ]
    },
    {
     "name": "stderr",
     "output_type": "stream",
     "text": [
      "  3%|▎         | 1/35 [00:21<12:27, 21.97s/it]"
     ]
    },
    {
     "name": "stdout",
     "output_type": "stream",
     "text": [
      "[youtube] Extracting URL: https://www.youtube.com/watch?v=xdQK78l3Xhc&t=119s\n",
      "[youtube] xdQK78l3Xhc: Downloading webpage\n",
      "[youtube] xdQK78l3Xhc: Downloading tv client config\n",
      "[youtube] xdQK78l3Xhc: Downloading player 9a279502\n",
      "[youtube] xdQK78l3Xhc: Downloading tv player API JSON\n",
      "[youtube] xdQK78l3Xhc: Downloading ios player API JSON\n",
      "[youtube] xdQK78l3Xhc: Downloading m3u8 information\n",
      "[info] xdQK78l3Xhc: Downloading 1 format(s): 251\n",
      "[download] Destination: C:\\Users\\waral\\Desktop\\data\\MMUSED-fallacy\\audio_recordings\\5_1976\\full_audio\n",
      "[download] 100% of   82.12MiB in 00:00:06 at 12.14MiB/s    \n",
      "[ExtractAudio] Destination: C:\\Users\\waral\\Desktop\\data\\MMUSED-fallacy\\audio_recordings\\5_1976\\full_audio.wav\n",
      "Deleting original file C:\\Users\\waral\\Desktop\\data\\MMUSED-fallacy\\audio_recordings\\5_1976\\full_audio (pass -k to keep)\n"
     ]
    },
    {
     "name": "stderr",
     "output_type": "stream",
     "text": [
      "  6%|▌         | 2/35 [00:44<12:20, 22.45s/it]"
     ]
    },
    {
     "name": "stdout",
     "output_type": "stream",
     "text": [
      "[youtube] Extracting URL: https://www.youtube.com/watch?v=HZCcSTz1qLo\n",
      "[youtube] HZCcSTz1qLo: Downloading webpage\n",
      "[youtube] HZCcSTz1qLo: Downloading tv client config\n",
      "[youtube] HZCcSTz1qLo: Downloading player 9a279502\n",
      "[youtube] HZCcSTz1qLo: Downloading tv player API JSON\n",
      "[youtube] HZCcSTz1qLo: Downloading ios player API JSON\n",
      "[youtube] HZCcSTz1qLo: Downloading m3u8 information\n",
      "[info] HZCcSTz1qLo: Downloading 1 format(s): 251\n",
      "[download] Destination: C:\\Users\\waral\\Desktop\\data\\MMUSED-fallacy\\audio_recordings\\23_1996\\full_audio\n",
      "[download] 100% of   63.21MiB in 00:00:05 at 12.07MiB/s    \n",
      "[ExtractAudio] Destination: C:\\Users\\waral\\Desktop\\data\\MMUSED-fallacy\\audio_recordings\\23_1996\\full_audio.wav\n",
      "Deleting original file C:\\Users\\waral\\Desktop\\data\\MMUSED-fallacy\\audio_recordings\\23_1996\\full_audio (pass -k to keep)\n"
     ]
    },
    {
     "name": "stderr",
     "output_type": "stream",
     "text": [
      "  9%|▊         | 3/35 [01:03<11:04, 20.75s/it]"
     ]
    },
    {
     "name": "stdout",
     "output_type": "stream",
     "text": [
      "[youtube] Extracting URL: https://www.youtube.com/watch?v=fj5A38gKHfk\n",
      "[youtube] fj5A38gKHfk: Downloading webpage\n",
      "[youtube] fj5A38gKHfk: Downloading tv client config\n",
      "[youtube] fj5A38gKHfk: Downloading player 9a279502\n",
      "[youtube] fj5A38gKHfk: Downloading tv player API JSON\n",
      "[youtube] fj5A38gKHfk: Downloading ios player API JSON\n",
      "[youtube] fj5A38gKHfk: Downloading m3u8 information\n",
      "[info] fj5A38gKHfk: Downloading 1 format(s): 251\n",
      "[download] Destination: C:\\Users\\waral\\Desktop\\data\\MMUSED-fallacy\\audio_recordings\\6_1976\\full_audio\n",
      "[download] 100% of   58.22MiB in 00:00:04 at 12.29MiB/s    \n",
      "[ExtractAudio] Destination: C:\\Users\\waral\\Desktop\\data\\MMUSED-fallacy\\audio_recordings\\6_1976\\full_audio.wav\n"
     ]
    },
    {
     "name": "stderr",
     "output_type": "stream",
     "text": [
      "  9%|▊         | 3/35 [01:22<14:43, 27.61s/it]\n"
     ]
    },
    {
     "ename": "KeyboardInterrupt",
     "evalue": "",
     "output_type": "error",
     "traceback": [
      "\u001b[1;31m---------------------------------------------------------------------------\u001b[0m",
      "\u001b[1;31mKeyboardInterrupt\u001b[0m                         Traceback (most recent call last)",
      "Cell \u001b[1;32mIn[11], line 26\u001b[0m\n\u001b[0;32m     23\u001b[0m     \u001b[38;5;28;01mraise\u001b[39;00m \u001b[38;5;167;01mValueError\u001b[39;00m(\u001b[38;5;124m\"\u001b[39m\u001b[38;5;124mTest split not found.\u001b[39m\u001b[38;5;124m\"\u001b[39m)\n\u001b[0;32m     25\u001b[0m \u001b[38;5;66;03m# Example usage\u001b[39;00m\n\u001b[1;32m---> 26\u001b[0m test_data \u001b[38;5;241m=\u001b[39m \u001b[43mload_test_split\u001b[49m\u001b[43m(\u001b[49m\u001b[43m)\u001b[49m\n\u001b[0;32m     27\u001b[0m \u001b[38;5;28mprint\u001b[39m(\u001b[38;5;124mf\u001b[39m\u001b[38;5;124m\"\u001b[39m\u001b[38;5;124mTest dataset contains \u001b[39m\u001b[38;5;132;01m{\u001b[39;00m\u001b[38;5;28mlen\u001b[39m(test_data\u001b[38;5;241m.\u001b[39minputs)\u001b[38;5;132;01m}\u001b[39;00m\u001b[38;5;124m samples.\u001b[39m\u001b[38;5;124m\"\u001b[39m)\n",
      "Cell \u001b[1;32mIn[11], line 9\u001b[0m, in \u001b[0;36mload_test_split\u001b[1;34m()\u001b[0m\n\u001b[0;32m      6\u001b[0m base_data_path \u001b[38;5;241m=\u001b[39m Path\u001b[38;5;241m.\u001b[39mcwd()\u001b[38;5;241m.\u001b[39mparent\u001b[38;5;241m.\u001b[39mparent\u001b[38;5;241m.\u001b[39mresolve()\u001b[38;5;241m.\u001b[39mjoinpath(\u001b[38;5;124m'\u001b[39m\u001b[38;5;124mdata\u001b[39m\u001b[38;5;124m'\u001b[39m)\n\u001b[0;32m      8\u001b[0m \u001b[38;5;66;03m# Initialize the dataset loader\u001b[39;00m\n\u001b[1;32m----> 9\u001b[0m loader \u001b[38;5;241m=\u001b[39m \u001b[43mMMUSEDFallacy\u001b[49m\u001b[43m(\u001b[49m\n\u001b[0;32m     10\u001b[0m \u001b[43m    \u001b[49m\u001b[43mtask_name\u001b[49m\u001b[38;5;241;43m=\u001b[39;49m\u001b[38;5;124;43m'\u001b[39;49m\u001b[38;5;124;43mafc\u001b[39;49m\u001b[38;5;124;43m'\u001b[39;49m\u001b[43m,\u001b[49m\u001b[43m  \u001b[49m\u001b[38;5;66;43;03m# or 'afc' depending on your setup\u001b[39;49;00m\n\u001b[0;32m     11\u001b[0m \u001b[43m    \u001b[49m\u001b[43minput_mode\u001b[49m\u001b[38;5;241;43m=\u001b[39;49m\u001b[43mInputMode\u001b[49m\u001b[38;5;241;43m.\u001b[39;49m\u001b[43mTEXT_ONLY\u001b[49m\u001b[43m,\u001b[49m\u001b[43m  \u001b[49m\u001b[38;5;66;43;03m# Can also be TEXT_AUDIO or AUDIO_ONLY\u001b[39;49;00m\n\u001b[0;32m     12\u001b[0m \u001b[43m    \u001b[49m\u001b[43mbase_data_path\u001b[49m\u001b[38;5;241;43m=\u001b[39;49m\u001b[43mbase_data_path\u001b[49m\n\u001b[0;32m     13\u001b[0m \u001b[43m\u001b[49m\u001b[43m)\u001b[49m\n\u001b[0;32m     15\u001b[0m \u001b[38;5;66;03m# Get the train/val/test splits\u001b[39;00m\n\u001b[0;32m     16\u001b[0m splits \u001b[38;5;241m=\u001b[39m loader\u001b[38;5;241m.\u001b[39mget_splits(\u001b[38;5;124m'\u001b[39m\u001b[38;5;124mmm-argfallacy-2025\u001b[39m\u001b[38;5;124m'\u001b[39m)\n",
      "File \u001b[1;32mc:\\Users\\waral\\AppData\\Local\\Programs\\Python\\Python310\\lib\\site-packages\\mamkit\\data\\datasets.py:635\u001b[0m, in \u001b[0;36mMMUSEDFallacy.__init__\u001b[1;34m(self, with_context, context_window, sample_rate, **kwargs)\u001b[0m\n\u001b[0;32m    632\u001b[0m \u001b[38;5;28mself\u001b[39m\u001b[38;5;241m.\u001b[39mclips_path \u001b[38;5;241m=\u001b[39m \u001b[38;5;28mself\u001b[39m\u001b[38;5;241m.\u001b[39mdata_path\u001b[38;5;241m.\u001b[39mjoinpath(\u001b[38;5;124m'\u001b[39m\u001b[38;5;124maudio_clips\u001b[39m\u001b[38;5;124m'\u001b[39m)\n\u001b[0;32m    633\u001b[0m \u001b[38;5;28mself\u001b[39m\u001b[38;5;241m.\u001b[39mdataset_path \u001b[38;5;241m=\u001b[39m \u001b[38;5;28mself\u001b[39m\u001b[38;5;241m.\u001b[39mdata_path\u001b[38;5;241m.\u001b[39mjoinpath(\u001b[38;5;124m'\u001b[39m\u001b[38;5;124mdataset.pkl\u001b[39m\u001b[38;5;124m'\u001b[39m)\n\u001b[1;32m--> 635\u001b[0m \u001b[38;5;28;43mself\u001b[39;49m\u001b[38;5;241;43m.\u001b[39;49m\u001b[43mload\u001b[49m\u001b[43m(\u001b[49m\u001b[43m)\u001b[49m\n\u001b[0;32m    637\u001b[0m \u001b[38;5;28mself\u001b[39m\u001b[38;5;241m.\u001b[39madd_splits(method\u001b[38;5;241m=\u001b[39m\u001b[38;5;28mself\u001b[39m\u001b[38;5;241m.\u001b[39mget_mancini_2024_splits,\n\u001b[0;32m    638\u001b[0m                 key\u001b[38;5;241m=\u001b[39m\u001b[38;5;124m'\u001b[39m\u001b[38;5;124mmancini-et-al-2024\u001b[39m\u001b[38;5;124m'\u001b[39m)\n",
      "File \u001b[1;32mc:\\Users\\waral\\AppData\\Local\\Programs\\Python\\Python310\\lib\\site-packages\\mamkit\\data\\datasets.py:727\u001b[0m, in \u001b[0;36mMMUSEDFallacy.load\u001b[1;34m(self)\u001b[0m\n\u001b[0;32m    725\u001b[0m \u001b[38;5;28;01mif\u001b[39;00m \u001b[38;5;129;01mnot\u001b[39;00m \u001b[38;5;28mself\u001b[39m\u001b[38;5;241m.\u001b[39mclips_path\u001b[38;5;241m.\u001b[39mexists():\n\u001b[0;32m    726\u001b[0m     logging\u001b[38;5;241m.\u001b[39minfo(\u001b[38;5;124m'\u001b[39m\u001b[38;5;124mDownloading audio data...\u001b[39m\u001b[38;5;124m'\u001b[39m)\n\u001b[1;32m--> 727\u001b[0m     \u001b[38;5;28;43mself\u001b[39;49m\u001b[38;5;241;43m.\u001b[39;49m\u001b[43mdownload_audio\u001b[49m\u001b[43m(\u001b[49m\u001b[43m)\u001b[49m\n\u001b[0;32m    728\u001b[0m     logging\u001b[38;5;241m.\u001b[39minfo(\u001b[38;5;124m'\u001b[39m\u001b[38;5;124mDownload completed!\u001b[39m\u001b[38;5;124m'\u001b[39m)\n\u001b[0;32m    730\u001b[0m     logging\u001b[38;5;241m.\u001b[39minfo(\u001b[38;5;124m'\u001b[39m\u001b[38;5;124mBuilding audio clips...\u001b[39m\u001b[38;5;124m'\u001b[39m)\n",
      "File \u001b[1;32mc:\\Users\\waral\\AppData\\Local\\Programs\\Python\\Python310\\lib\\site-packages\\mamkit\\data\\datasets.py:700\u001b[0m, in \u001b[0;36mMMUSEDFallacy.download_audio\u001b[1;34m(self)\u001b[0m\n\u001b[0;32m    696\u001b[0m \u001b[38;5;28;01mdef\u001b[39;00m\u001b[38;5;250m \u001b[39m\u001b[38;5;21mdownload_audio\u001b[39m(\n\u001b[0;32m    697\u001b[0m         \u001b[38;5;28mself\u001b[39m\n\u001b[0;32m    698\u001b[0m ):\n\u001b[0;32m    699\u001b[0m     dl_df \u001b[38;5;241m=\u001b[39m pd\u001b[38;5;241m.\u001b[39mread_csv(\u001b[38;5;28mself\u001b[39m\u001b[38;5;241m.\u001b[39mdata_path\u001b[38;5;241m.\u001b[39mjoinpath(\u001b[38;5;124m\"\u001b[39m\u001b[38;5;124mdownload_links.csv\u001b[39m\u001b[38;5;124m\"\u001b[39m), sep\u001b[38;5;241m=\u001b[39m\u001b[38;5;124m'\u001b[39m\u001b[38;5;124m;\u001b[39m\u001b[38;5;124m'\u001b[39m)\n\u001b[1;32m--> 700\u001b[0m     \u001b[43myoutube_download\u001b[49m\u001b[43m(\u001b[49m\u001b[43msave_path\u001b[49m\u001b[38;5;241;43m=\u001b[39;49m\u001b[38;5;28;43mself\u001b[39;49m\u001b[38;5;241;43m.\u001b[39;49m\u001b[43maudio_path\u001b[49m\u001b[43m,\u001b[49m\n\u001b[0;32m    701\u001b[0m \u001b[43m                     \u001b[49m\u001b[43mdebate_ids\u001b[49m\u001b[38;5;241;43m=\u001b[39;49m\u001b[43mdl_df\u001b[49m\u001b[38;5;241;43m.\u001b[39;49m\u001b[43mid\u001b[49m\u001b[38;5;241;43m.\u001b[39;49m\u001b[43mvalues\u001b[49m\u001b[43m,\u001b[49m\n\u001b[0;32m    702\u001b[0m \u001b[43m                     \u001b[49m\u001b[43mdebate_urls\u001b[49m\u001b[38;5;241;43m=\u001b[39;49m\u001b[43mdl_df\u001b[49m\u001b[38;5;241;43m.\u001b[39;49m\u001b[43mlink\u001b[49m\u001b[38;5;241;43m.\u001b[39;49m\u001b[43mvalues\u001b[49m\u001b[43m)\u001b[49m\n",
      "File \u001b[1;32mc:\\Users\\waral\\AppData\\Local\\Programs\\Python\\Python310\\lib\\site-packages\\mamkit\\utility\\data.py:77\u001b[0m, in \u001b[0;36myoutube_download\u001b[1;34m(save_path, debate_ids, debate_urls)\u001b[0m\n\u001b[0;32m     75\u001b[0m \u001b[38;5;28;01mtry\u001b[39;00m:\n\u001b[0;32m     76\u001b[0m     \u001b[38;5;28;01mwith\u001b[39;00m yt_dlp\u001b[38;5;241m.\u001b[39mYoutubeDL(ydl_opts) \u001b[38;5;28;01mas\u001b[39;00m ydl:\n\u001b[1;32m---> 77\u001b[0m         \u001b[43mydl\u001b[49m\u001b[38;5;241;43m.\u001b[39;49m\u001b[43mdownload\u001b[49m\u001b[43m(\u001b[49m\u001b[43m[\u001b[49m\u001b[43mlink\u001b[49m\u001b[43m]\u001b[49m\u001b[43m)\u001b[49m\n\u001b[0;32m     78\u001b[0m \u001b[38;5;28;01mexcept\u001b[39;00m yt_dlp\u001b[38;5;241m.\u001b[39mutils\u001b[38;5;241m.\u001b[39mDownloadError \u001b[38;5;28;01mas\u001b[39;00m e:\n\u001b[0;32m     79\u001b[0m     logging\u001b[38;5;241m.\u001b[39minfo(\u001b[38;5;124mf\u001b[39m\u001b[38;5;124m'\u001b[39m\u001b[38;5;124mCould not download \u001b[39m\u001b[38;5;132;01m{\u001b[39;00mlink\u001b[38;5;132;01m}\u001b[39;00m\u001b[38;5;124m'\u001b[39m)\n",
      "File \u001b[1;32mc:\\Users\\waral\\AppData\\Local\\Programs\\Python\\Python310\\lib\\site-packages\\yt_dlp\\YoutubeDL.py:3618\u001b[0m, in \u001b[0;36mYoutubeDL.download\u001b[1;34m(self, url_list)\u001b[0m\n\u001b[0;32m   3615\u001b[0m     \u001b[38;5;28;01mraise\u001b[39;00m SameFileError(outtmpl)\n\u001b[0;32m   3617\u001b[0m \u001b[38;5;28;01mfor\u001b[39;00m url \u001b[38;5;129;01min\u001b[39;00m url_list:\n\u001b[1;32m-> 3618\u001b[0m     \u001b[38;5;28;43mself\u001b[39;49m\u001b[38;5;241;43m.\u001b[39;49m\u001b[43m__download_wrapper\u001b[49m\u001b[43m(\u001b[49m\u001b[38;5;28;43mself\u001b[39;49m\u001b[38;5;241;43m.\u001b[39;49m\u001b[43mextract_info\u001b[49m\u001b[43m)\u001b[49m\u001b[43m(\u001b[49m\n\u001b[0;32m   3619\u001b[0m \u001b[43m        \u001b[49m\u001b[43murl\u001b[49m\u001b[43m,\u001b[49m\u001b[43m \u001b[49m\u001b[43mforce_generic_extractor\u001b[49m\u001b[38;5;241;43m=\u001b[39;49m\u001b[38;5;28;43mself\u001b[39;49m\u001b[38;5;241;43m.\u001b[39;49m\u001b[43mparams\u001b[49m\u001b[38;5;241;43m.\u001b[39;49m\u001b[43mget\u001b[49m\u001b[43m(\u001b[49m\u001b[38;5;124;43m'\u001b[39;49m\u001b[38;5;124;43mforce_generic_extractor\u001b[39;49m\u001b[38;5;124;43m'\u001b[39;49m\u001b[43m,\u001b[49m\u001b[43m \u001b[49m\u001b[38;5;28;43;01mFalse\u001b[39;49;00m\u001b[43m)\u001b[49m\u001b[43m)\u001b[49m\n\u001b[0;32m   3621\u001b[0m \u001b[38;5;28;01mreturn\u001b[39;00m \u001b[38;5;28mself\u001b[39m\u001b[38;5;241m.\u001b[39m_download_retcode\n",
      "File \u001b[1;32mc:\\Users\\waral\\AppData\\Local\\Programs\\Python\\Python310\\lib\\site-packages\\yt_dlp\\YoutubeDL.py:3591\u001b[0m, in \u001b[0;36mYoutubeDL.__download_wrapper.<locals>.wrapper\u001b[1;34m(*args, **kwargs)\u001b[0m\n\u001b[0;32m   3588\u001b[0m \u001b[38;5;129m@functools\u001b[39m\u001b[38;5;241m.\u001b[39mwraps(func)\n\u001b[0;32m   3589\u001b[0m \u001b[38;5;28;01mdef\u001b[39;00m\u001b[38;5;250m \u001b[39m\u001b[38;5;21mwrapper\u001b[39m(\u001b[38;5;241m*\u001b[39margs, \u001b[38;5;241m*\u001b[39m\u001b[38;5;241m*\u001b[39mkwargs):\n\u001b[0;32m   3590\u001b[0m     \u001b[38;5;28;01mtry\u001b[39;00m:\n\u001b[1;32m-> 3591\u001b[0m         res \u001b[38;5;241m=\u001b[39m func(\u001b[38;5;241m*\u001b[39margs, \u001b[38;5;241m*\u001b[39m\u001b[38;5;241m*\u001b[39mkwargs)\n\u001b[0;32m   3592\u001b[0m     \u001b[38;5;28;01mexcept\u001b[39;00m CookieLoadError:\n\u001b[0;32m   3593\u001b[0m         \u001b[38;5;28;01mraise\u001b[39;00m\n",
      "File \u001b[1;32mc:\\Users\\waral\\AppData\\Local\\Programs\\Python\\Python310\\lib\\site-packages\\yt_dlp\\YoutubeDL.py:1626\u001b[0m, in \u001b[0;36mYoutubeDL.extract_info\u001b[1;34m(self, url, download, ie_key, extra_info, process, force_generic_extractor)\u001b[0m\n\u001b[0;32m   1624\u001b[0m             \u001b[38;5;28;01mraise\u001b[39;00m ExistingVideoReached\n\u001b[0;32m   1625\u001b[0m         \u001b[38;5;28;01mbreak\u001b[39;00m\n\u001b[1;32m-> 1626\u001b[0m     \u001b[38;5;28;01mreturn\u001b[39;00m \u001b[38;5;28;43mself\u001b[39;49m\u001b[38;5;241;43m.\u001b[39;49m\u001b[43m__extract_info\u001b[49m\u001b[43m(\u001b[49m\u001b[43murl\u001b[49m\u001b[43m,\u001b[49m\u001b[43m \u001b[49m\u001b[38;5;28;43mself\u001b[39;49m\u001b[38;5;241;43m.\u001b[39;49m\u001b[43mget_info_extractor\u001b[49m\u001b[43m(\u001b[49m\u001b[43mkey\u001b[49m\u001b[43m)\u001b[49m\u001b[43m,\u001b[49m\u001b[43m \u001b[49m\u001b[43mdownload\u001b[49m\u001b[43m,\u001b[49m\u001b[43m \u001b[49m\u001b[43mextra_info\u001b[49m\u001b[43m,\u001b[49m\u001b[43m \u001b[49m\u001b[43mprocess\u001b[49m\u001b[43m)\u001b[49m\n\u001b[0;32m   1627\u001b[0m \u001b[38;5;28;01melse\u001b[39;00m:\n\u001b[0;32m   1628\u001b[0m     extractors_restricted \u001b[38;5;241m=\u001b[39m \u001b[38;5;28mself\u001b[39m\u001b[38;5;241m.\u001b[39mparams\u001b[38;5;241m.\u001b[39mget(\u001b[38;5;124m'\u001b[39m\u001b[38;5;124mallowed_extractors\u001b[39m\u001b[38;5;124m'\u001b[39m) \u001b[38;5;129;01mnot\u001b[39;00m \u001b[38;5;129;01min\u001b[39;00m (\u001b[38;5;28;01mNone\u001b[39;00m, [\u001b[38;5;124m'\u001b[39m\u001b[38;5;124mdefault\u001b[39m\u001b[38;5;124m'\u001b[39m])\n",
      "File \u001b[1;32mc:\\Users\\waral\\AppData\\Local\\Programs\\Python\\Python310\\lib\\site-packages\\yt_dlp\\YoutubeDL.py:1637\u001b[0m, in \u001b[0;36mYoutubeDL._handle_extraction_exceptions.<locals>.wrapper\u001b[1;34m(self, *args, **kwargs)\u001b[0m\n\u001b[0;32m   1635\u001b[0m \u001b[38;5;28;01mwhile\u001b[39;00m \u001b[38;5;28;01mTrue\u001b[39;00m:\n\u001b[0;32m   1636\u001b[0m     \u001b[38;5;28;01mtry\u001b[39;00m:\n\u001b[1;32m-> 1637\u001b[0m         \u001b[38;5;28;01mreturn\u001b[39;00m func(\u001b[38;5;28mself\u001b[39m, \u001b[38;5;241m*\u001b[39margs, \u001b[38;5;241m*\u001b[39m\u001b[38;5;241m*\u001b[39mkwargs)\n\u001b[0;32m   1638\u001b[0m     \u001b[38;5;28;01mexcept\u001b[39;00m (CookieLoadError, DownloadCancelled, LazyList\u001b[38;5;241m.\u001b[39mIndexError, PagedList\u001b[38;5;241m.\u001b[39mIndexError):\n\u001b[0;32m   1639\u001b[0m         \u001b[38;5;28;01mraise\u001b[39;00m\n",
      "File \u001b[1;32mc:\\Users\\waral\\AppData\\Local\\Programs\\Python\\Python310\\lib\\site-packages\\yt_dlp\\YoutubeDL.py:1793\u001b[0m, in \u001b[0;36mYoutubeDL.__extract_info\u001b[1;34m(self, url, ie, download, extra_info, process)\u001b[0m\n\u001b[0;32m   1791\u001b[0m \u001b[38;5;28;01mif\u001b[39;00m process:\n\u001b[0;32m   1792\u001b[0m     \u001b[38;5;28mself\u001b[39m\u001b[38;5;241m.\u001b[39m_wait_for_video(ie_result)\n\u001b[1;32m-> 1793\u001b[0m     \u001b[38;5;28;01mreturn\u001b[39;00m \u001b[38;5;28;43mself\u001b[39;49m\u001b[38;5;241;43m.\u001b[39;49m\u001b[43mprocess_ie_result\u001b[49m\u001b[43m(\u001b[49m\u001b[43mie_result\u001b[49m\u001b[43m,\u001b[49m\u001b[43m \u001b[49m\u001b[43mdownload\u001b[49m\u001b[43m,\u001b[49m\u001b[43m \u001b[49m\u001b[43mextra_info\u001b[49m\u001b[43m)\u001b[49m\n\u001b[0;32m   1794\u001b[0m \u001b[38;5;28;01melse\u001b[39;00m:\n\u001b[0;32m   1795\u001b[0m     \u001b[38;5;28;01mreturn\u001b[39;00m ie_result\n",
      "File \u001b[1;32mc:\\Users\\waral\\AppData\\Local\\Programs\\Python\\Python310\\lib\\site-packages\\yt_dlp\\YoutubeDL.py:1852\u001b[0m, in \u001b[0;36mYoutubeDL.process_ie_result\u001b[1;34m(self, ie_result, download, extra_info)\u001b[0m\n\u001b[0;32m   1850\u001b[0m \u001b[38;5;28;01mif\u001b[39;00m result_type \u001b[38;5;241m==\u001b[39m \u001b[38;5;124m'\u001b[39m\u001b[38;5;124mvideo\u001b[39m\u001b[38;5;124m'\u001b[39m:\n\u001b[0;32m   1851\u001b[0m     \u001b[38;5;28mself\u001b[39m\u001b[38;5;241m.\u001b[39madd_extra_info(ie_result, extra_info)\n\u001b[1;32m-> 1852\u001b[0m     ie_result \u001b[38;5;241m=\u001b[39m \u001b[38;5;28;43mself\u001b[39;49m\u001b[38;5;241;43m.\u001b[39;49m\u001b[43mprocess_video_result\u001b[49m\u001b[43m(\u001b[49m\u001b[43mie_result\u001b[49m\u001b[43m,\u001b[49m\u001b[43m \u001b[49m\u001b[43mdownload\u001b[49m\u001b[38;5;241;43m=\u001b[39;49m\u001b[43mdownload\u001b[49m\u001b[43m)\u001b[49m\n\u001b[0;32m   1853\u001b[0m     \u001b[38;5;28mself\u001b[39m\u001b[38;5;241m.\u001b[39m_raise_pending_errors(ie_result)\n\u001b[0;32m   1854\u001b[0m     additional_urls \u001b[38;5;241m=\u001b[39m (ie_result \u001b[38;5;129;01mor\u001b[39;00m {})\u001b[38;5;241m.\u001b[39mget(\u001b[38;5;124m'\u001b[39m\u001b[38;5;124madditional_urls\u001b[39m\u001b[38;5;124m'\u001b[39m)\n",
      "File \u001b[1;32mc:\\Users\\waral\\AppData\\Local\\Programs\\Python\\Python310\\lib\\site-packages\\yt_dlp\\YoutubeDL.py:3024\u001b[0m, in \u001b[0;36mYoutubeDL.process_video_result\u001b[1;34m(self, info_dict, download)\u001b[0m\n\u001b[0;32m   3022\u001b[0m downloaded_formats\u001b[38;5;241m.\u001b[39mappend(new_info)\n\u001b[0;32m   3023\u001b[0m \u001b[38;5;28;01mtry\u001b[39;00m:\n\u001b[1;32m-> 3024\u001b[0m     \u001b[38;5;28;43mself\u001b[39;49m\u001b[38;5;241;43m.\u001b[39;49m\u001b[43mprocess_info\u001b[49m\u001b[43m(\u001b[49m\u001b[43mnew_info\u001b[49m\u001b[43m)\u001b[49m\n\u001b[0;32m   3025\u001b[0m \u001b[38;5;28;01mexcept\u001b[39;00m MaxDownloadsReached:\n\u001b[0;32m   3026\u001b[0m     max_downloads_reached \u001b[38;5;241m=\u001b[39m \u001b[38;5;28;01mTrue\u001b[39;00m\n",
      "File \u001b[1;32mc:\\Users\\waral\\AppData\\Local\\Programs\\Python\\Python310\\lib\\site-packages\\yt_dlp\\YoutubeDL.py:177\u001b[0m, in \u001b[0;36m_catch_unsafe_extension_error.<locals>.wrapper\u001b[1;34m(self, *args, **kwargs)\u001b[0m\n\u001b[0;32m    174\u001b[0m \u001b[38;5;129m@functools\u001b[39m\u001b[38;5;241m.\u001b[39mwraps(func)\n\u001b[0;32m    175\u001b[0m \u001b[38;5;28;01mdef\u001b[39;00m\u001b[38;5;250m \u001b[39m\u001b[38;5;21mwrapper\u001b[39m(\u001b[38;5;28mself\u001b[39m, \u001b[38;5;241m*\u001b[39margs, \u001b[38;5;241m*\u001b[39m\u001b[38;5;241m*\u001b[39mkwargs):\n\u001b[0;32m    176\u001b[0m     \u001b[38;5;28;01mtry\u001b[39;00m:\n\u001b[1;32m--> 177\u001b[0m         \u001b[38;5;28;01mreturn\u001b[39;00m func(\u001b[38;5;28mself\u001b[39m, \u001b[38;5;241m*\u001b[39margs, \u001b[38;5;241m*\u001b[39m\u001b[38;5;241m*\u001b[39mkwargs)\n\u001b[0;32m    178\u001b[0m     \u001b[38;5;28;01mexcept\u001b[39;00m _UnsafeExtensionError \u001b[38;5;28;01mas\u001b[39;00m error:\n\u001b[0;32m    179\u001b[0m         \u001b[38;5;28mself\u001b[39m\u001b[38;5;241m.\u001b[39mreport_error(\n\u001b[0;32m    180\u001b[0m             \u001b[38;5;124mf\u001b[39m\u001b[38;5;124m'\u001b[39m\u001b[38;5;124mThe extracted extension (\u001b[39m\u001b[38;5;132;01m{\u001b[39;00merror\u001b[38;5;241m.\u001b[39mextension\u001b[38;5;132;01m!r}\u001b[39;00m\u001b[38;5;124m) is unusual \u001b[39m\u001b[38;5;124m'\u001b[39m\n\u001b[0;32m    181\u001b[0m             \u001b[38;5;124m'\u001b[39m\u001b[38;5;124mand will be skipped for safety reasons. \u001b[39m\u001b[38;5;124m'\u001b[39m\n\u001b[0;32m    182\u001b[0m             \u001b[38;5;124mf\u001b[39m\u001b[38;5;124m'\u001b[39m\u001b[38;5;124mIf you believe this is an error\u001b[39m\u001b[38;5;132;01m{\u001b[39;00mbug_reports_message(\u001b[38;5;124m\"\u001b[39m\u001b[38;5;124m,\u001b[39m\u001b[38;5;124m\"\u001b[39m)\u001b[38;5;132;01m}\u001b[39;00m\u001b[38;5;124m'\u001b[39m)\n",
      "File \u001b[1;32mc:\\Users\\waral\\AppData\\Local\\Programs\\Python\\Python310\\lib\\site-packages\\yt_dlp\\YoutubeDL.py:3570\u001b[0m, in \u001b[0;36mYoutubeDL.process_info\u001b[1;34m(self, info_dict)\u001b[0m\n\u001b[0;32m   3568\u001b[0m fixup()\n\u001b[0;32m   3569\u001b[0m \u001b[38;5;28;01mtry\u001b[39;00m:\n\u001b[1;32m-> 3570\u001b[0m     replace_info_dict(\u001b[38;5;28;43mself\u001b[39;49m\u001b[38;5;241;43m.\u001b[39;49m\u001b[43mpost_process\u001b[49m\u001b[43m(\u001b[49m\u001b[43mdl_filename\u001b[49m\u001b[43m,\u001b[49m\u001b[43m \u001b[49m\u001b[43minfo_dict\u001b[49m\u001b[43m,\u001b[49m\u001b[43m \u001b[49m\u001b[43mfiles_to_move\u001b[49m\u001b[43m)\u001b[49m)\n\u001b[0;32m   3571\u001b[0m \u001b[38;5;28;01mexcept\u001b[39;00m PostProcessingError \u001b[38;5;28;01mas\u001b[39;00m err:\n\u001b[0;32m   3572\u001b[0m     \u001b[38;5;28mself\u001b[39m\u001b[38;5;241m.\u001b[39mreport_error(\u001b[38;5;124mf\u001b[39m\u001b[38;5;124m'\u001b[39m\u001b[38;5;124mPostprocessing: \u001b[39m\u001b[38;5;132;01m{\u001b[39;00merr\u001b[38;5;132;01m}\u001b[39;00m\u001b[38;5;124m'\u001b[39m)\n",
      "File \u001b[1;32mc:\\Users\\waral\\AppData\\Local\\Programs\\Python\\Python310\\lib\\site-packages\\yt_dlp\\YoutubeDL.py:3754\u001b[0m, in \u001b[0;36mYoutubeDL.post_process\u001b[1;34m(self, filename, info, files_to_move)\u001b[0m\n\u001b[0;32m   3752\u001b[0m info[\u001b[38;5;124m'\u001b[39m\u001b[38;5;124mfilepath\u001b[39m\u001b[38;5;124m'\u001b[39m] \u001b[38;5;241m=\u001b[39m filename\n\u001b[0;32m   3753\u001b[0m info[\u001b[38;5;124m'\u001b[39m\u001b[38;5;124m__files_to_move\u001b[39m\u001b[38;5;124m'\u001b[39m] \u001b[38;5;241m=\u001b[39m files_to_move \u001b[38;5;129;01mor\u001b[39;00m {}\n\u001b[1;32m-> 3754\u001b[0m info \u001b[38;5;241m=\u001b[39m \u001b[38;5;28;43mself\u001b[39;49m\u001b[38;5;241;43m.\u001b[39;49m\u001b[43mrun_all_pps\u001b[49m\u001b[43m(\u001b[49m\u001b[38;5;124;43m'\u001b[39;49m\u001b[38;5;124;43mpost_process\u001b[39;49m\u001b[38;5;124;43m'\u001b[39;49m\u001b[43m,\u001b[49m\u001b[43m \u001b[49m\u001b[43minfo\u001b[49m\u001b[43m,\u001b[49m\u001b[43m \u001b[49m\u001b[43madditional_pps\u001b[49m\u001b[38;5;241;43m=\u001b[39;49m\u001b[43minfo\u001b[49m\u001b[38;5;241;43m.\u001b[39;49m\u001b[43mget\u001b[49m\u001b[43m(\u001b[49m\u001b[38;5;124;43m'\u001b[39;49m\u001b[38;5;124;43m__postprocessors\u001b[39;49m\u001b[38;5;124;43m'\u001b[39;49m\u001b[43m)\u001b[49m\u001b[43m)\u001b[49m\n\u001b[0;32m   3755\u001b[0m info \u001b[38;5;241m=\u001b[39m \u001b[38;5;28mself\u001b[39m\u001b[38;5;241m.\u001b[39mrun_pp(MoveFilesAfterDownloadPP(\u001b[38;5;28mself\u001b[39m), info)\n\u001b[0;32m   3756\u001b[0m \u001b[38;5;28;01mdel\u001b[39;00m info[\u001b[38;5;124m'\u001b[39m\u001b[38;5;124m__files_to_move\u001b[39m\u001b[38;5;124m'\u001b[39m]\n",
      "File \u001b[1;32mc:\\Users\\waral\\AppData\\Local\\Programs\\Python\\Python310\\lib\\site-packages\\yt_dlp\\YoutubeDL.py:3736\u001b[0m, in \u001b[0;36mYoutubeDL.run_all_pps\u001b[1;34m(self, key, info, additional_pps)\u001b[0m\n\u001b[0;32m   3734\u001b[0m     \u001b[38;5;28mself\u001b[39m\u001b[38;5;241m.\u001b[39m_forceprint(key, info)\n\u001b[0;32m   3735\u001b[0m \u001b[38;5;28;01mfor\u001b[39;00m pp \u001b[38;5;129;01min\u001b[39;00m (additional_pps \u001b[38;5;129;01mor\u001b[39;00m []) \u001b[38;5;241m+\u001b[39m \u001b[38;5;28mself\u001b[39m\u001b[38;5;241m.\u001b[39m_pps[key]:\n\u001b[1;32m-> 3736\u001b[0m     info \u001b[38;5;241m=\u001b[39m \u001b[38;5;28;43mself\u001b[39;49m\u001b[38;5;241;43m.\u001b[39;49m\u001b[43mrun_pp\u001b[49m\u001b[43m(\u001b[49m\u001b[43mpp\u001b[49m\u001b[43m,\u001b[49m\u001b[43m \u001b[49m\u001b[43minfo\u001b[49m\u001b[43m)\u001b[49m\n\u001b[0;32m   3737\u001b[0m \u001b[38;5;28;01mreturn\u001b[39;00m info\n",
      "File \u001b[1;32mc:\\Users\\waral\\AppData\\Local\\Programs\\Python\\Python310\\lib\\site-packages\\yt_dlp\\YoutubeDL.py:3714\u001b[0m, in \u001b[0;36mYoutubeDL.run_pp\u001b[1;34m(self, pp, infodict)\u001b[0m\n\u001b[0;32m   3712\u001b[0m     infodict[\u001b[38;5;124m'\u001b[39m\u001b[38;5;124m__files_to_move\u001b[39m\u001b[38;5;124m'\u001b[39m] \u001b[38;5;241m=\u001b[39m {}\n\u001b[0;32m   3713\u001b[0m \u001b[38;5;28;01mtry\u001b[39;00m:\n\u001b[1;32m-> 3714\u001b[0m     files_to_delete, infodict \u001b[38;5;241m=\u001b[39m \u001b[43mpp\u001b[49m\u001b[38;5;241;43m.\u001b[39;49m\u001b[43mrun\u001b[49m\u001b[43m(\u001b[49m\u001b[43minfodict\u001b[49m\u001b[43m)\u001b[49m\n\u001b[0;32m   3715\u001b[0m \u001b[38;5;28;01mexcept\u001b[39;00m PostProcessingError \u001b[38;5;28;01mas\u001b[39;00m e:\n\u001b[0;32m   3716\u001b[0m     \u001b[38;5;66;03m# Must be True and not 'only_download'\u001b[39;00m\n\u001b[0;32m   3717\u001b[0m     \u001b[38;5;28;01mif\u001b[39;00m \u001b[38;5;28mself\u001b[39m\u001b[38;5;241m.\u001b[39mparams\u001b[38;5;241m.\u001b[39mget(\u001b[38;5;124m'\u001b[39m\u001b[38;5;124mignoreerrors\u001b[39m\u001b[38;5;124m'\u001b[39m) \u001b[38;5;129;01mis\u001b[39;00m \u001b[38;5;28;01mTrue\u001b[39;00m:\n",
      "File \u001b[1;32mc:\\Users\\waral\\AppData\\Local\\Programs\\Python\\Python310\\lib\\site-packages\\yt_dlp\\postprocessor\\common.py:22\u001b[0m, in \u001b[0;36mPostProcessorMetaClass.run_wrapper.<locals>.run\u001b[1;34m(self, info, *args, **kwargs)\u001b[0m\n\u001b[0;32m     20\u001b[0m info_copy \u001b[38;5;241m=\u001b[39m \u001b[38;5;28mself\u001b[39m\u001b[38;5;241m.\u001b[39m_copy_infodict(info)\n\u001b[0;32m     21\u001b[0m \u001b[38;5;28mself\u001b[39m\u001b[38;5;241m.\u001b[39m_hook_progress({\u001b[38;5;124m'\u001b[39m\u001b[38;5;124mstatus\u001b[39m\u001b[38;5;124m'\u001b[39m: \u001b[38;5;124m'\u001b[39m\u001b[38;5;124mstarted\u001b[39m\u001b[38;5;124m'\u001b[39m}, info_copy)\n\u001b[1;32m---> 22\u001b[0m ret \u001b[38;5;241m=\u001b[39m func(\u001b[38;5;28mself\u001b[39m, info, \u001b[38;5;241m*\u001b[39margs, \u001b[38;5;241m*\u001b[39m\u001b[38;5;241m*\u001b[39mkwargs)\n\u001b[0;32m     23\u001b[0m \u001b[38;5;28;01mif\u001b[39;00m ret \u001b[38;5;129;01mis\u001b[39;00m \u001b[38;5;129;01mnot\u001b[39;00m \u001b[38;5;28;01mNone\u001b[39;00m:\n\u001b[0;32m     24\u001b[0m     _, info \u001b[38;5;241m=\u001b[39m ret\n",
      "File \u001b[1;32mc:\\Users\\waral\\AppData\\Local\\Programs\\Python\\Python310\\lib\\site-packages\\yt_dlp\\postprocessor\\common.py:127\u001b[0m, in \u001b[0;36mPostProcessor._restrict_to.<locals>.decorator.<locals>.wrapper\u001b[1;34m(self, info)\u001b[0m\n\u001b[0;32m    122\u001b[0m format_type \u001b[38;5;241m=\u001b[39m (\n\u001b[0;32m    123\u001b[0m     \u001b[38;5;124m'\u001b[39m\u001b[38;5;124mvideo\u001b[39m\u001b[38;5;124m'\u001b[39m \u001b[38;5;28;01mif\u001b[39;00m info\u001b[38;5;241m.\u001b[39mget(\u001b[38;5;124m'\u001b[39m\u001b[38;5;124mvcodec\u001b[39m\u001b[38;5;124m'\u001b[39m) \u001b[38;5;241m!=\u001b[39m \u001b[38;5;124m'\u001b[39m\u001b[38;5;124mnone\u001b[39m\u001b[38;5;124m'\u001b[39m\n\u001b[0;32m    124\u001b[0m     \u001b[38;5;28;01melse\u001b[39;00m \u001b[38;5;124m'\u001b[39m\u001b[38;5;124maudio\u001b[39m\u001b[38;5;124m'\u001b[39m \u001b[38;5;28;01mif\u001b[39;00m info\u001b[38;5;241m.\u001b[39mget(\u001b[38;5;124m'\u001b[39m\u001b[38;5;124macodec\u001b[39m\u001b[38;5;124m'\u001b[39m) \u001b[38;5;241m!=\u001b[39m \u001b[38;5;124m'\u001b[39m\u001b[38;5;124mnone\u001b[39m\u001b[38;5;124m'\u001b[39m\n\u001b[0;32m    125\u001b[0m     \u001b[38;5;28;01melse\u001b[39;00m \u001b[38;5;124m'\u001b[39m\u001b[38;5;124mimages\u001b[39m\u001b[38;5;124m'\u001b[39m)\n\u001b[0;32m    126\u001b[0m \u001b[38;5;28;01mif\u001b[39;00m allowed[format_type]:\n\u001b[1;32m--> 127\u001b[0m     \u001b[38;5;28;01mreturn\u001b[39;00m \u001b[43mfunc\u001b[49m\u001b[43m(\u001b[49m\u001b[38;5;28;43mself\u001b[39;49m\u001b[43m,\u001b[49m\u001b[43m \u001b[49m\u001b[43minfo\u001b[49m\u001b[43m)\u001b[49m\n\u001b[0;32m    128\u001b[0m \u001b[38;5;28;01melse\u001b[39;00m:\n\u001b[0;32m    129\u001b[0m     \u001b[38;5;28mself\u001b[39m\u001b[38;5;241m.\u001b[39mto_screen(\u001b[38;5;124mf\u001b[39m\u001b[38;5;124m'\u001b[39m\u001b[38;5;124mSkipping \u001b[39m\u001b[38;5;132;01m{\u001b[39;00mformat_type\u001b[38;5;132;01m}\u001b[39;00m\u001b[38;5;124m'\u001b[39m)\n",
      "File \u001b[1;32mc:\\Users\\waral\\AppData\\Local\\Programs\\Python\\Python310\\lib\\site-packages\\yt_dlp\\postprocessor\\ffmpeg.py:530\u001b[0m, in \u001b[0;36mFFmpegExtractAudioPP.run\u001b[1;34m(self, information)\u001b[0m\n\u001b[0;32m    527\u001b[0m     \u001b[38;5;28;01mreturn\u001b[39;00m [], information\n\u001b[0;32m    529\u001b[0m \u001b[38;5;28mself\u001b[39m\u001b[38;5;241m.\u001b[39mto_screen(\u001b[38;5;124mf\u001b[39m\u001b[38;5;124m'\u001b[39m\u001b[38;5;124mDestination: \u001b[39m\u001b[38;5;132;01m{\u001b[39;00mnew_path\u001b[38;5;132;01m}\u001b[39;00m\u001b[38;5;124m'\u001b[39m)\n\u001b[1;32m--> 530\u001b[0m \u001b[38;5;28;43mself\u001b[39;49m\u001b[38;5;241;43m.\u001b[39;49m\u001b[43mrun_ffmpeg\u001b[49m\u001b[43m(\u001b[49m\u001b[43mpath\u001b[49m\u001b[43m,\u001b[49m\u001b[43m \u001b[49m\u001b[43mtemp_path\u001b[49m\u001b[43m,\u001b[49m\u001b[43m \u001b[49m\u001b[43macodec\u001b[49m\u001b[43m,\u001b[49m\u001b[43m \u001b[49m\u001b[43mmore_opts\u001b[49m\u001b[43m)\u001b[49m\n\u001b[0;32m    532\u001b[0m os\u001b[38;5;241m.\u001b[39mreplace(path, orig_path)\n\u001b[0;32m    533\u001b[0m os\u001b[38;5;241m.\u001b[39mreplace(temp_path, new_path)\n",
      "File \u001b[1;32mc:\\Users\\waral\\AppData\\Local\\Programs\\Python\\Python310\\lib\\site-packages\\yt_dlp\\postprocessor\\ffmpeg.py:479\u001b[0m, in \u001b[0;36mFFmpegExtractAudioPP.run_ffmpeg\u001b[1;34m(self, path, out_path, codec, more_opts)\u001b[0m\n\u001b[0;32m    477\u001b[0m opts \u001b[38;5;241m=\u001b[39m [\u001b[38;5;124m'\u001b[39m\u001b[38;5;124m-vn\u001b[39m\u001b[38;5;124m'\u001b[39m, \u001b[38;5;241m*\u001b[39macodec_opts, \u001b[38;5;241m*\u001b[39mmore_opts]\n\u001b[0;32m    478\u001b[0m \u001b[38;5;28;01mtry\u001b[39;00m:\n\u001b[1;32m--> 479\u001b[0m     \u001b[43mFFmpegPostProcessor\u001b[49m\u001b[38;5;241;43m.\u001b[39;49m\u001b[43mrun_ffmpeg\u001b[49m\u001b[43m(\u001b[49m\u001b[38;5;28;43mself\u001b[39;49m\u001b[43m,\u001b[49m\u001b[43m \u001b[49m\u001b[43mpath\u001b[49m\u001b[43m,\u001b[49m\u001b[43m \u001b[49m\u001b[43mout_path\u001b[49m\u001b[43m,\u001b[49m\u001b[43m \u001b[49m\u001b[43mopts\u001b[49m\u001b[43m)\u001b[49m\n\u001b[0;32m    480\u001b[0m \u001b[38;5;28;01mexcept\u001b[39;00m FFmpegPostProcessorError \u001b[38;5;28;01mas\u001b[39;00m err:\n\u001b[0;32m    481\u001b[0m     \u001b[38;5;28;01mraise\u001b[39;00m PostProcessingError(\u001b[38;5;124mf\u001b[39m\u001b[38;5;124m'\u001b[39m\u001b[38;5;124maudio conversion failed: \u001b[39m\u001b[38;5;132;01m{\u001b[39;00merr\u001b[38;5;241m.\u001b[39mmsg\u001b[38;5;132;01m}\u001b[39;00m\u001b[38;5;124m'\u001b[39m)\n",
      "File \u001b[1;32mc:\\Users\\waral\\AppData\\Local\\Programs\\Python\\Python310\\lib\\site-packages\\yt_dlp\\postprocessor\\ffmpeg.py:374\u001b[0m, in \u001b[0;36mFFmpegPostProcessor.run_ffmpeg\u001b[1;34m(self, path, out_path, opts, **kwargs)\u001b[0m\n\u001b[0;32m    373\u001b[0m \u001b[38;5;28;01mdef\u001b[39;00m\u001b[38;5;250m \u001b[39m\u001b[38;5;21mrun_ffmpeg\u001b[39m(\u001b[38;5;28mself\u001b[39m, path, out_path, opts, \u001b[38;5;241m*\u001b[39m\u001b[38;5;241m*\u001b[39mkwargs):\n\u001b[1;32m--> 374\u001b[0m     \u001b[38;5;28;01mreturn\u001b[39;00m \u001b[38;5;28mself\u001b[39m\u001b[38;5;241m.\u001b[39mrun_ffmpeg_multiple_files([path], out_path, opts, \u001b[38;5;241m*\u001b[39m\u001b[38;5;241m*\u001b[39mkwargs)\n",
      "File \u001b[1;32mc:\\Users\\waral\\AppData\\Local\\Programs\\Python\\Python310\\lib\\site-packages\\yt_dlp\\postprocessor\\ffmpeg.py:329\u001b[0m, in \u001b[0;36mFFmpegPostProcessor.run_ffmpeg_multiple_files\u001b[1;34m(self, input_paths, out_path, opts, **kwargs)\u001b[0m\n\u001b[0;32m    328\u001b[0m \u001b[38;5;28;01mdef\u001b[39;00m\u001b[38;5;250m \u001b[39m\u001b[38;5;21mrun_ffmpeg_multiple_files\u001b[39m(\u001b[38;5;28mself\u001b[39m, input_paths, out_path, opts, \u001b[38;5;241m*\u001b[39m\u001b[38;5;241m*\u001b[39mkwargs):\n\u001b[1;32m--> 329\u001b[0m     \u001b[38;5;28;01mreturn\u001b[39;00m \u001b[38;5;28mself\u001b[39m\u001b[38;5;241m.\u001b[39mreal_run_ffmpeg(\n\u001b[0;32m    330\u001b[0m         [(path, []) \u001b[38;5;28;01mfor\u001b[39;00m path \u001b[38;5;129;01min\u001b[39;00m input_paths],\n\u001b[0;32m    331\u001b[0m         [(out_path, opts)], \u001b[38;5;241m*\u001b[39m\u001b[38;5;241m*\u001b[39mkwargs)\n",
      "File \u001b[1;32mc:\\Users\\waral\\AppData\\Local\\Programs\\Python\\Python310\\lib\\site-packages\\yt_dlp\\postprocessor\\ffmpeg.py:363\u001b[0m, in \u001b[0;36mFFmpegPostProcessor.real_run_ffmpeg\u001b[1;34m(self, input_path_opts, output_path_opts, expected_retcodes)\u001b[0m\n\u001b[0;32m    358\u001b[0m     cmd \u001b[38;5;241m+\u001b[39m\u001b[38;5;241m=\u001b[39m itertools\u001b[38;5;241m.\u001b[39mchain\u001b[38;5;241m.\u001b[39mfrom_iterable(\n\u001b[0;32m    359\u001b[0m         make_args(path, \u001b[38;5;28mlist\u001b[39m(opts), arg_type, i \u001b[38;5;241m+\u001b[39m \u001b[38;5;241m1\u001b[39m)\n\u001b[0;32m    360\u001b[0m         \u001b[38;5;28;01mfor\u001b[39;00m i, (path, opts) \u001b[38;5;129;01min\u001b[39;00m \u001b[38;5;28menumerate\u001b[39m(path_opts) \u001b[38;5;28;01mif\u001b[39;00m path)\n\u001b[0;32m    362\u001b[0m \u001b[38;5;28mself\u001b[39m\u001b[38;5;241m.\u001b[39mwrite_debug(\u001b[38;5;124mf\u001b[39m\u001b[38;5;124m'\u001b[39m\u001b[38;5;124mffmpeg command line: \u001b[39m\u001b[38;5;132;01m{\u001b[39;00mshell_quote(cmd)\u001b[38;5;132;01m}\u001b[39;00m\u001b[38;5;124m'\u001b[39m)\n\u001b[1;32m--> 363\u001b[0m _, stderr, returncode \u001b[38;5;241m=\u001b[39m \u001b[43mPopen\u001b[49m\u001b[38;5;241;43m.\u001b[39;49m\u001b[43mrun\u001b[49m\u001b[43m(\u001b[49m\n\u001b[0;32m    364\u001b[0m \u001b[43m    \u001b[49m\u001b[43mcmd\u001b[49m\u001b[43m,\u001b[49m\u001b[43m \u001b[49m\u001b[43mtext\u001b[49m\u001b[38;5;241;43m=\u001b[39;49m\u001b[38;5;28;43;01mTrue\u001b[39;49;00m\u001b[43m,\u001b[49m\u001b[43m \u001b[49m\u001b[43mstdout\u001b[49m\u001b[38;5;241;43m=\u001b[39;49m\u001b[43msubprocess\u001b[49m\u001b[38;5;241;43m.\u001b[39;49m\u001b[43mPIPE\u001b[49m\u001b[43m,\u001b[49m\u001b[43m \u001b[49m\u001b[43mstderr\u001b[49m\u001b[38;5;241;43m=\u001b[39;49m\u001b[43msubprocess\u001b[49m\u001b[38;5;241;43m.\u001b[39;49m\u001b[43mPIPE\u001b[49m\u001b[43m,\u001b[49m\u001b[43m \u001b[49m\u001b[43mstdin\u001b[49m\u001b[38;5;241;43m=\u001b[39;49m\u001b[43msubprocess\u001b[49m\u001b[38;5;241;43m.\u001b[39;49m\u001b[43mPIPE\u001b[49m\u001b[43m)\u001b[49m\n\u001b[0;32m    365\u001b[0m \u001b[38;5;28;01mif\u001b[39;00m returncode \u001b[38;5;129;01mnot\u001b[39;00m \u001b[38;5;129;01min\u001b[39;00m variadic(expected_retcodes):\n\u001b[0;32m    366\u001b[0m     \u001b[38;5;28mself\u001b[39m\u001b[38;5;241m.\u001b[39mwrite_debug(stderr)\n",
      "File \u001b[1;32mc:\\Users\\waral\\AppData\\Local\\Programs\\Python\\Python310\\lib\\site-packages\\yt_dlp\\utils\\_utils.py:909\u001b[0m, in \u001b[0;36mPopen.run\u001b[1;34m(cls, timeout, *args, **kwargs)\u001b[0m\n\u001b[0;32m    907\u001b[0m \u001b[38;5;28;01mwith\u001b[39;00m \u001b[38;5;28mcls\u001b[39m(\u001b[38;5;241m*\u001b[39margs, \u001b[38;5;241m*\u001b[39m\u001b[38;5;241m*\u001b[39mkwargs) \u001b[38;5;28;01mas\u001b[39;00m proc:\n\u001b[0;32m    908\u001b[0m     default \u001b[38;5;241m=\u001b[39m \u001b[38;5;124m'\u001b[39m\u001b[38;5;124m'\u001b[39m \u001b[38;5;28;01mif\u001b[39;00m proc\u001b[38;5;241m.\u001b[39m__text_mode \u001b[38;5;28;01melse\u001b[39;00m \u001b[38;5;124mb\u001b[39m\u001b[38;5;124m'\u001b[39m\u001b[38;5;124m'\u001b[39m\n\u001b[1;32m--> 909\u001b[0m     stdout, stderr \u001b[38;5;241m=\u001b[39m \u001b[43mproc\u001b[49m\u001b[38;5;241;43m.\u001b[39;49m\u001b[43mcommunicate_or_kill\u001b[49m\u001b[43m(\u001b[49m\u001b[43mtimeout\u001b[49m\u001b[38;5;241;43m=\u001b[39;49m\u001b[43mtimeout\u001b[49m\u001b[43m)\u001b[49m\n\u001b[0;32m    910\u001b[0m     \u001b[38;5;28;01mreturn\u001b[39;00m stdout \u001b[38;5;129;01mor\u001b[39;00m default, stderr \u001b[38;5;129;01mor\u001b[39;00m default, proc\u001b[38;5;241m.\u001b[39mreturncode\n",
      "File \u001b[1;32mc:\\Users\\waral\\AppData\\Local\\Programs\\Python\\Python310\\lib\\site-packages\\yt_dlp\\utils\\_utils.py:895\u001b[0m, in \u001b[0;36mPopen.communicate_or_kill\u001b[1;34m(self, *args, **kwargs)\u001b[0m\n\u001b[0;32m    893\u001b[0m \u001b[38;5;28;01mdef\u001b[39;00m\u001b[38;5;250m \u001b[39m\u001b[38;5;21mcommunicate_or_kill\u001b[39m(\u001b[38;5;28mself\u001b[39m, \u001b[38;5;241m*\u001b[39margs, \u001b[38;5;241m*\u001b[39m\u001b[38;5;241m*\u001b[39mkwargs):\n\u001b[0;32m    894\u001b[0m     \u001b[38;5;28;01mtry\u001b[39;00m:\n\u001b[1;32m--> 895\u001b[0m         \u001b[38;5;28;01mreturn\u001b[39;00m \u001b[38;5;28mself\u001b[39m\u001b[38;5;241m.\u001b[39mcommunicate(\u001b[38;5;241m*\u001b[39margs, \u001b[38;5;241m*\u001b[39m\u001b[38;5;241m*\u001b[39mkwargs)\n\u001b[0;32m    896\u001b[0m     \u001b[38;5;28;01mexcept\u001b[39;00m \u001b[38;5;167;01mBaseException\u001b[39;00m:  \u001b[38;5;66;03m# Including KeyboardInterrupt\u001b[39;00m\n\u001b[0;32m    897\u001b[0m         \u001b[38;5;28mself\u001b[39m\u001b[38;5;241m.\u001b[39mkill(timeout\u001b[38;5;241m=\u001b[39m\u001b[38;5;28;01mNone\u001b[39;00m)\n",
      "File \u001b[1;32mc:\\Users\\waral\\AppData\\Local\\Programs\\Python\\Python310\\lib\\subprocess.py:1149\u001b[0m, in \u001b[0;36mPopen.communicate\u001b[1;34m(self, input, timeout)\u001b[0m\n\u001b[0;32m   1146\u001b[0m     endtime \u001b[38;5;241m=\u001b[39m \u001b[38;5;28;01mNone\u001b[39;00m\n\u001b[0;32m   1148\u001b[0m \u001b[38;5;28;01mtry\u001b[39;00m:\n\u001b[1;32m-> 1149\u001b[0m     stdout, stderr \u001b[38;5;241m=\u001b[39m \u001b[38;5;28;43mself\u001b[39;49m\u001b[38;5;241;43m.\u001b[39;49m\u001b[43m_communicate\u001b[49m\u001b[43m(\u001b[49m\u001b[38;5;28;43minput\u001b[39;49m\u001b[43m,\u001b[49m\u001b[43m \u001b[49m\u001b[43mendtime\u001b[49m\u001b[43m,\u001b[49m\u001b[43m \u001b[49m\u001b[43mtimeout\u001b[49m\u001b[43m)\u001b[49m\n\u001b[0;32m   1150\u001b[0m \u001b[38;5;28;01mexcept\u001b[39;00m \u001b[38;5;167;01mKeyboardInterrupt\u001b[39;00m:\n\u001b[0;32m   1151\u001b[0m     \u001b[38;5;66;03m# https://bugs.python.org/issue25942\u001b[39;00m\n\u001b[0;32m   1152\u001b[0m     \u001b[38;5;66;03m# See the detailed comment in .wait().\u001b[39;00m\n\u001b[0;32m   1153\u001b[0m     \u001b[38;5;28;01mif\u001b[39;00m timeout \u001b[38;5;129;01mis\u001b[39;00m \u001b[38;5;129;01mnot\u001b[39;00m \u001b[38;5;28;01mNone\u001b[39;00m:\n",
      "File \u001b[1;32mc:\\Users\\waral\\AppData\\Local\\Programs\\Python\\Python310\\lib\\subprocess.py:1523\u001b[0m, in \u001b[0;36mPopen._communicate\u001b[1;34m(self, input, endtime, orig_timeout)\u001b[0m\n\u001b[0;32m   1519\u001b[0m \u001b[38;5;66;03m# Wait for the reader threads, or time out.  If we time out, the\u001b[39;00m\n\u001b[0;32m   1520\u001b[0m \u001b[38;5;66;03m# threads remain reading and the fds left open in case the user\u001b[39;00m\n\u001b[0;32m   1521\u001b[0m \u001b[38;5;66;03m# calls communicate again.\u001b[39;00m\n\u001b[0;32m   1522\u001b[0m \u001b[38;5;28;01mif\u001b[39;00m \u001b[38;5;28mself\u001b[39m\u001b[38;5;241m.\u001b[39mstdout \u001b[38;5;129;01mis\u001b[39;00m \u001b[38;5;129;01mnot\u001b[39;00m \u001b[38;5;28;01mNone\u001b[39;00m:\n\u001b[1;32m-> 1523\u001b[0m     \u001b[38;5;28;43mself\u001b[39;49m\u001b[38;5;241;43m.\u001b[39;49m\u001b[43mstdout_thread\u001b[49m\u001b[38;5;241;43m.\u001b[39;49m\u001b[43mjoin\u001b[49m\u001b[43m(\u001b[49m\u001b[38;5;28;43mself\u001b[39;49m\u001b[38;5;241;43m.\u001b[39;49m\u001b[43m_remaining_time\u001b[49m\u001b[43m(\u001b[49m\u001b[43mendtime\u001b[49m\u001b[43m)\u001b[49m\u001b[43m)\u001b[49m\n\u001b[0;32m   1524\u001b[0m     \u001b[38;5;28;01mif\u001b[39;00m \u001b[38;5;28mself\u001b[39m\u001b[38;5;241m.\u001b[39mstdout_thread\u001b[38;5;241m.\u001b[39mis_alive():\n\u001b[0;32m   1525\u001b[0m         \u001b[38;5;28;01mraise\u001b[39;00m TimeoutExpired(\u001b[38;5;28mself\u001b[39m\u001b[38;5;241m.\u001b[39margs, orig_timeout)\n",
      "File \u001b[1;32mc:\\Users\\waral\\AppData\\Local\\Programs\\Python\\Python310\\lib\\threading.py:1089\u001b[0m, in \u001b[0;36mThread.join\u001b[1;34m(self, timeout)\u001b[0m\n\u001b[0;32m   1086\u001b[0m     \u001b[38;5;28;01mraise\u001b[39;00m \u001b[38;5;167;01mRuntimeError\u001b[39;00m(\u001b[38;5;124m\"\u001b[39m\u001b[38;5;124mcannot join current thread\u001b[39m\u001b[38;5;124m\"\u001b[39m)\n\u001b[0;32m   1088\u001b[0m \u001b[38;5;28;01mif\u001b[39;00m timeout \u001b[38;5;129;01mis\u001b[39;00m \u001b[38;5;28;01mNone\u001b[39;00m:\n\u001b[1;32m-> 1089\u001b[0m     \u001b[38;5;28;43mself\u001b[39;49m\u001b[38;5;241;43m.\u001b[39;49m\u001b[43m_wait_for_tstate_lock\u001b[49m\u001b[43m(\u001b[49m\u001b[43m)\u001b[49m\n\u001b[0;32m   1090\u001b[0m \u001b[38;5;28;01melse\u001b[39;00m:\n\u001b[0;32m   1091\u001b[0m     \u001b[38;5;66;03m# the behavior of a negative timeout isn't documented, but\u001b[39;00m\n\u001b[0;32m   1092\u001b[0m     \u001b[38;5;66;03m# historically .join(timeout=x) for x<0 has acted as if timeout=0\u001b[39;00m\n\u001b[0;32m   1093\u001b[0m     \u001b[38;5;28mself\u001b[39m\u001b[38;5;241m.\u001b[39m_wait_for_tstate_lock(timeout\u001b[38;5;241m=\u001b[39m\u001b[38;5;28mmax\u001b[39m(timeout, \u001b[38;5;241m0\u001b[39m))\n",
      "File \u001b[1;32mc:\\Users\\waral\\AppData\\Local\\Programs\\Python\\Python310\\lib\\threading.py:1105\u001b[0m, in \u001b[0;36mThread._wait_for_tstate_lock\u001b[1;34m(self, block, timeout)\u001b[0m\n\u001b[0;32m   1103\u001b[0m \u001b[38;5;28;01mif\u001b[39;00m lock \u001b[38;5;129;01mis\u001b[39;00m \u001b[38;5;28;01mNone\u001b[39;00m:  \u001b[38;5;66;03m# already determined that the C code is done\u001b[39;00m\n\u001b[0;32m   1104\u001b[0m     \u001b[38;5;28;01massert\u001b[39;00m \u001b[38;5;28mself\u001b[39m\u001b[38;5;241m.\u001b[39m_is_stopped\n\u001b[1;32m-> 1105\u001b[0m \u001b[38;5;28;01melif\u001b[39;00m \u001b[43mlock\u001b[49m\u001b[38;5;241;43m.\u001b[39;49m\u001b[43macquire\u001b[49m\u001b[43m(\u001b[49m\u001b[43mblock\u001b[49m\u001b[43m,\u001b[49m\u001b[43m \u001b[49m\u001b[43mtimeout\u001b[49m\u001b[43m)\u001b[49m:\n\u001b[0;32m   1106\u001b[0m     lock\u001b[38;5;241m.\u001b[39mrelease()\n\u001b[0;32m   1107\u001b[0m     \u001b[38;5;28mself\u001b[39m\u001b[38;5;241m.\u001b[39m_stop()\n",
      "\u001b[1;31mKeyboardInterrupt\u001b[0m: "
     ]
    }
   ],
   "source": [
    "from pathlib import Path\n",
    "from mamkit.data.datasets import MMUSEDFallacy, InputMode\n",
    "\n",
    "def load_test_split():\n",
    "    # Set base path to your dataset folder\n",
    "    base_data_path = Path.cwd().parent.parent.resolve().joinpath('data')\n",
    "\n",
    "    # Initialize the dataset loader\n",
    "    loader = MMUSEDFallacy(\n",
    "        task_name='afc',  # or 'afc' depending on your setup\n",
    "        input_mode=InputMode.TEXT_ONLY,  # Can also be TEXT_AUDIO or AUDIO_ONLY\n",
    "        base_data_path=base_data_path\n",
    "    )\n",
    "\n",
    "    # Get the train/val/test splits\n",
    "    splits = loader.get_splits('mm-argfallacy-2025')\n",
    "\n",
    "    # Find and return the test split\n",
    "    for split_info in splits:\n",
    "        if split_info.split_name == 'test':\n",
    "            return split_info.dataset\n",
    "\n",
    "    raise ValueError(\"Test split not found.\")\n",
    "\n",
    "# Example usage\n",
    "test_data = load_test_split()\n",
    "print(f\"Test dataset contains {len(test_data.inputs)} samples.\")\n"
   ]
  },
  {
   "cell_type": "markdown",
   "id": "5931b032",
   "metadata": {},
   "source": [
    "====================="
   ]
  },
  {
   "cell_type": "code",
   "execution_count": 15,
   "id": "302d90ce",
   "metadata": {},
   "outputs": [
    {
     "name": "stderr",
     "output_type": "stream",
     "text": [
      "Downloading: https://zenodo.org/api/records/14938117/files-archive: 5.71MB [00:07, 823kB/s] \n",
      "  0%|          | 0/35 [00:00<?, ?it/s]"
     ]
    },
    {
     "name": "stdout",
     "output_type": "stream",
     "text": [
      "[youtube] Extracting URL: https://www.youtube.com/watch?v=_hEeMvhcNlE&t=4579s\n",
      "[youtube] _hEeMvhcNlE: Downloading webpage\n",
      "[youtube] _hEeMvhcNlE: Downloading tv client config\n",
      "[youtube] _hEeMvhcNlE: Downloading player 9599b765\n",
      "[youtube] _hEeMvhcNlE: Downloading tv player API JSON\n",
      "[youtube] _hEeMvhcNlE: Downloading ios player API JSON\n"
     ]
    },
    {
     "name": "stderr",
     "output_type": "stream",
     "text": [
      "WARNING: [youtube] _hEeMvhcNlE: nsig extraction failed: Some formats may be missing\n",
      "         Install PhantomJS to workaround the issue. Please download it from https://phantomjs.org/download.html\n",
      "         n = z_HxBAR-TDxqFnE ; player = https://www.youtube.com/s/player/9599b765/player_ias.vflset/en_US/base.js\n",
      "WARNING: [youtube] _hEeMvhcNlE: nsig extraction failed: Some formats may be missing\n",
      "         Install PhantomJS to workaround the issue. Please download it from https://phantomjs.org/download.html\n",
      "         n = 4DMikeZjeS9dH5y ; player = https://www.youtube.com/s/player/9599b765/player_ias.vflset/en_US/base.js\n",
      "WARNING: [youtube] _hEeMvhcNlE: nsig extraction failed: Some formats may be missing\n",
      "         Install PhantomJS to workaround the issue. Please download it from https://phantomjs.org/download.html\n",
      "         n = stXm1Vbmf08tLxS ; player = https://www.youtube.com/s/player/9599b765/player_ias.vflset/en_US/base.js\n",
      "WARNING: [youtube] _hEeMvhcNlE: nsig extraction failed: Some formats may be missing\n",
      "         Install PhantomJS to workaround the issue. Please download it from https://phantomjs.org/download.html\n",
      "         n = Z8sT9-uKITNKpu6 ; player = https://www.youtube.com/s/player/9599b765/player_ias.vflset/en_US/base.js\n"
     ]
    },
    {
     "name": "stdout",
     "output_type": "stream",
     "text": [
      "[youtube] _hEeMvhcNlE: Downloading m3u8 information\n",
      "[info] _hEeMvhcNlE: Downloading 1 format(s): 234\n",
      "[hlsnative] Downloading m3u8 manifest\n",
      "[hlsnative] Total fragments: 1094\n",
      "[download] Destination: C:\\Users\\waral\\Desktop\\fyp\\MM-ArgFallacy2025\\path_to_downloaded_dataset\\MMUSED-fallacy\\audio_recordings\\30_2004\\full_audio\n",
      "[download] 100% of   90.82MiB in 00:01:05 at 1.39MiB/s                     \n",
      "[ExtractAudio] Destination: C:\\Users\\waral\\Desktop\\fyp\\MM-ArgFallacy2025\\path_to_downloaded_dataset\\MMUSED-fallacy\\audio_recordings\\30_2004\\full_audio.wav\n",
      "Deleting original file C:\\Users\\waral\\Desktop\\fyp\\MM-ArgFallacy2025\\path_to_downloaded_dataset\\MMUSED-fallacy\\audio_recordings\\30_2004\\full_audio (pass -k to keep)\n"
     ]
    },
    {
     "name": "stderr",
     "output_type": "stream",
     "text": [
      "  3%|▎         | 1/35 [01:16<43:14, 76.30s/it]"
     ]
    },
    {
     "name": "stdout",
     "output_type": "stream",
     "text": [
      "[youtube] Extracting URL: https://www.youtube.com/watch?v=xdQK78l3Xhc&t=119s\n",
      "[youtube] xdQK78l3Xhc: Downloading webpage\n",
      "[youtube] xdQK78l3Xhc: Downloading tv client config\n",
      "[youtube] xdQK78l3Xhc: Downloading player 9599b765\n",
      "[youtube] xdQK78l3Xhc: Downloading tv player API JSON\n",
      "[youtube] xdQK78l3Xhc: Downloading ios player API JSON\n"
     ]
    },
    {
     "name": "stderr",
     "output_type": "stream",
     "text": [
      "WARNING: [youtube] xdQK78l3Xhc: nsig extraction failed: Some formats may be missing\n",
      "         Install PhantomJS to workaround the issue. Please download it from https://phantomjs.org/download.html\n",
      "         n = qkKoycPUExc3tHt ; player = https://www.youtube.com/s/player/9599b765/player_ias.vflset/en_US/base.js\n",
      "WARNING: [youtube] xdQK78l3Xhc: nsig extraction failed: Some formats may be missing\n",
      "         Install PhantomJS to workaround the issue. Please download it from https://phantomjs.org/download.html\n",
      "         n = PRmtgC-o4AcfsNU ; player = https://www.youtube.com/s/player/9599b765/player_ias.vflset/en_US/base.js\n",
      "WARNING: [youtube] xdQK78l3Xhc: nsig extraction failed: Some formats may be missing\n",
      "         Install PhantomJS to workaround the issue. Please download it from https://phantomjs.org/download.html\n",
      "         n = YgeC6i0BHYPKKii ; player = https://www.youtube.com/s/player/9599b765/player_ias.vflset/en_US/base.js\n",
      "WARNING: [youtube] xdQK78l3Xhc: nsig extraction failed: Some formats may be missing\n",
      "         Install PhantomJS to workaround the issue. Please download it from https://phantomjs.org/download.html\n",
      "         n = 2BtgUZlCpLq5zVk ; player = https://www.youtube.com/s/player/9599b765/player_ias.vflset/en_US/base.js\n"
     ]
    },
    {
     "name": "stdout",
     "output_type": "stream",
     "text": [
      "[youtube] xdQK78l3Xhc: Downloading m3u8 information\n",
      "[info] xdQK78l3Xhc: Downloading 1 format(s): 234\n",
      "[hlsnative] Downloading m3u8 manifest\n",
      "[hlsnative] Total fragments: 1222\n",
      "[download] Destination: C:\\Users\\waral\\Desktop\\fyp\\MM-ArgFallacy2025\\path_to_downloaded_dataset\\MMUSED-fallacy\\audio_recordings\\5_1976\\full_audio\n",
      "[download] 100% of  112.21MiB in 00:01:11 at 1.56MiB/s                     \n",
      "[ExtractAudio] Destination: C:\\Users\\waral\\Desktop\\fyp\\MM-ArgFallacy2025\\path_to_downloaded_dataset\\MMUSED-fallacy\\audio_recordings\\5_1976\\full_audio.wav\n",
      "Deleting original file C:\\Users\\waral\\Desktop\\fyp\\MM-ArgFallacy2025\\path_to_downloaded_dataset\\MMUSED-fallacy\\audio_recordings\\5_1976\\full_audio (pass -k to keep)\n"
     ]
    },
    {
     "name": "stderr",
     "output_type": "stream",
     "text": [
      "  6%|▌         | 2/35 [02:36<43:22, 78.85s/it]"
     ]
    },
    {
     "name": "stdout",
     "output_type": "stream",
     "text": [
      "[youtube] Extracting URL: https://www.youtube.com/watch?v=HZCcSTz1qLo\n",
      "[youtube] HZCcSTz1qLo: Downloading webpage\n",
      "[youtube] HZCcSTz1qLo: Downloading tv client config\n",
      "[youtube] HZCcSTz1qLo: Downloading player 9599b765\n",
      "[youtube] HZCcSTz1qLo: Downloading tv player API JSON\n",
      "[youtube] HZCcSTz1qLo: Downloading ios player API JSON\n"
     ]
    },
    {
     "name": "stderr",
     "output_type": "stream",
     "text": [
      "WARNING: [youtube] HZCcSTz1qLo: nsig extraction failed: Some formats may be missing\n",
      "         Install PhantomJS to workaround the issue. Please download it from https://phantomjs.org/download.html\n",
      "         n = 0ULexrL49ggGbv9 ; player = https://www.youtube.com/s/player/9599b765/player_ias.vflset/en_US/base.js\n",
      "WARNING: [youtube] HZCcSTz1qLo: nsig extraction failed: Some formats may be missing\n",
      "         Install PhantomJS to workaround the issue. Please download it from https://phantomjs.org/download.html\n",
      "         n = p9wTn81JYWm4jl_ ; player = https://www.youtube.com/s/player/9599b765/player_ias.vflset/en_US/base.js\n",
      "WARNING: [youtube] HZCcSTz1qLo: nsig extraction failed: Some formats may be missing\n",
      "         Install PhantomJS to workaround the issue. Please download it from https://phantomjs.org/download.html\n",
      "         n = IYDGPJDHkIJ3u2u ; player = https://www.youtube.com/s/player/9599b765/player_ias.vflset/en_US/base.js\n",
      "WARNING: [youtube] HZCcSTz1qLo: nsig extraction failed: Some formats may be missing\n",
      "         Install PhantomJS to workaround the issue. Please download it from https://phantomjs.org/download.html\n",
      "         n = lBjDmZ3TwDw5HWs ; player = https://www.youtube.com/s/player/9599b765/player_ias.vflset/en_US/base.js\n"
     ]
    },
    {
     "name": "stdout",
     "output_type": "stream",
     "text": [
      "[youtube] HZCcSTz1qLo: Downloading m3u8 information\n",
      "[info] HZCcSTz1qLo: Downloading 1 format(s): 234\n",
      "[hlsnative] Downloading m3u8 manifest\n",
      "[hlsnative] Total fragments: 920\n",
      "[download] Destination: C:\\Users\\waral\\Desktop\\fyp\\MM-ArgFallacy2025\\path_to_downloaded_dataset\\MMUSED-fallacy\\audio_recordings\\23_1996\\full_audio\n",
      "[download] 100% of   84.58MiB in 00:00:52 at 1.62MiB/s                    \n",
      "[ExtractAudio] Destination: C:\\Users\\waral\\Desktop\\fyp\\MM-ArgFallacy2025\\path_to_downloaded_dataset\\MMUSED-fallacy\\audio_recordings\\23_1996\\full_audio.wav\n",
      "Deleting original file C:\\Users\\waral\\Desktop\\fyp\\MM-ArgFallacy2025\\path_to_downloaded_dataset\\MMUSED-fallacy\\audio_recordings\\23_1996\\full_audio (pass -k to keep)\n"
     ]
    },
    {
     "name": "stderr",
     "output_type": "stream",
     "text": [
      "  9%|▊         | 3/35 [03:36<37:25, 70.16s/it]"
     ]
    },
    {
     "name": "stdout",
     "output_type": "stream",
     "text": [
      "[youtube] Extracting URL: https://www.youtube.com/watch?v=fj5A38gKHfk\n",
      "[youtube] fj5A38gKHfk: Downloading webpage\n",
      "[youtube] fj5A38gKHfk: Downloading tv client config\n",
      "[youtube] fj5A38gKHfk: Downloading player 9599b765\n",
      "[youtube] fj5A38gKHfk: Downloading tv player API JSON\n",
      "[youtube] fj5A38gKHfk: Downloading ios player API JSON\n"
     ]
    },
    {
     "name": "stderr",
     "output_type": "stream",
     "text": [
      "WARNING: [youtube] fj5A38gKHfk: nsig extraction failed: Some formats may be missing\n",
      "         Install PhantomJS to workaround the issue. Please download it from https://phantomjs.org/download.html\n",
      "         n = uVLMEqmJ41niKNv ; player = https://www.youtube.com/s/player/9599b765/player_ias.vflset/en_US/base.js\n",
      "WARNING: [youtube] fj5A38gKHfk: nsig extraction failed: Some formats may be missing\n",
      "         Install PhantomJS to workaround the issue. Please download it from https://phantomjs.org/download.html\n",
      "         n = BRH7m9eCIDmpEo3 ; player = https://www.youtube.com/s/player/9599b765/player_ias.vflset/en_US/base.js\n",
      "WARNING: [youtube] fj5A38gKHfk: nsig extraction failed: Some formats may be missing\n",
      "         Install PhantomJS to workaround the issue. Please download it from https://phantomjs.org/download.html\n",
      "         n = XVKBjM0tXHq9KHL ; player = https://www.youtube.com/s/player/9599b765/player_ias.vflset/en_US/base.js\n",
      "WARNING: [youtube] fj5A38gKHfk: nsig extraction failed: Some formats may be missing\n",
      "         Install PhantomJS to workaround the issue. Please download it from https://phantomjs.org/download.html\n",
      "         n = Chrg6Iktm9VEaoW ; player = https://www.youtube.com/s/player/9599b765/player_ias.vflset/en_US/base.js\n"
     ]
    },
    {
     "name": "stdout",
     "output_type": "stream",
     "text": [
      "[youtube] fj5A38gKHfk: Downloading m3u8 information\n",
      "[info] fj5A38gKHfk: Downloading 1 format(s): 234\n",
      "[hlsnative] Downloading m3u8 manifest\n",
      "[hlsnative] Total fragments: 894\n",
      "[download] Destination: C:\\Users\\waral\\Desktop\\fyp\\MM-ArgFallacy2025\\path_to_downloaded_dataset\\MMUSED-fallacy\\audio_recordings\\6_1976\\full_audio\n",
      "[download] 100% of   82.08MiB in 00:00:54 at 1.50MiB/s                    \n",
      "[ExtractAudio] Destination: C:\\Users\\waral\\Desktop\\fyp\\MM-ArgFallacy2025\\path_to_downloaded_dataset\\MMUSED-fallacy\\audio_recordings\\6_1976\\full_audio.wav\n",
      "Deleting original file C:\\Users\\waral\\Desktop\\fyp\\MM-ArgFallacy2025\\path_to_downloaded_dataset\\MMUSED-fallacy\\audio_recordings\\6_1976\\full_audio (pass -k to keep)\n"
     ]
    },
    {
     "name": "stderr",
     "output_type": "stream",
     "text": [
      " 11%|█▏        | 4/35 [04:43<35:33, 68.81s/it]"
     ]
    },
    {
     "name": "stdout",
     "output_type": "stream",
     "text": [
      "[youtube] Extracting URL: https://www.youtube.com/watch?v=4b7NfEZWBzw\n",
      "[youtube] 4b7NfEZWBzw: Downloading webpage\n",
      "[youtube] 4b7NfEZWBzw: Downloading tv client config\n",
      "[youtube] 4b7NfEZWBzw: Downloading player 9599b765\n",
      "[youtube] 4b7NfEZWBzw: Downloading tv player API JSON\n",
      "[youtube] 4b7NfEZWBzw: Downloading ios player API JSON\n"
     ]
    },
    {
     "name": "stderr",
     "output_type": "stream",
     "text": [
      "WARNING: [youtube] 4b7NfEZWBzw: nsig extraction failed: Some formats may be missing\n",
      "         Install PhantomJS to workaround the issue. Please download it from https://phantomjs.org/download.html\n",
      "         n = w7gujUiYmsXy6qa ; player = https://www.youtube.com/s/player/9599b765/player_ias.vflset/en_US/base.js\n",
      "WARNING: [youtube] 4b7NfEZWBzw: nsig extraction failed: Some formats may be missing\n",
      "         Install PhantomJS to workaround the issue. Please download it from https://phantomjs.org/download.html\n",
      "         n = 3rLhRuxobA5iKAI ; player = https://www.youtube.com/s/player/9599b765/player_ias.vflset/en_US/base.js\n",
      "WARNING: [youtube] 4b7NfEZWBzw: nsig extraction failed: Some formats may be missing\n",
      "         Install PhantomJS to workaround the issue. Please download it from https://phantomjs.org/download.html\n",
      "         n = dsp78BW9dAiHuso ; player = https://www.youtube.com/s/player/9599b765/player_ias.vflset/en_US/base.js\n",
      "WARNING: [youtube] 4b7NfEZWBzw: nsig extraction failed: Some formats may be missing\n",
      "         Install PhantomJS to workaround the issue. Please download it from https://phantomjs.org/download.html\n",
      "         n = eqicPG_G1KVe9V6 ; player = https://www.youtube.com/s/player/9599b765/player_ias.vflset/en_US/base.js\n"
     ]
    },
    {
     "name": "stdout",
     "output_type": "stream",
     "text": [
      "[youtube] 4b7NfEZWBzw: Downloading m3u8 information\n",
      "[info] 4b7NfEZWBzw: Downloading 1 format(s): 234\n",
      "[hlsnative] Downloading m3u8 manifest\n",
      "[hlsnative] Total fragments: 1056\n",
      "[download] Destination: C:\\Users\\waral\\Desktop\\fyp\\MM-ArgFallacy2025\\path_to_downloaded_dataset\\MMUSED-fallacy\\audio_recordings\\33_2008\\full_audio\n",
      "[download] 100% of   89.75MiB in 00:03:27 at 442.34KiB/s                    \n",
      "[ExtractAudio] Destination: C:\\Users\\waral\\Desktop\\fyp\\MM-ArgFallacy2025\\path_to_downloaded_dataset\\MMUSED-fallacy\\audio_recordings\\33_2008\\full_audio.wav\n",
      "Deleting original file C:\\Users\\waral\\Desktop\\fyp\\MM-ArgFallacy2025\\path_to_downloaded_dataset\\MMUSED-fallacy\\audio_recordings\\33_2008\\full_audio (pass -k to keep)\n"
     ]
    },
    {
     "name": "stderr",
     "output_type": "stream",
     "text": [
      " 14%|█▍        | 5/35 [08:28<1:02:36, 125.23s/it]"
     ]
    },
    {
     "name": "stdout",
     "output_type": "stream",
     "text": [
      "[youtube] Extracting URL: https://www.youtube.com/watch?v=vRQhXooojjY\n",
      "[youtube] vRQhXooojjY: Downloading webpage\n",
      "[youtube] vRQhXooojjY: Downloading tv client config\n",
      "[youtube] vRQhXooojjY: Downloading player 9599b765\n",
      "[youtube] vRQhXooojjY: Downloading tv player API JSON\n",
      "[youtube] vRQhXooojjY: Downloading ios player API JSON\n"
     ]
    },
    {
     "name": "stderr",
     "output_type": "stream",
     "text": [
      "WARNING: [youtube] vRQhXooojjY: nsig extraction failed: Some formats may be missing\n",
      "         Install PhantomJS to workaround the issue. Please download it from https://phantomjs.org/download.html\n",
      "         n = VtWzKj1XlsVcqbz ; player = https://www.youtube.com/s/player/9599b765/player_ias.vflset/en_US/base.js\n",
      "WARNING: [youtube] vRQhXooojjY: nsig extraction failed: Some formats may be missing\n",
      "         Install PhantomJS to workaround the issue. Please download it from https://phantomjs.org/download.html\n",
      "         n = 0AQyKTolCOOBQhk ; player = https://www.youtube.com/s/player/9599b765/player_ias.vflset/en_US/base.js\n",
      "WARNING: [youtube] vRQhXooojjY: nsig extraction failed: Some formats may be missing\n",
      "         Install PhantomJS to workaround the issue. Please download it from https://phantomjs.org/download.html\n",
      "         n = _aLdc1QtUGiOas4 ; player = https://www.youtube.com/s/player/9599b765/player_ias.vflset/en_US/base.js\n",
      "WARNING: [youtube] vRQhXooojjY: nsig extraction failed: Some formats may be missing\n",
      "         Install PhantomJS to workaround the issue. Please download it from https://phantomjs.org/download.html\n",
      "         n = dA8Xvx4CwlcprRU ; player = https://www.youtube.com/s/player/9599b765/player_ias.vflset/en_US/base.js\n"
     ]
    },
    {
     "name": "stdout",
     "output_type": "stream",
     "text": [
      "[youtube] vRQhXooojjY: Downloading m3u8 information\n",
      "[info] vRQhXooojjY: Downloading 1 format(s): 234\n",
      "[hlsnative] Downloading m3u8 manifest\n",
      "[hlsnative] Total fragments: 996\n",
      "[download] Destination: C:\\Users\\waral\\Desktop\\fyp\\MM-ArgFallacy2025\\path_to_downloaded_dataset\\MMUSED-fallacy\\audio_recordings\\36_2008\\full_audio\n",
      "[download] 100% of   84.03MiB in 00:00:59 at 1.41MiB/s                    \n",
      "[ExtractAudio] Destination: C:\\Users\\waral\\Desktop\\fyp\\MM-ArgFallacy2025\\path_to_downloaded_dataset\\MMUSED-fallacy\\audio_recordings\\36_2008\\full_audio.wav\n",
      "Deleting original file C:\\Users\\waral\\Desktop\\fyp\\MM-ArgFallacy2025\\path_to_downloaded_dataset\\MMUSED-fallacy\\audio_recordings\\36_2008\\full_audio (pass -k to keep)\n"
     ]
    },
    {
     "name": "stderr",
     "output_type": "stream",
     "text": [
      " 17%|█▋        | 6/35 [09:43<52:15, 108.10s/it]  "
     ]
    },
    {
     "name": "stdout",
     "output_type": "stream",
     "text": [
      "[youtube] Extracting URL: https://www.youtube.com/watch?v=fE61QJ3-GG8\n",
      "[youtube] fE61QJ3-GG8: Downloading webpage\n",
      "[youtube] fE61QJ3-GG8: Downloading tv client config\n",
      "[youtube] fE61QJ3-GG8: Downloading player 9599b765\n",
      "[youtube] fE61QJ3-GG8: Downloading tv player API JSON\n",
      "[youtube] fE61QJ3-GG8: Downloading ios player API JSON\n"
     ]
    },
    {
     "name": "stderr",
     "output_type": "stream",
     "text": [
      "WARNING: [youtube] fE61QJ3-GG8: nsig extraction failed: Some formats may be missing\n",
      "         Install PhantomJS to workaround the issue. Please download it from https://phantomjs.org/download.html\n",
      "         n = CrKA3y261r-VN-p ; player = https://www.youtube.com/s/player/9599b765/player_ias.vflset/en_US/base.js\n",
      "WARNING: [youtube] fE61QJ3-GG8: nsig extraction failed: Some formats may be missing\n",
      "         Install PhantomJS to workaround the issue. Please download it from https://phantomjs.org/download.html\n",
      "         n = iKEgshrK6ZRpMFi ; player = https://www.youtube.com/s/player/9599b765/player_ias.vflset/en_US/base.js\n",
      "WARNING: [youtube] fE61QJ3-GG8: nsig extraction failed: Some formats may be missing\n",
      "         Install PhantomJS to workaround the issue. Please download it from https://phantomjs.org/download.html\n",
      "         n = MAgGzBAjYnyfkSk ; player = https://www.youtube.com/s/player/9599b765/player_ias.vflset/en_US/base.js\n",
      "WARNING: [youtube] fE61QJ3-GG8: nsig extraction failed: Some formats may be missing\n",
      "         Install PhantomJS to workaround the issue. Please download it from https://phantomjs.org/download.html\n",
      "         n = e3I8WiBnATQDAc6 ; player = https://www.youtube.com/s/player/9599b765/player_ias.vflset/en_US/base.js\n"
     ]
    },
    {
     "name": "stdout",
     "output_type": "stream",
     "text": [
      "[youtube] fE61QJ3-GG8: Downloading m3u8 information\n",
      "[info] fE61QJ3-GG8: Downloading 1 format(s): 234\n",
      "[hlsnative] Downloading m3u8 manifest\n",
      "[hlsnative] Total fragments: 705\n",
      "[download] Destination: C:\\Users\\waral\\Desktop\\fyp\\MM-ArgFallacy2025\\path_to_downloaded_dataset\\MMUSED-fallacy\\audio_recordings\\2_1960\\full_audio\n",
      "[download] 100% of   55.00MiB in 00:00:37 at 1.46MiB/s                    \n",
      "[ExtractAudio] Destination: C:\\Users\\waral\\Desktop\\fyp\\MM-ArgFallacy2025\\path_to_downloaded_dataset\\MMUSED-fallacy\\audio_recordings\\2_1960\\full_audio.wav\n",
      "Deleting original file C:\\Users\\waral\\Desktop\\fyp\\MM-ArgFallacy2025\\path_to_downloaded_dataset\\MMUSED-fallacy\\audio_recordings\\2_1960\\full_audio (pass -k to keep)\n"
     ]
    },
    {
     "name": "stderr",
     "output_type": "stream",
     "text": [
      " 20%|██        | 7/35 [10:29<40:57, 87.76s/it] "
     ]
    },
    {
     "name": "stdout",
     "output_type": "stream",
     "text": [
      "[youtube] Extracting URL: https://www.youtube.com/watch?v=fVj2llCwJtE\n",
      "[youtube] fVj2llCwJtE: Downloading webpage\n",
      "[youtube] fVj2llCwJtE: Downloading tv client config\n",
      "[youtube] fVj2llCwJtE: Downloading player 9599b765\n",
      "[youtube] fVj2llCwJtE: Downloading tv player API JSON\n",
      "[youtube] fVj2llCwJtE: Downloading ios player API JSON\n"
     ]
    },
    {
     "name": "stderr",
     "output_type": "stream",
     "text": [
      "WARNING: [youtube] fVj2llCwJtE: nsig extraction failed: Some formats may be missing\n",
      "         Install PhantomJS to workaround the issue. Please download it from https://phantomjs.org/download.html\n",
      "         n = WvMQ3-RuGYJkJBy ; player = https://www.youtube.com/s/player/9599b765/player_ias.vflset/en_US/base.js\n",
      "WARNING: [youtube] fVj2llCwJtE: nsig extraction failed: Some formats may be missing\n",
      "         Install PhantomJS to workaround the issue. Please download it from https://phantomjs.org/download.html\n",
      "         n = Anhqhaq-V6g8qjs ; player = https://www.youtube.com/s/player/9599b765/player_ias.vflset/en_US/base.js\n",
      "WARNING: [youtube] fVj2llCwJtE: nsig extraction failed: Some formats may be missing\n",
      "         Install PhantomJS to workaround the issue. Please download it from https://phantomjs.org/download.html\n",
      "         n = YzLSITlYnUHrChc ; player = https://www.youtube.com/s/player/9599b765/player_ias.vflset/en_US/base.js\n",
      "WARNING: [youtube] fVj2llCwJtE: nsig extraction failed: Some formats may be missing\n",
      "         Install PhantomJS to workaround the issue. Please download it from https://phantomjs.org/download.html\n",
      "         n = ylBQr28gxeFbDut ; player = https://www.youtube.com/s/player/9599b765/player_ias.vflset/en_US/base.js\n"
     ]
    },
    {
     "name": "stdout",
     "output_type": "stream",
     "text": [
      "[youtube] fVj2llCwJtE: Downloading m3u8 information\n",
      "[info] fVj2llCwJtE: Downloading 1 format(s): 234\n",
      "[hlsnative] Downloading m3u8 manifest\n",
      "[hlsnative] Total fragments: 611\n",
      "[download] Destination: C:\\Users\\waral\\Desktop\\fyp\\MM-ArgFallacy2025\\path_to_downloaded_dataset\\MMUSED-fallacy\\audio_recordings\\8_1980\\full_audio\n",
      "[download] 100% of   56.65MiB in 00:00:42 at 1.33MiB/s                    \n",
      "[ExtractAudio] Destination: C:\\Users\\waral\\Desktop\\fyp\\MM-ArgFallacy2025\\path_to_downloaded_dataset\\MMUSED-fallacy\\audio_recordings\\8_1980\\full_audio.wav\n",
      "Deleting original file C:\\Users\\waral\\Desktop\\fyp\\MM-ArgFallacy2025\\path_to_downloaded_dataset\\MMUSED-fallacy\\audio_recordings\\8_1980\\full_audio (pass -k to keep)\n"
     ]
    },
    {
     "name": "stderr",
     "output_type": "stream",
     "text": [
      " 23%|██▎       | 8/35 [11:18<33:53, 75.31s/it]"
     ]
    },
    {
     "name": "stdout",
     "output_type": "stream",
     "text": [
      "[youtube] Extracting URL: https://www.youtube.com/watch?v=V0ppjZvvgDU\n",
      "[youtube] V0ppjZvvgDU: Downloading webpage\n",
      "[youtube] V0ppjZvvgDU: Downloading tv client config\n",
      "[youtube] V0ppjZvvgDU: Downloading player 9599b765\n",
      "[youtube] V0ppjZvvgDU: Downloading tv player API JSON\n",
      "[youtube] V0ppjZvvgDU: Downloading ios player API JSON\n"
     ]
    },
    {
     "name": "stderr",
     "output_type": "stream",
     "text": [
      "WARNING: [youtube] V0ppjZvvgDU: nsig extraction failed: Some formats may be missing\n",
      "         Install PhantomJS to workaround the issue. Please download it from https://phantomjs.org/download.html\n",
      "         n = vJbNQePfLFOINPb ; player = https://www.youtube.com/s/player/9599b765/player_ias.vflset/en_US/base.js\n",
      "WARNING: [youtube] V0ppjZvvgDU: nsig extraction failed: Some formats may be missing\n",
      "         Install PhantomJS to workaround the issue. Please download it from https://phantomjs.org/download.html\n",
      "         n = lQXPEdb4XwL3Ngz ; player = https://www.youtube.com/s/player/9599b765/player_ias.vflset/en_US/base.js\n",
      "WARNING: [youtube] V0ppjZvvgDU: nsig extraction failed: Some formats may be missing\n",
      "         Install PhantomJS to workaround the issue. Please download it from https://phantomjs.org/download.html\n",
      "         n = WElUDSZsoyt4azg ; player = https://www.youtube.com/s/player/9599b765/player_ias.vflset/en_US/base.js\n",
      "WARNING: [youtube] V0ppjZvvgDU: nsig extraction failed: Some formats may be missing\n",
      "         Install PhantomJS to workaround the issue. Please download it from https://phantomjs.org/download.html\n",
      "         n = uaqYxM2u57gbFmR ; player = https://www.youtube.com/s/player/9599b765/player_ias.vflset/en_US/base.js\n"
     ]
    },
    {
     "name": "stdout",
     "output_type": "stream",
     "text": [
      "[youtube] V0ppjZvvgDU: Downloading m3u8 information\n",
      "[info] V0ppjZvvgDU: Downloading 1 format(s): 234\n",
      "[hlsnative] Downloading m3u8 manifest\n",
      "[hlsnative] Total fragments: 1050\n",
      "[download] Destination: C:\\Users\\waral\\Desktop\\fyp\\MM-ArgFallacy2025\\path_to_downloaded_dataset\\MMUSED-fallacy\\audio_recordings\\35_2008\\full_audio\n",
      "[download] 100% of   87.21MiB in 00:01:20 at 1.09MiB/s                     \n",
      "[ExtractAudio] Destination: C:\\Users\\waral\\Desktop\\fyp\\MM-ArgFallacy2025\\path_to_downloaded_dataset\\MMUSED-fallacy\\audio_recordings\\35_2008\\full_audio.wav\n",
      "Deleting original file C:\\Users\\waral\\Desktop\\fyp\\MM-ArgFallacy2025\\path_to_downloaded_dataset\\MMUSED-fallacy\\audio_recordings\\35_2008\\full_audio (pass -k to keep)\n"
     ]
    },
    {
     "name": "stderr",
     "output_type": "stream",
     "text": [
      " 26%|██▌       | 9/35 [12:50<34:59, 80.76s/it]"
     ]
    },
    {
     "name": "stdout",
     "output_type": "stream",
     "text": [
      "[youtube] Extracting URL: https://www.youtube.com/watch?v=5SbsCaRYW6w\n",
      "[youtube] 5SbsCaRYW6w: Downloading webpage\n",
      "[youtube] 5SbsCaRYW6w: Downloading tv client config\n",
      "[youtube] 5SbsCaRYW6w: Downloading player 9599b765\n",
      "[youtube] 5SbsCaRYW6w: Downloading tv player API JSON\n",
      "[youtube] 5SbsCaRYW6w: Downloading ios player API JSON\n"
     ]
    },
    {
     "name": "stderr",
     "output_type": "stream",
     "text": [
      "WARNING: [youtube] 5SbsCaRYW6w: nsig extraction failed: Some formats may be missing\n",
      "         Install PhantomJS to workaround the issue. Please download it from https://phantomjs.org/download.html\n",
      "         n = WLuU26scmZSiRQo ; player = https://www.youtube.com/s/player/9599b765/player_ias.vflset/en_US/base.js\n",
      "WARNING: [youtube] 5SbsCaRYW6w: nsig extraction failed: Some formats may be missing\n",
      "         Install PhantomJS to workaround the issue. Please download it from https://phantomjs.org/download.html\n",
      "         n = 4Xbi9xFl1-gZX7u ; player = https://www.youtube.com/s/player/9599b765/player_ias.vflset/en_US/base.js\n",
      "WARNING: [youtube] 5SbsCaRYW6w: nsig extraction failed: Some formats may be missing\n",
      "         Install PhantomJS to workaround the issue. Please download it from https://phantomjs.org/download.html\n",
      "         n = 6PF4rEf70BFxOju ; player = https://www.youtube.com/s/player/9599b765/player_ias.vflset/en_US/base.js\n",
      "WARNING: [youtube] 5SbsCaRYW6w: nsig extraction failed: Some formats may be missing\n",
      "         Install PhantomJS to workaround the issue. Please download it from https://phantomjs.org/download.html\n",
      "         n = xu-biN_B89pY6iG ; player = https://www.youtube.com/s/player/9599b765/player_ias.vflset/en_US/base.js\n"
     ]
    },
    {
     "name": "stdout",
     "output_type": "stream",
     "text": [
      "[youtube] 5SbsCaRYW6w: Downloading m3u8 information\n",
      "[info] 5SbsCaRYW6w: Downloading 1 format(s): 234\n",
      "[hlsnative] Downloading m3u8 manifest\n",
      "[hlsnative] Total fragments: 1031\n",
      "[download] Destination: C:\\Users\\waral\\Desktop\\fyp\\MM-ArgFallacy2025\\path_to_downloaded_dataset\\MMUSED-fallacy\\audio_recordings\\12_1984\\full_audio\n",
      "[download] 100% of   81.32MiB in 00:01:01 at 1.33MiB/s                     \n",
      "[ExtractAudio] Destination: C:\\Users\\waral\\Desktop\\fyp\\MM-ArgFallacy2025\\path_to_downloaded_dataset\\MMUSED-fallacy\\audio_recordings\\12_1984\\full_audio.wav\n",
      "Deleting original file C:\\Users\\waral\\Desktop\\fyp\\MM-ArgFallacy2025\\path_to_downloaded_dataset\\MMUSED-fallacy\\audio_recordings\\12_1984\\full_audio (pass -k to keep)\n"
     ]
    },
    {
     "name": "stderr",
     "output_type": "stream",
     "text": [
      " 29%|██▊       | 10/35 [14:04<32:45, 78.63s/it]"
     ]
    },
    {
     "name": "stdout",
     "output_type": "stream",
     "text": [
      "[youtube] Extracting URL: https://www.youtube.com/watch?v=BIq_mW-nSnQ\n",
      "[youtube] BIq_mW-nSnQ: Downloading webpage\n",
      "[youtube] BIq_mW-nSnQ: Downloading tv client config\n",
      "[youtube] BIq_mW-nSnQ: Downloading player 9599b765\n",
      "[youtube] BIq_mW-nSnQ: Downloading tv player API JSON\n",
      "[youtube] BIq_mW-nSnQ: Downloading ios player API JSON\n"
     ]
    },
    {
     "name": "stderr",
     "output_type": "stream",
     "text": [
      "WARNING: [youtube] BIq_mW-nSnQ: nsig extraction failed: Some formats may be missing\n",
      "         Install PhantomJS to workaround the issue. Please download it from https://phantomjs.org/download.html\n",
      "         n = 4wgyUx4fURCYwHk ; player = https://www.youtube.com/s/player/9599b765/player_ias.vflset/en_US/base.js\n",
      "WARNING: [youtube] BIq_mW-nSnQ: nsig extraction failed: Some formats may be missing\n",
      "         Install PhantomJS to workaround the issue. Please download it from https://phantomjs.org/download.html\n",
      "         n = Vb6zbuhCbRX-RH9 ; player = https://www.youtube.com/s/player/9599b765/player_ias.vflset/en_US/base.js\n",
      "WARNING: [youtube] BIq_mW-nSnQ: nsig extraction failed: Some formats may be missing\n",
      "         Install PhantomJS to workaround the issue. Please download it from https://phantomjs.org/download.html\n",
      "         n = r4Jl26z5Hgv9-I8 ; player = https://www.youtube.com/s/player/9599b765/player_ias.vflset/en_US/base.js\n",
      "WARNING: [youtube] BIq_mW-nSnQ: nsig extraction failed: Some formats may be missing\n",
      "         Install PhantomJS to workaround the issue. Please download it from https://phantomjs.org/download.html\n",
      "         n = EK--xXG6QENjqCL ; player = https://www.youtube.com/s/player/9599b765/player_ias.vflset/en_US/base.js\n"
     ]
    },
    {
     "name": "stdout",
     "output_type": "stream",
     "text": [
      "[youtube] BIq_mW-nSnQ: Downloading m3u8 information\n",
      "[info] BIq_mW-nSnQ: Downloading 1 format(s): 234\n",
      "[hlsnative] Downloading m3u8 manifest\n",
      "[hlsnative] Total fragments: 907\n",
      "[download] Destination: C:\\Users\\waral\\Desktop\\fyp\\MM-ArgFallacy2025\\path_to_downloaded_dataset\\MMUSED-fallacy\\audio_recordings\\18_1992\\full_audio\n",
      "[download] 100% of   83.38MiB in 00:00:54 at 1.53MiB/s                    \n",
      "[ExtractAudio] Destination: C:\\Users\\waral\\Desktop\\fyp\\MM-ArgFallacy2025\\path_to_downloaded_dataset\\MMUSED-fallacy\\audio_recordings\\18_1992\\full_audio.wav\n",
      "Deleting original file C:\\Users\\waral\\Desktop\\fyp\\MM-ArgFallacy2025\\path_to_downloaded_dataset\\MMUSED-fallacy\\audio_recordings\\18_1992\\full_audio (pass -k to keep)\n"
     ]
    },
    {
     "name": "stderr",
     "output_type": "stream",
     "text": [
      " 31%|███▏      | 11/35 [15:06<29:21, 73.40s/it]"
     ]
    },
    {
     "name": "stdout",
     "output_type": "stream",
     "text": [
      "[youtube] Extracting URL: https://www.youtube.com/watch?v=cIHRMoVKXb0\n",
      "[youtube] cIHRMoVKXb0: Downloading webpage\n",
      "[youtube] cIHRMoVKXb0: Downloading tv client config\n",
      "[youtube] cIHRMoVKXb0: Downloading player 9599b765\n",
      "[youtube] cIHRMoVKXb0: Downloading tv player API JSON\n",
      "[youtube] cIHRMoVKXb0: Downloading ios player API JSON\n"
     ]
    },
    {
     "name": "stderr",
     "output_type": "stream",
     "text": [
      "WARNING: [youtube] cIHRMoVKXb0: nsig extraction failed: Some formats may be missing\n",
      "         Install PhantomJS to workaround the issue. Please download it from https://phantomjs.org/download.html\n",
      "         n = ierg8Qvm9v0wahm ; player = https://www.youtube.com/s/player/9599b765/player_ias.vflset/en_US/base.js\n",
      "WARNING: [youtube] cIHRMoVKXb0: nsig extraction failed: Some formats may be missing\n",
      "         Install PhantomJS to workaround the issue. Please download it from https://phantomjs.org/download.html\n",
      "         n = ePiIAb1ORcZ6YJI ; player = https://www.youtube.com/s/player/9599b765/player_ias.vflset/en_US/base.js\n",
      "WARNING: [youtube] cIHRMoVKXb0: nsig extraction failed: Some formats may be missing\n",
      "         Install PhantomJS to workaround the issue. Please download it from https://phantomjs.org/download.html\n",
      "         n = KUr0d4eSKEo-Psi ; player = https://www.youtube.com/s/player/9599b765/player_ias.vflset/en_US/base.js\n",
      "WARNING: [youtube] cIHRMoVKXb0: nsig extraction failed: Some formats may be missing\n",
      "         Install PhantomJS to workaround the issue. Please download it from https://phantomjs.org/download.html\n",
      "         n = wzqaaR2MsrM0WBd ; player = https://www.youtube.com/s/player/9599b765/player_ias.vflset/en_US/base.js\n"
     ]
    },
    {
     "name": "stdout",
     "output_type": "stream",
     "text": [
      "[youtube] cIHRMoVKXb0: Downloading m3u8 information\n",
      "[info] cIHRMoVKXb0: Downloading 1 format(s): 234\n",
      "[hlsnative] Downloading m3u8 manifest\n",
      "[hlsnative] Total fragments: 1006\n",
      "[download] Destination: C:\\Users\\waral\\Desktop\\fyp\\MM-ArgFallacy2025\\path_to_downloaded_dataset\\MMUSED-fallacy\\audio_recordings\\32_2004\\full_audio\n",
      "[download] 100% of   83.54MiB in 00:01:15 at 1.10MiB/s                     \n",
      "[ExtractAudio] Destination: C:\\Users\\waral\\Desktop\\fyp\\MM-ArgFallacy2025\\path_to_downloaded_dataset\\MMUSED-fallacy\\audio_recordings\\32_2004\\full_audio.wav\n",
      "Deleting original file C:\\Users\\waral\\Desktop\\fyp\\MM-ArgFallacy2025\\path_to_downloaded_dataset\\MMUSED-fallacy\\audio_recordings\\32_2004\\full_audio (pass -k to keep)\n"
     ]
    },
    {
     "name": "stderr",
     "output_type": "stream",
     "text": [
      " 34%|███▍      | 12/35 [16:33<29:42, 77.51s/it]"
     ]
    },
    {
     "name": "stdout",
     "output_type": "stream",
     "text": [
      "[youtube] Extracting URL: https://www.youtube.com/watch?v=WYpP-T0IcyA\n",
      "[youtube] WYpP-T0IcyA: Downloading webpage\n",
      "[youtube] WYpP-T0IcyA: Downloading tv client config\n",
      "[youtube] WYpP-T0IcyA: Downloading player 9599b765\n",
      "[youtube] WYpP-T0IcyA: Downloading tv player API JSON\n",
      "[youtube] WYpP-T0IcyA: Downloading ios player API JSON\n"
     ]
    },
    {
     "name": "stderr",
     "output_type": "stream",
     "text": [
      "WARNING: [youtube] WYpP-T0IcyA: nsig extraction failed: Some formats may be missing\n",
      "         Install PhantomJS to workaround the issue. Please download it from https://phantomjs.org/download.html\n",
      "         n = MR92mtppyYI8uXh ; player = https://www.youtube.com/s/player/9599b765/player_ias.vflset/en_US/base.js\n",
      "WARNING: [youtube] WYpP-T0IcyA: nsig extraction failed: Some formats may be missing\n",
      "         Install PhantomJS to workaround the issue. Please download it from https://phantomjs.org/download.html\n",
      "         n = F9__xsxyxhN_46o ; player = https://www.youtube.com/s/player/9599b765/player_ias.vflset/en_US/base.js\n",
      "WARNING: [youtube] WYpP-T0IcyA: nsig extraction failed: Some formats may be missing\n",
      "         Install PhantomJS to workaround the issue. Please download it from https://phantomjs.org/download.html\n",
      "         n = NhqLSiqBDOHaaTq ; player = https://www.youtube.com/s/player/9599b765/player_ias.vflset/en_US/base.js\n",
      "WARNING: [youtube] WYpP-T0IcyA: nsig extraction failed: Some formats may be missing\n",
      "         Install PhantomJS to workaround the issue. Please download it from https://phantomjs.org/download.html\n",
      "         n = m6kQMRmlVcC_aRm ; player = https://www.youtube.com/s/player/9599b765/player_ias.vflset/en_US/base.js\n"
     ]
    },
    {
     "name": "stdout",
     "output_type": "stream",
     "text": [
      "[youtube] WYpP-T0IcyA: Downloading m3u8 information\n",
      "[info] WYpP-T0IcyA: Downloading 1 format(s): 234\n",
      "[hlsnative] Downloading m3u8 manifest\n",
      "[hlsnative] Total fragments: 1073\n",
      "[download] Destination: C:\\Users\\waral\\Desktop\\fyp\\MM-ArgFallacy2025\\path_to_downloaded_dataset\\MMUSED-fallacy\\audio_recordings\\29_2004\\full_audio\n",
      "[download] 100% of   83.50MiB in 00:00:54 at 1.54MiB/s                     \n",
      "[ExtractAudio] Destination: C:\\Users\\waral\\Desktop\\fyp\\MM-ArgFallacy2025\\path_to_downloaded_dataset\\MMUSED-fallacy\\audio_recordings\\29_2004\\full_audio.wav\n",
      "Deleting original file C:\\Users\\waral\\Desktop\\fyp\\MM-ArgFallacy2025\\path_to_downloaded_dataset\\MMUSED-fallacy\\audio_recordings\\29_2004\\full_audio (pass -k to keep)\n"
     ]
    },
    {
     "name": "stderr",
     "output_type": "stream",
     "text": [
      " 37%|███▋      | 13/35 [17:34<26:36, 72.59s/it]"
     ]
    },
    {
     "name": "stdout",
     "output_type": "stream",
     "text": [
      "[youtube] Extracting URL: https://www.youtube.com/watch?v=-9cdRpE4KKc&t=5s\n",
      "[youtube] -9cdRpE4KKc: Downloading webpage\n",
      "[youtube] -9cdRpE4KKc: Downloading tv client config\n",
      "[youtube] -9cdRpE4KKc: Downloading player 179bab65\n",
      "[youtube] -9cdRpE4KKc: Downloading tv player API JSON\n",
      "[youtube] -9cdRpE4KKc: Downloading ios player API JSON\n"
     ]
    },
    {
     "name": "stderr",
     "output_type": "stream",
     "text": [
      "WARNING: [youtube] -9cdRpE4KKc: nsig extraction failed: Some formats may be missing\n",
      "         Install PhantomJS to workaround the issue. Please download it from https://phantomjs.org/download.html\n",
      "         n = 207foBXlFtI2EDU-R3 ; player = https://www.youtube.com/s/player/179bab65/player_ias.vflset/en_US/base.js\n",
      "WARNING: [youtube] -9cdRpE4KKc: nsig extraction failed: Some formats may be missing\n",
      "         Install PhantomJS to workaround the issue. Please download it from https://phantomjs.org/download.html\n",
      "         n = QLdNEoQtqiOj8I_2eD ; player = https://www.youtube.com/s/player/179bab65/player_ias.vflset/en_US/base.js\n",
      "WARNING: [youtube] -9cdRpE4KKc: nsig extraction failed: Some formats may be missing\n",
      "         Install PhantomJS to workaround the issue. Please download it from https://phantomjs.org/download.html\n",
      "         n = eJUcSoCWrjTzuG-Cew ; player = https://www.youtube.com/s/player/179bab65/player_ias.vflset/en_US/base.js\n",
      "WARNING: [youtube] -9cdRpE4KKc: nsig extraction failed: Some formats may be missing\n",
      "         Install PhantomJS to workaround the issue. Please download it from https://phantomjs.org/download.html\n",
      "         n = _qwasCZOrUvoVqDqup ; player = https://www.youtube.com/s/player/179bab65/player_ias.vflset/en_US/base.js\n"
     ]
    },
    {
     "name": "stdout",
     "output_type": "stream",
     "text": [
      "[youtube] -9cdRpE4KKc: Downloading m3u8 information\n",
      "[info] -9cdRpE4KKc: Downloading 1 format(s): 234\n",
      "[hlsnative] Downloading m3u8 manifest\n",
      "[hlsnative] Total fragments: 670\n",
      "[download] Destination: C:\\Users\\waral\\Desktop\\fyp\\MM-ArgFallacy2025\\path_to_downloaded_dataset\\MMUSED-fallacy\\audio_recordings\\4_1960\\full_audio\n",
      "[download] 100% of   55.02MiB in 00:00:33 at 1.63MiB/s                    \n",
      "[ExtractAudio] Destination: C:\\Users\\waral\\Desktop\\fyp\\MM-ArgFallacy2025\\path_to_downloaded_dataset\\MMUSED-fallacy\\audio_recordings\\4_1960\\full_audio.wav\n",
      "Deleting original file C:\\Users\\waral\\Desktop\\fyp\\MM-ArgFallacy2025\\path_to_downloaded_dataset\\MMUSED-fallacy\\audio_recordings\\4_1960\\full_audio (pass -k to keep)\n"
     ]
    },
    {
     "name": "stderr",
     "output_type": "stream",
     "text": [
      " 40%|████      | 14/35 [18:14<21:59, 62.84s/it]"
     ]
    },
    {
     "name": "stdout",
     "output_type": "stream",
     "text": [
      "[youtube] Extracting URL: https://www.youtube.com/watch?v=ffnQaODsgD4&t=8s\n",
      "[youtube] ffnQaODsgD4: Downloading webpage\n",
      "[youtube] ffnQaODsgD4: Downloading tv client config\n",
      "[youtube] ffnQaODsgD4: Downloading player 9599b765\n",
      "[youtube] ffnQaODsgD4: Downloading tv player API JSON\n",
      "[youtube] ffnQaODsgD4: Downloading ios player API JSON\n"
     ]
    },
    {
     "name": "stderr",
     "output_type": "stream",
     "text": [
      "WARNING: [youtube] ffnQaODsgD4: nsig extraction failed: Some formats may be missing\n",
      "         Install PhantomJS to workaround the issue. Please download it from https://phantomjs.org/download.html\n",
      "         n = An66nSXDXuxtJ9x ; player = https://www.youtube.com/s/player/9599b765/player_ias.vflset/en_US/base.js\n",
      "WARNING: [youtube] ffnQaODsgD4: nsig extraction failed: Some formats may be missing\n",
      "         Install PhantomJS to workaround the issue. Please download it from https://phantomjs.org/download.html\n",
      "         n = nu0F14IxbcgFIO- ; player = https://www.youtube.com/s/player/9599b765/player_ias.vflset/en_US/base.js\n",
      "WARNING: [youtube] ffnQaODsgD4: nsig extraction failed: Some formats may be missing\n",
      "         Install PhantomJS to workaround the issue. Please download it from https://phantomjs.org/download.html\n",
      "         n = jzphADebn_YEqH5 ; player = https://www.youtube.com/s/player/9599b765/player_ias.vflset/en_US/base.js\n",
      "WARNING: [youtube] ffnQaODsgD4: nsig extraction failed: Some formats may be missing\n",
      "         Install PhantomJS to workaround the issue. Please download it from https://phantomjs.org/download.html\n",
      "         n = 4-WWu7jKZoEns7M ; player = https://www.youtube.com/s/player/9599b765/player_ias.vflset/en_US/base.js\n"
     ]
    },
    {
     "name": "stdout",
     "output_type": "stream",
     "text": [
      "[youtube] ffnQaODsgD4: Downloading m3u8 information\n",
      "[info] ffnQaODsgD4: Downloading 1 format(s): 234\n",
      "[hlsnative] Downloading m3u8 manifest\n",
      "[hlsnative] Total fragments: 1106\n",
      "[download] Destination: C:\\Users\\waral\\Desktop\\fyp\\MM-ArgFallacy2025\\path_to_downloaded_dataset\\MMUSED-fallacy\\audio_recordings\\22_1996\\full_audio\n",
      "[download] 100% of   86.57MiB in 00:00:55 at 1.56MiB/s                     \n",
      "[ExtractAudio] Destination: C:\\Users\\waral\\Desktop\\fyp\\MM-ArgFallacy2025\\path_to_downloaded_dataset\\MMUSED-fallacy\\audio_recordings\\22_1996\\full_audio.wav\n",
      "Deleting original file C:\\Users\\waral\\Desktop\\fyp\\MM-ArgFallacy2025\\path_to_downloaded_dataset\\MMUSED-fallacy\\audio_recordings\\22_1996\\full_audio (pass -k to keep)\n"
     ]
    },
    {
     "name": "stderr",
     "output_type": "stream",
     "text": [
      " 43%|████▎     | 15/35 [19:17<20:55, 62.76s/it]"
     ]
    },
    {
     "name": "stdout",
     "output_type": "stream",
     "text": [
      "[youtube] Extracting URL: https://www.youtube.com/watch?v=ObDjMJdNGBw\n",
      "[youtube] ObDjMJdNGBw: Downloading webpage\n",
      "[youtube] ObDjMJdNGBw: Downloading tv client config\n",
      "[youtube] ObDjMJdNGBw: Downloading player 9599b765\n",
      "[youtube] ObDjMJdNGBw: Downloading tv player API JSON\n",
      "[youtube] ObDjMJdNGBw: Downloading ios player API JSON\n"
     ]
    },
    {
     "name": "stderr",
     "output_type": "stream",
     "text": [
      "WARNING: [youtube] ObDjMJdNGBw: nsig extraction failed: Some formats may be missing\n",
      "         Install PhantomJS to workaround the issue. Please download it from https://phantomjs.org/download.html\n",
      "         n = w_jq2unFvg65lNe ; player = https://www.youtube.com/s/player/9599b765/player_ias.vflset/en_US/base.js\n",
      "WARNING: [youtube] ObDjMJdNGBw: nsig extraction failed: Some formats may be missing\n",
      "         Install PhantomJS to workaround the issue. Please download it from https://phantomjs.org/download.html\n",
      "         n = pkXH2zBKjG-Mkw0 ; player = https://www.youtube.com/s/player/9599b765/player_ias.vflset/en_US/base.js\n",
      "WARNING: [youtube] ObDjMJdNGBw: nsig extraction failed: Some formats may be missing\n",
      "         Install PhantomJS to workaround the issue. Please download it from https://phantomjs.org/download.html\n",
      "         n = dZ1brAuvoLnPgQE ; player = https://www.youtube.com/s/player/9599b765/player_ias.vflset/en_US/base.js\n",
      "WARNING: [youtube] ObDjMJdNGBw: nsig extraction failed: Some formats may be missing\n",
      "         Install PhantomJS to workaround the issue. Please download it from https://phantomjs.org/download.html\n",
      "         n = 7zU1IReSqCf16NX ; player = https://www.youtube.com/s/player/9599b765/player_ias.vflset/en_US/base.js\n"
     ]
    },
    {
     "name": "stdout",
     "output_type": "stream",
     "text": [
      "[youtube] ObDjMJdNGBw: Downloading m3u8 information\n",
      "[info] ObDjMJdNGBw: Downloading 1 format(s): 234\n",
      "[hlsnative] Downloading m3u8 manifest\n",
      "[hlsnative] Total fragments: 1082\n",
      "[download] Destination: C:\\Users\\waral\\Desktop\\fyp\\MM-ArgFallacy2025\\path_to_downloaded_dataset\\MMUSED-fallacy\\audio_recordings\\10_1984\\full_audio\n",
      "[download] 100% of   87.33MiB in 00:01:20 at 1.09MiB/s                     \n",
      "[ExtractAudio] Destination: C:\\Users\\waral\\Desktop\\fyp\\MM-ArgFallacy2025\\path_to_downloaded_dataset\\MMUSED-fallacy\\audio_recordings\\10_1984\\full_audio.wav\n",
      "Deleting original file C:\\Users\\waral\\Desktop\\fyp\\MM-ArgFallacy2025\\path_to_downloaded_dataset\\MMUSED-fallacy\\audio_recordings\\10_1984\\full_audio (pass -k to keep)\n"
     ]
    },
    {
     "name": "stderr",
     "output_type": "stream",
     "text": [
      " 46%|████▌     | 16/35 [20:46<22:20, 70.56s/it]"
     ]
    },
    {
     "name": "stdout",
     "output_type": "stream",
     "text": [
      "[youtube] Extracting URL: https://www.youtube.com/watch?v=irzSo578gmg\n",
      "[youtube] irzSo578gmg: Downloading webpage\n",
      "[youtube] irzSo578gmg: Downloading tv client config\n",
      "[youtube] irzSo578gmg: Downloading player 9599b765\n",
      "[youtube] irzSo578gmg: Downloading tv player API JSON\n",
      "[youtube] irzSo578gmg: Downloading ios player API JSON\n"
     ]
    },
    {
     "name": "stderr",
     "output_type": "stream",
     "text": [
      "WARNING: [youtube] irzSo578gmg: nsig extraction failed: Some formats may be missing\n",
      "         Install PhantomJS to workaround the issue. Please download it from https://phantomjs.org/download.html\n",
      "         n = BBS7mRXLd1F4wGb ; player = https://www.youtube.com/s/player/9599b765/player_ias.vflset/en_US/base.js\n",
      "WARNING: [youtube] irzSo578gmg: nsig extraction failed: Some formats may be missing\n",
      "         Install PhantomJS to workaround the issue. Please download it from https://phantomjs.org/download.html\n",
      "         n = rZHVXKds9HgG5sF ; player = https://www.youtube.com/s/player/9599b765/player_ias.vflset/en_US/base.js\n",
      "WARNING: [youtube] irzSo578gmg: nsig extraction failed: Some formats may be missing\n",
      "         Install PhantomJS to workaround the issue. Please download it from https://phantomjs.org/download.html\n",
      "         n = G9ek1NzDEX0yq89 ; player = https://www.youtube.com/s/player/9599b765/player_ias.vflset/en_US/base.js\n",
      "WARNING: [youtube] irzSo578gmg: nsig extraction failed: Some formats may be missing\n",
      "         Install PhantomJS to workaround the issue. Please download it from https://phantomjs.org/download.html\n",
      "         n = a_EUGhnE_hoLpd6 ; player = https://www.youtube.com/s/player/9599b765/player_ias.vflset/en_US/base.js\n"
     ]
    },
    {
     "name": "stdout",
     "output_type": "stream",
     "text": [
      "[youtube] irzSo578gmg: Downloading m3u8 information\n",
      "[info] irzSo578gmg: Downloading 1 format(s): 234\n",
      "[hlsnative] Downloading m3u8 manifest\n",
      "[hlsnative] Total fragments: 1118\n",
      "[download] Destination: C:\\Users\\waral\\Desktop\\fyp\\MM-ArgFallacy2025\\path_to_downloaded_dataset\\MMUSED-fallacy\\audio_recordings\\27_2000\\full_audio\n",
      "[download] 100% of   87.03MiB in 00:00:57 at 1.51MiB/s                     \n",
      "[ExtractAudio] Destination: C:\\Users\\waral\\Desktop\\fyp\\MM-ArgFallacy2025\\path_to_downloaded_dataset\\MMUSED-fallacy\\audio_recordings\\27_2000\\full_audio.wav\n",
      "Deleting original file C:\\Users\\waral\\Desktop\\fyp\\MM-ArgFallacy2025\\path_to_downloaded_dataset\\MMUSED-fallacy\\audio_recordings\\27_2000\\full_audio (pass -k to keep)\n"
     ]
    },
    {
     "name": "stderr",
     "output_type": "stream",
     "text": [
      " 49%|████▊     | 17/35 [21:55<21:01, 70.10s/it]"
     ]
    },
    {
     "name": "stdout",
     "output_type": "stream",
     "text": [
      "[youtube] Extracting URL: https://www.youtube.com/watch?v=50WmNau8Pyw\n",
      "[youtube] 50WmNau8Pyw: Downloading webpage\n",
      "[youtube] 50WmNau8Pyw: Downloading tv client config\n",
      "[youtube] 50WmNau8Pyw: Downloading player 9599b765\n",
      "[youtube] 50WmNau8Pyw: Downloading tv player API JSON\n",
      "[youtube] 50WmNau8Pyw: Downloading ios player API JSON\n"
     ]
    },
    {
     "name": "stderr",
     "output_type": "stream",
     "text": [
      "WARNING: [youtube] 50WmNau8Pyw: nsig extraction failed: Some formats may be missing\n",
      "         Install PhantomJS to workaround the issue. Please download it from https://phantomjs.org/download.html\n",
      "         n = MajGLIhzzXtg6Si ; player = https://www.youtube.com/s/player/9599b765/player_ias.vflset/en_US/base.js\n",
      "WARNING: [youtube] 50WmNau8Pyw: nsig extraction failed: Some formats may be missing\n",
      "         Install PhantomJS to workaround the issue. Please download it from https://phantomjs.org/download.html\n",
      "         n = Ch9ATdTQpkbvADl ; player = https://www.youtube.com/s/player/9599b765/player_ias.vflset/en_US/base.js\n",
      "WARNING: [youtube] 50WmNau8Pyw: nsig extraction failed: Some formats may be missing\n",
      "         Install PhantomJS to workaround the issue. Please download it from https://phantomjs.org/download.html\n",
      "         n = hedb1XGZ6BxTrFX ; player = https://www.youtube.com/s/player/9599b765/player_ias.vflset/en_US/base.js\n",
      "WARNING: [youtube] 50WmNau8Pyw: nsig extraction failed: Some formats may be missing\n",
      "         Install PhantomJS to workaround the issue. Please download it from https://phantomjs.org/download.html\n",
      "         n = UxXOz2PhSV06Nl4 ; player = https://www.youtube.com/s/player/9599b765/player_ias.vflset/en_US/base.js\n"
     ]
    },
    {
     "name": "stdout",
     "output_type": "stream",
     "text": [
      "[youtube] 50WmNau8Pyw: Downloading m3u8 information\n",
      "[info] 50WmNau8Pyw: Downloading 1 format(s): 234\n",
      "[hlsnative] Downloading m3u8 manifest\n",
      "[hlsnative] Total fragments: 997\n",
      "[download] Destination: C:\\Users\\waral\\Desktop\\fyp\\MM-ArgFallacy2025\\path_to_downloaded_dataset\\MMUSED-fallacy\\audio_recordings\\7_1976\\full_audio\n",
      "[download] 100% of   82.83MiB in 00:00:50 at 1.64MiB/s                    \n",
      "[ExtractAudio] Destination: C:\\Users\\waral\\Desktop\\fyp\\MM-ArgFallacy2025\\path_to_downloaded_dataset\\MMUSED-fallacy\\audio_recordings\\7_1976\\full_audio.wav\n",
      "Deleting original file C:\\Users\\waral\\Desktop\\fyp\\MM-ArgFallacy2025\\path_to_downloaded_dataset\\MMUSED-fallacy\\audio_recordings\\7_1976\\full_audio (pass -k to keep)\n"
     ]
    },
    {
     "name": "stderr",
     "output_type": "stream",
     "text": [
      " 51%|█████▏    | 18/35 [23:01<19:32, 68.96s/it]"
     ]
    },
    {
     "name": "stdout",
     "output_type": "stream",
     "text": [
      "[youtube] Extracting URL: https://www.youtube.com/watch?v=HrHX9woYl5w\n",
      "[youtube] HrHX9woYl5w: Downloading webpage\n",
      "[youtube] HrHX9woYl5w: Downloading tv client config\n",
      "[youtube] HrHX9woYl5w: Downloading player 9599b765\n",
      "[youtube] HrHX9woYl5w: Downloading tv player API JSON\n",
      "[youtube] HrHX9woYl5w: Downloading ios player API JSON\n"
     ]
    },
    {
     "name": "stderr",
     "output_type": "stream",
     "text": [
      "WARNING: [youtube] HrHX9woYl5w: nsig extraction failed: Some formats may be missing\n",
      "         Install PhantomJS to workaround the issue. Please download it from https://phantomjs.org/download.html\n",
      "         n = FgcjFu4FyE3b-2g ; player = https://www.youtube.com/s/player/9599b765/player_ias.vflset/en_US/base.js\n",
      "WARNING: [youtube] HrHX9woYl5w: nsig extraction failed: Some formats may be missing\n",
      "         Install PhantomJS to workaround the issue. Please download it from https://phantomjs.org/download.html\n",
      "         n = c2yaE068etV4aX5 ; player = https://www.youtube.com/s/player/9599b765/player_ias.vflset/en_US/base.js\n",
      "WARNING: [youtube] HrHX9woYl5w: nsig extraction failed: Some formats may be missing\n",
      "         Install PhantomJS to workaround the issue. Please download it from https://phantomjs.org/download.html\n",
      "         n = EyOuvQT1TwRhdGf ; player = https://www.youtube.com/s/player/9599b765/player_ias.vflset/en_US/base.js\n",
      "WARNING: [youtube] HrHX9woYl5w: nsig extraction failed: Some formats may be missing\n",
      "         Install PhantomJS to workaround the issue. Please download it from https://phantomjs.org/download.html\n",
      "         n = Z-n3J2Tl4K_vrIY ; player = https://www.youtube.com/s/player/9599b765/player_ias.vflset/en_US/base.js\n"
     ]
    },
    {
     "name": "stdout",
     "output_type": "stream",
     "text": [
      "[youtube] HrHX9woYl5w: Downloading m3u8 information\n",
      "[info] HrHX9woYl5w: Downloading 1 format(s): 234\n",
      "[hlsnative] Downloading m3u8 manifest\n",
      "[hlsnative] Total fragments: 1030\n",
      "[download] Destination: C:\\Users\\waral\\Desktop\\fyp\\MM-ArgFallacy2025\\path_to_downloaded_dataset\\MMUSED-fallacy\\audio_recordings\\26_2000\\full_audio\n",
      "[download] 100% of   85.51MiB in 00:00:50 at 1.69MiB/s                     \n",
      "[ExtractAudio] Destination: C:\\Users\\waral\\Desktop\\fyp\\MM-ArgFallacy2025\\path_to_downloaded_dataset\\MMUSED-fallacy\\audio_recordings\\26_2000\\full_audio.wav\n",
      "Deleting original file C:\\Users\\waral\\Desktop\\fyp\\MM-ArgFallacy2025\\path_to_downloaded_dataset\\MMUSED-fallacy\\audio_recordings\\26_2000\\full_audio (pass -k to keep)\n"
     ]
    },
    {
     "name": "stderr",
     "output_type": "stream",
     "text": [
      " 54%|█████▍    | 19/35 [23:59<17:33, 65.85s/it]"
     ]
    },
    {
     "name": "stdout",
     "output_type": "stream",
     "text": [
      "[youtube] Extracting URL: https://www.youtube.com/watch?v=jhXgbrkFJ_s&t=12s\n",
      "[youtube] jhXgbrkFJ_s: Downloading webpage\n",
      "[youtube] jhXgbrkFJ_s: Downloading tv client config\n",
      "[youtube] jhXgbrkFJ_s: Downloading player 9599b765\n",
      "[youtube] jhXgbrkFJ_s: Downloading tv player API JSON\n",
      "[youtube] jhXgbrkFJ_s: Downloading ios player API JSON\n"
     ]
    },
    {
     "name": "stderr",
     "output_type": "stream",
     "text": [
      "WARNING: [youtube] jhXgbrkFJ_s: nsig extraction failed: Some formats may be missing\n",
      "         Install PhantomJS to workaround the issue. Please download it from https://phantomjs.org/download.html\n",
      "         n = s0KqQ9U2Aslc2-G ; player = https://www.youtube.com/s/player/9599b765/player_ias.vflset/en_US/base.js\n",
      "WARNING: [youtube] jhXgbrkFJ_s: nsig extraction failed: Some formats may be missing\n",
      "         Install PhantomJS to workaround the issue. Please download it from https://phantomjs.org/download.html\n",
      "         n = NyTre_osYpB_Q-S ; player = https://www.youtube.com/s/player/9599b765/player_ias.vflset/en_US/base.js\n",
      "WARNING: [youtube] jhXgbrkFJ_s: nsig extraction failed: Some formats may be missing\n",
      "         Install PhantomJS to workaround the issue. Please download it from https://phantomjs.org/download.html\n",
      "         n = YCK2EfJ0-vdW_wj ; player = https://www.youtube.com/s/player/9599b765/player_ias.vflset/en_US/base.js\n",
      "WARNING: [youtube] jhXgbrkFJ_s: nsig extraction failed: Some formats may be missing\n",
      "         Install PhantomJS to workaround the issue. Please download it from https://phantomjs.org/download.html\n",
      "         n = 2hd0rXWQVUMk5s9 ; player = https://www.youtube.com/s/player/9599b765/player_ias.vflset/en_US/base.js\n"
     ]
    },
    {
     "name": "stdout",
     "output_type": "stream",
     "text": [
      "[youtube] jhXgbrkFJ_s: Downloading m3u8 information\n",
      "[info] jhXgbrkFJ_s: Downloading 1 format(s): 234\n",
      "[hlsnative] Downloading m3u8 manifest\n",
      "[hlsnative] Total fragments: 1111\n",
      "[download] Destination: C:\\Users\\waral\\Desktop\\fyp\\MM-ArgFallacy2025\\path_to_downloaded_dataset\\MMUSED-fallacy\\audio_recordings\\39_2012\\full_audio\n",
      "[download] 100% of   91.59MiB in 00:00:56 at 1.62MiB/s                     \n",
      "[ExtractAudio] Destination: C:\\Users\\waral\\Desktop\\fyp\\MM-ArgFallacy2025\\path_to_downloaded_dataset\\MMUSED-fallacy\\audio_recordings\\39_2012\\full_audio.wav\n",
      "Deleting original file C:\\Users\\waral\\Desktop\\fyp\\MM-ArgFallacy2025\\path_to_downloaded_dataset\\MMUSED-fallacy\\audio_recordings\\39_2012\\full_audio (pass -k to keep)\n"
     ]
    },
    {
     "name": "stderr",
     "output_type": "stream",
     "text": [
      " 57%|█████▋    | 20/35 [25:05<16:26, 65.73s/it]"
     ]
    },
    {
     "name": "stdout",
     "output_type": "stream",
     "text": [
      "[youtube] Extracting URL: https://www.youtube.com/watch?v=AYP8-oxq8ig&t=11s\n",
      "[youtube] AYP8-oxq8ig: Downloading webpage\n",
      "[youtube] AYP8-oxq8ig: Downloading tv client config\n",
      "[youtube] AYP8-oxq8ig: Downloading player 9599b765\n",
      "[youtube] AYP8-oxq8ig: Downloading tv player API JSON\n",
      "[youtube] AYP8-oxq8ig: Downloading ios player API JSON\n"
     ]
    },
    {
     "name": "stderr",
     "output_type": "stream",
     "text": [
      "WARNING: [youtube] AYP8-oxq8ig: nsig extraction failed: Some formats may be missing\n",
      "         Install PhantomJS to workaround the issue. Please download it from https://phantomjs.org/download.html\n",
      "         n = aBjU5-64My6Kdvv ; player = https://www.youtube.com/s/player/9599b765/player_ias.vflset/en_US/base.js\n",
      "WARNING: [youtube] AYP8-oxq8ig: nsig extraction failed: Some formats may be missing\n",
      "         Install PhantomJS to workaround the issue. Please download it from https://phantomjs.org/download.html\n",
      "         n = x-9rIche3Ziy3db ; player = https://www.youtube.com/s/player/9599b765/player_ias.vflset/en_US/base.js\n",
      "WARNING: [youtube] AYP8-oxq8ig: nsig extraction failed: Some formats may be missing\n",
      "         Install PhantomJS to workaround the issue. Please download it from https://phantomjs.org/download.html\n",
      "         n = PwrN40frqIUeGZ6 ; player = https://www.youtube.com/s/player/9599b765/player_ias.vflset/en_US/base.js\n",
      "WARNING: [youtube] AYP8-oxq8ig: nsig extraction failed: Some formats may be missing\n",
      "         Install PhantomJS to workaround the issue. Please download it from https://phantomjs.org/download.html\n",
      "         n = TqeRQ9gJTFLvFUW ; player = https://www.youtube.com/s/player/9599b765/player_ias.vflset/en_US/base.js\n"
     ]
    },
    {
     "name": "stdout",
     "output_type": "stream",
     "text": [
      "[youtube] AYP8-oxq8ig: Downloading m3u8 information\n",
      "[info] AYP8-oxq8ig: Downloading 1 format(s): 234\n",
      "[hlsnative] Downloading m3u8 manifest\n",
      "[hlsnative] Total fragments: 679\n",
      "[download] Destination: C:\\Users\\waral\\Desktop\\fyp\\MM-ArgFallacy2025\\path_to_downloaded_dataset\\MMUSED-fallacy\\audio_recordings\\1_1960\\full_audio\n",
      "[download] 100% of   54.30MiB in 00:00:33 at 1.61MiB/s                    \n",
      "[ExtractAudio] Destination: C:\\Users\\waral\\Desktop\\fyp\\MM-ArgFallacy2025\\path_to_downloaded_dataset\\MMUSED-fallacy\\audio_recordings\\1_1960\\full_audio.wav\n",
      "Deleting original file C:\\Users\\waral\\Desktop\\fyp\\MM-ArgFallacy2025\\path_to_downloaded_dataset\\MMUSED-fallacy\\audio_recordings\\1_1960\\full_audio (pass -k to keep)\n"
     ]
    },
    {
     "name": "stderr",
     "output_type": "stream",
     "text": [
      " 60%|██████    | 21/35 [25:46<13:35, 58.24s/it]"
     ]
    },
    {
     "name": "stdout",
     "output_type": "stream",
     "text": [
      "[youtube] Extracting URL: https://www.youtube.com/watch?v=uKDFcOfqGMQ\n",
      "[youtube] uKDFcOfqGMQ: Downloading webpage\n",
      "[youtube] uKDFcOfqGMQ: Downloading tv client config\n",
      "[youtube] uKDFcOfqGMQ: Downloading player 9599b765\n",
      "[youtube] uKDFcOfqGMQ: Downloading tv player API JSON\n",
      "[youtube] uKDFcOfqGMQ: Downloading ios player API JSON\n"
     ]
    },
    {
     "name": "stderr",
     "output_type": "stream",
     "text": [
      "WARNING: [youtube] uKDFcOfqGMQ: nsig extraction failed: Some formats may be missing\n",
      "         Install PhantomJS to workaround the issue. Please download it from https://phantomjs.org/download.html\n",
      "         n = 4qs2urmrKlWUGmm ; player = https://www.youtube.com/s/player/9599b765/player_ias.vflset/en_US/base.js\n",
      "WARNING: [youtube] uKDFcOfqGMQ: nsig extraction failed: Some formats may be missing\n",
      "         Install PhantomJS to workaround the issue. Please download it from https://phantomjs.org/download.html\n",
      "         n = hPGL0vMn1xiLY-G ; player = https://www.youtube.com/s/player/9599b765/player_ias.vflset/en_US/base.js\n",
      "WARNING: [youtube] uKDFcOfqGMQ: nsig extraction failed: Some formats may be missing\n",
      "         Install PhantomJS to workaround the issue. Please download it from https://phantomjs.org/download.html\n",
      "         n = 342x6jAkA9e4XnT ; player = https://www.youtube.com/s/player/9599b765/player_ias.vflset/en_US/base.js\n",
      "WARNING: [youtube] uKDFcOfqGMQ: nsig extraction failed: Some formats may be missing\n",
      "         Install PhantomJS to workaround the issue. Please download it from https://phantomjs.org/download.html\n",
      "         n = iy2MhkWPNJ2cClz ; player = https://www.youtube.com/s/player/9599b765/player_ias.vflset/en_US/base.js\n"
     ]
    },
    {
     "name": "stdout",
     "output_type": "stream",
     "text": [
      "[youtube] uKDFcOfqGMQ: Downloading m3u8 information\n",
      "[info] uKDFcOfqGMQ: Downloading 1 format(s): 234\n",
      "[hlsnative] Downloading m3u8 manifest\n",
      "[hlsnative] Total fragments: 1059\n",
      "[download] Destination: C:\\Users\\waral\\Desktop\\fyp\\MM-ArgFallacy2025\\path_to_downloaded_dataset\\MMUSED-fallacy\\audio_recordings\\28_2000\\full_audio\n",
      "[download] 100% of   85.82MiB in 00:00:52 at 1.62MiB/s                     \n",
      "[ExtractAudio] Destination: C:\\Users\\waral\\Desktop\\fyp\\MM-ArgFallacy2025\\path_to_downloaded_dataset\\MMUSED-fallacy\\audio_recordings\\28_2000\\full_audio.wav\n",
      "Deleting original file C:\\Users\\waral\\Desktop\\fyp\\MM-ArgFallacy2025\\path_to_downloaded_dataset\\MMUSED-fallacy\\audio_recordings\\28_2000\\full_audio (pass -k to keep)\n"
     ]
    },
    {
     "name": "stderr",
     "output_type": "stream",
     "text": [
      " 63%|██████▎   | 22/35 [26:46<12:44, 58.83s/it]"
     ]
    },
    {
     "name": "stdout",
     "output_type": "stream",
     "text": [
      "[youtube] Extracting URL: https://www.youtube.com/watch?v=HwQBeMUj_ps\n",
      "[youtube] HwQBeMUj_ps: Downloading webpage\n",
      "[youtube] HwQBeMUj_ps: Downloading tv client config\n",
      "[youtube] HwQBeMUj_ps: Downloading player 9599b765\n",
      "[youtube] HwQBeMUj_ps: Downloading tv player API JSON\n",
      "[youtube] HwQBeMUj_ps: Downloading ios player API JSON\n"
     ]
    },
    {
     "name": "stderr",
     "output_type": "stream",
     "text": [
      "WARNING: [youtube] HwQBeMUj_ps: nsig extraction failed: Some formats may be missing\n",
      "         Install PhantomJS to workaround the issue. Please download it from https://phantomjs.org/download.html\n",
      "         n = 9jB3-kY3uVqbFdY ; player = https://www.youtube.com/s/player/9599b765/player_ias.vflset/en_US/base.js\n",
      "WARNING: [youtube] HwQBeMUj_ps: nsig extraction failed: Some formats may be missing\n",
      "         Install PhantomJS to workaround the issue. Please download it from https://phantomjs.org/download.html\n",
      "         n = 6eO431eCst4voan ; player = https://www.youtube.com/s/player/9599b765/player_ias.vflset/en_US/base.js\n",
      "WARNING: [youtube] HwQBeMUj_ps: nsig extraction failed: Some formats may be missing\n",
      "         Install PhantomJS to workaround the issue. Please download it from https://phantomjs.org/download.html\n",
      "         n = tYzn-fKX98rJekz ; player = https://www.youtube.com/s/player/9599b765/player_ias.vflset/en_US/base.js\n",
      "WARNING: [youtube] HwQBeMUj_ps: nsig extraction failed: Some formats may be missing\n",
      "         Install PhantomJS to workaround the issue. Please download it from https://phantomjs.org/download.html\n",
      "         n = WE8UPlz36nQwXnh ; player = https://www.youtube.com/s/player/9599b765/player_ias.vflset/en_US/base.js\n"
     ]
    },
    {
     "name": "stdout",
     "output_type": "stream",
     "text": [
      "[youtube] HwQBeMUj_ps: Downloading m3u8 information\n",
      "[info] HwQBeMUj_ps: Downloading 1 format(s): 234\n",
      "[hlsnative] Downloading m3u8 manifest\n",
      "[hlsnative] Total fragments: 1210\n",
      "[download] Destination: C:\\Users\\waral\\Desktop\\fyp\\MM-ArgFallacy2025\\path_to_downloaded_dataset\\MMUSED-fallacy\\audio_recordings\\25_2000\\full_audio\n",
      "[download] 100% of  107.57MiB in 00:00:59 at 1.80MiB/s                     \n",
      "[ExtractAudio] Destination: C:\\Users\\waral\\Desktop\\fyp\\MM-ArgFallacy2025\\path_to_downloaded_dataset\\MMUSED-fallacy\\audio_recordings\\25_2000\\full_audio.wav\n",
      "Deleting original file C:\\Users\\waral\\Desktop\\fyp\\MM-ArgFallacy2025\\path_to_downloaded_dataset\\MMUSED-fallacy\\audio_recordings\\25_2000\\full_audio (pass -k to keep)\n"
     ]
    },
    {
     "name": "stderr",
     "output_type": "stream",
     "text": [
      " 66%|██████▌   | 23/35 [27:58<12:33, 62.83s/it]"
     ]
    },
    {
     "name": "stdout",
     "output_type": "stream",
     "text": [
      "[youtube] Extracting URL: https://www.youtube.com/watch?v=_8YxFc_1b_0\n",
      "[youtube] _8YxFc_1b_0: Downloading webpage\n",
      "[youtube] _8YxFc_1b_0: Downloading tv client config\n",
      "[youtube] _8YxFc_1b_0: Downloading player 9599b765\n",
      "[youtube] _8YxFc_1b_0: Downloading tv player API JSON\n",
      "[youtube] _8YxFc_1b_0: Downloading ios player API JSON\n"
     ]
    },
    {
     "name": "stderr",
     "output_type": "stream",
     "text": [
      "WARNING: [youtube] _8YxFc_1b_0: nsig extraction failed: Some formats may be missing\n",
      "         Install PhantomJS to workaround the issue. Please download it from https://phantomjs.org/download.html\n",
      "         n = Glxw5PvTyn07dqT ; player = https://www.youtube.com/s/player/9599b765/player_ias.vflset/en_US/base.js\n",
      "WARNING: [youtube] _8YxFc_1b_0: nsig extraction failed: Some formats may be missing\n",
      "         Install PhantomJS to workaround the issue. Please download it from https://phantomjs.org/download.html\n",
      "         n = _Bc9mYcolYzRkUF ; player = https://www.youtube.com/s/player/9599b765/player_ias.vflset/en_US/base.js\n",
      "WARNING: [youtube] _8YxFc_1b_0: nsig extraction failed: Some formats may be missing\n",
      "         Install PhantomJS to workaround the issue. Please download it from https://phantomjs.org/download.html\n",
      "         n = 7j51j7NkI4S4GX7 ; player = https://www.youtube.com/s/player/9599b765/player_ias.vflset/en_US/base.js\n",
      "WARNING: [youtube] _8YxFc_1b_0: nsig extraction failed: Some formats may be missing\n",
      "         Install PhantomJS to workaround the issue. Please download it from https://phantomjs.org/download.html\n",
      "         n = ssimjuJzKdq4Zjd ; player = https://www.youtube.com/s/player/9599b765/player_ias.vflset/en_US/base.js\n"
     ]
    },
    {
     "name": "stdout",
     "output_type": "stream",
     "text": [
      "[youtube] _8YxFc_1b_0: Downloading m3u8 information\n",
      "[info] _8YxFc_1b_0: Downloading 1 format(s): 234\n",
      "[hlsnative] Downloading m3u8 manifest\n",
      "[hlsnative] Total fragments: 1279\n",
      "[download] Destination: C:\\Users\\waral\\Desktop\\fyp\\MM-ArgFallacy2025\\path_to_downloaded_dataset\\MMUSED-fallacy\\audio_recordings\\9_1980\\full_audio\n",
      "[download] 100% of   88.57MiB in 00:01:23 at 1.06MiB/s                     \n",
      "[ExtractAudio] Destination: C:\\Users\\waral\\Desktop\\fyp\\MM-ArgFallacy2025\\path_to_downloaded_dataset\\MMUSED-fallacy\\audio_recordings\\9_1980\\full_audio.wav\n",
      "Deleting original file C:\\Users\\waral\\Desktop\\fyp\\MM-ArgFallacy2025\\path_to_downloaded_dataset\\MMUSED-fallacy\\audio_recordings\\9_1980\\full_audio (pass -k to keep)\n"
     ]
    },
    {
     "name": "stderr",
     "output_type": "stream",
     "text": [
      " 69%|██████▊   | 24/35 [29:29<13:04, 71.28s/it]"
     ]
    },
    {
     "name": "stdout",
     "output_type": "stream",
     "text": [
      "[youtube] Extracting URL: https://www.youtube.com/watch?v=eg7-QJrJZV0\n",
      "[youtube] eg7-QJrJZV0: Downloading webpage\n",
      "[youtube] eg7-QJrJZV0: Downloading tv client config\n",
      "[youtube] eg7-QJrJZV0: Downloading player 9599b765\n",
      "[youtube] eg7-QJrJZV0: Downloading tv player API JSON\n",
      "[youtube] eg7-QJrJZV0: Downloading ios player API JSON\n"
     ]
    },
    {
     "name": "stderr",
     "output_type": "stream",
     "text": [
      "WARNING: [youtube] eg7-QJrJZV0: nsig extraction failed: Some formats may be missing\n",
      "         Install PhantomJS to workaround the issue. Please download it from https://phantomjs.org/download.html\n",
      "         n = JZgDwiQ7yJaqwQS ; player = https://www.youtube.com/s/player/9599b765/player_ias.vflset/en_US/base.js\n",
      "WARNING: [youtube] eg7-QJrJZV0: nsig extraction failed: Some formats may be missing\n",
      "         Install PhantomJS to workaround the issue. Please download it from https://phantomjs.org/download.html\n",
      "         n = XAiBvEXNg8FBySX ; player = https://www.youtube.com/s/player/9599b765/player_ias.vflset/en_US/base.js\n",
      "WARNING: [youtube] eg7-QJrJZV0: nsig extraction failed: Some formats may be missing\n",
      "         Install PhantomJS to workaround the issue. Please download it from https://phantomjs.org/download.html\n",
      "         n = 6D20OSGbHyy1dTv ; player = https://www.youtube.com/s/player/9599b765/player_ias.vflset/en_US/base.js\n",
      "WARNING: [youtube] eg7-QJrJZV0: nsig extraction failed: Some formats may be missing\n",
      "         Install PhantomJS to workaround the issue. Please download it from https://phantomjs.org/download.html\n",
      "         n = DLp9_HDtI3GbvQl ; player = https://www.youtube.com/s/player/9599b765/player_ias.vflset/en_US/base.js\n"
     ]
    },
    {
     "name": "stdout",
     "output_type": "stream",
     "text": [
      "[youtube] eg7-QJrJZV0: Downloading m3u8 information\n",
      "[info] eg7-QJrJZV0: Downloading 1 format(s): 234\n",
      "[hlsnative] Downloading m3u8 manifest\n",
      "[hlsnative] Total fragments: 1069\n",
      "[download] Destination: C:\\Users\\waral\\Desktop\\fyp\\MM-ArgFallacy2025\\path_to_downloaded_dataset\\MMUSED-fallacy\\audio_recordings\\21_1992\\full_audio\n",
      "[download] 100% of   84.09MiB in 00:00:58 at 1.43MiB/s                     \n",
      "[ExtractAudio] Destination: C:\\Users\\waral\\Desktop\\fyp\\MM-ArgFallacy2025\\path_to_downloaded_dataset\\MMUSED-fallacy\\audio_recordings\\21_1992\\full_audio.wav\n",
      "Deleting original file C:\\Users\\waral\\Desktop\\fyp\\MM-ArgFallacy2025\\path_to_downloaded_dataset\\MMUSED-fallacy\\audio_recordings\\21_1992\\full_audio (pass -k to keep)\n"
     ]
    },
    {
     "name": "stderr",
     "output_type": "stream",
     "text": [
      " 71%|███████▏  | 25/35 [30:42<11:57, 71.72s/it]"
     ]
    },
    {
     "name": "stdout",
     "output_type": "stream",
     "text": [
      "[youtube] Extracting URL: https://www.youtube.com/watch?v=eg7-QJrJZV0 \n",
      "[youtube] eg7-QJrJZV0: Downloading webpage\n",
      "[youtube] eg7-QJrJZV0: Downloading tv client config\n",
      "[youtube] eg7-QJrJZV0: Downloading player 179bab65\n",
      "[youtube] eg7-QJrJZV0: Downloading tv player API JSON\n",
      "[youtube] eg7-QJrJZV0: Downloading ios player API JSON\n"
     ]
    },
    {
     "name": "stderr",
     "output_type": "stream",
     "text": [
      "WARNING: [youtube] eg7-QJrJZV0: nsig extraction failed: Some formats may be missing\n",
      "         Install PhantomJS to workaround the issue. Please download it from https://phantomjs.org/download.html\n",
      "         n = LeQznBC78uyLFWytXg ; player = https://www.youtube.com/s/player/179bab65/player_ias.vflset/en_US/base.js\n",
      "WARNING: [youtube] eg7-QJrJZV0: nsig extraction failed: Some formats may be missing\n",
      "         Install PhantomJS to workaround the issue. Please download it from https://phantomjs.org/download.html\n",
      "         n = jGVEQ_DgK8sh4B-ctW ; player = https://www.youtube.com/s/player/179bab65/player_ias.vflset/en_US/base.js\n",
      "WARNING: [youtube] eg7-QJrJZV0: nsig extraction failed: Some formats may be missing\n",
      "         Install PhantomJS to workaround the issue. Please download it from https://phantomjs.org/download.html\n",
      "         n = PqSG8Rtd6zZE7nVWy5 ; player = https://www.youtube.com/s/player/179bab65/player_ias.vflset/en_US/base.js\n",
      "WARNING: [youtube] eg7-QJrJZV0: nsig extraction failed: Some formats may be missing\n",
      "         Install PhantomJS to workaround the issue. Please download it from https://phantomjs.org/download.html\n",
      "         n = MFvLp7PB72qLTdUkqO ; player = https://www.youtube.com/s/player/179bab65/player_ias.vflset/en_US/base.js\n"
     ]
    },
    {
     "name": "stdout",
     "output_type": "stream",
     "text": [
      "[youtube] eg7-QJrJZV0: Downloading m3u8 information\n",
      "[info] eg7-QJrJZV0: Downloading 1 format(s): 234\n",
      "[hlsnative] Downloading m3u8 manifest\n",
      "[hlsnative] Total fragments: 1069\n",
      "[download] Destination: C:\\Users\\waral\\Desktop\\fyp\\MM-ArgFallacy2025\\path_to_downloaded_dataset\\MMUSED-fallacy\\audio_recordings\\20_1992\\full_audio\n",
      "[download] 100% of   84.09MiB in 00:00:55 at 1.52MiB/s                     \n",
      "[ExtractAudio] Destination: C:\\Users\\waral\\Desktop\\fyp\\MM-ArgFallacy2025\\path_to_downloaded_dataset\\MMUSED-fallacy\\audio_recordings\\20_1992\\full_audio.wav\n",
      "Deleting original file C:\\Users\\waral\\Desktop\\fyp\\MM-ArgFallacy2025\\path_to_downloaded_dataset\\MMUSED-fallacy\\audio_recordings\\20_1992\\full_audio (pass -k to keep)\n"
     ]
    },
    {
     "name": "stderr",
     "output_type": "stream",
     "text": [
      " 74%|███████▍  | 26/35 [31:50<10:36, 70.72s/it]"
     ]
    },
    {
     "name": "stdout",
     "output_type": "stream",
     "text": [
      "[youtube] Extracting URL: https://www.youtube.com/watch?v=OHjWb5XsAMI\n",
      "[youtube] OHjWb5XsAMI: Downloading webpage\n",
      "[youtube] OHjWb5XsAMI: Downloading tv client config\n",
      "[youtube] OHjWb5XsAMI: Downloading player 9599b765\n",
      "[youtube] OHjWb5XsAMI: Downloading tv player API JSON\n",
      "[youtube] OHjWb5XsAMI: Downloading ios player API JSON\n"
     ]
    },
    {
     "name": "stderr",
     "output_type": "stream",
     "text": [
      "WARNING: [youtube] OHjWb5XsAMI: nsig extraction failed: Some formats may be missing\n",
      "         Install PhantomJS to workaround the issue. Please download it from https://phantomjs.org/download.html\n",
      "         n = T8PNE83-9TOrAY4 ; player = https://www.youtube.com/s/player/9599b765/player_ias.vflset/en_US/base.js\n",
      "WARNING: [youtube] OHjWb5XsAMI: nsig extraction failed: Some formats may be missing\n",
      "         Install PhantomJS to workaround the issue. Please download it from https://phantomjs.org/download.html\n",
      "         n = r9CpvKinI-6Et9K ; player = https://www.youtube.com/s/player/9599b765/player_ias.vflset/en_US/base.js\n",
      "WARNING: [youtube] OHjWb5XsAMI: nsig extraction failed: Some formats may be missing\n",
      "         Install PhantomJS to workaround the issue. Please download it from https://phantomjs.org/download.html\n",
      "         n = z17tDpsIi4n-qrS ; player = https://www.youtube.com/s/player/9599b765/player_ias.vflset/en_US/base.js\n",
      "WARNING: [youtube] OHjWb5XsAMI: nsig extraction failed: Some formats may be missing\n",
      "         Install PhantomJS to workaround the issue. Please download it from https://phantomjs.org/download.html\n",
      "         n = pstHaGlfqpNE2s8 ; player = https://www.youtube.com/s/player/9599b765/player_ias.vflset/en_US/base.js\n"
     ]
    },
    {
     "name": "stdout",
     "output_type": "stream",
     "text": [
      "[youtube] OHjWb5XsAMI: Downloading m3u8 information\n",
      "[info] OHjWb5XsAMI: Downloading 1 format(s): 234\n",
      "[hlsnative] Downloading m3u8 manifest\n",
      "[hlsnative] Total fragments: 597\n",
      "[download] Destination: C:\\Users\\waral\\Desktop\\fyp\\MM-ArgFallacy2025\\path_to_downloaded_dataset\\MMUSED-fallacy\\audio_recordings\\3_1960\\full_audio\n",
      "[download] 100% of   54.90MiB in 00:00:30 at 1.78MiB/s                    \n",
      "[ExtractAudio] Destination: C:\\Users\\waral\\Desktop\\fyp\\MM-ArgFallacy2025\\path_to_downloaded_dataset\\MMUSED-fallacy\\audio_recordings\\3_1960\\full_audio.wav\n",
      "Deleting original file C:\\Users\\waral\\Desktop\\fyp\\MM-ArgFallacy2025\\path_to_downloaded_dataset\\MMUSED-fallacy\\audio_recordings\\3_1960\\full_audio (pass -k to keep)\n"
     ]
    },
    {
     "name": "stderr",
     "output_type": "stream",
     "text": [
      " 77%|███████▋  | 27/35 [32:27<08:03, 60.44s/it]"
     ]
    },
    {
     "name": "stdout",
     "output_type": "stream",
     "text": [
      "[youtube] Extracting URL: https://www.youtube.com/watch?v=cKcav-uF4eY\n",
      "[youtube] cKcav-uF4eY: Downloading webpage\n",
      "[youtube] cKcav-uF4eY: Downloading tv client config\n",
      "[youtube] cKcav-uF4eY: Downloading player 9599b765\n",
      "[youtube] cKcav-uF4eY: Downloading tv player API JSON\n",
      "[youtube] cKcav-uF4eY: Downloading ios player API JSON\n"
     ]
    },
    {
     "name": "stderr",
     "output_type": "stream",
     "text": [
      "WARNING: [youtube] cKcav-uF4eY: nsig extraction failed: Some formats may be missing\n",
      "         Install PhantomJS to workaround the issue. Please download it from https://phantomjs.org/download.html\n",
      "         n = XSxVsYnXCRaDEIU ; player = https://www.youtube.com/s/player/9599b765/player_ias.vflset/en_US/base.js\n",
      "WARNING: [youtube] cKcav-uF4eY: nsig extraction failed: Some formats may be missing\n",
      "         Install PhantomJS to workaround the issue. Please download it from https://phantomjs.org/download.html\n",
      "         n = _aH5tbkGOqcB0jQ ; player = https://www.youtube.com/s/player/9599b765/player_ias.vflset/en_US/base.js\n",
      "WARNING: [youtube] cKcav-uF4eY: nsig extraction failed: Some formats may be missing\n",
      "         Install PhantomJS to workaround the issue. Please download it from https://phantomjs.org/download.html\n",
      "         n = GLfw3UukPFwLWNW ; player = https://www.youtube.com/s/player/9599b765/player_ias.vflset/en_US/base.js\n",
      "WARNING: [youtube] cKcav-uF4eY: nsig extraction failed: Some formats may be missing\n",
      "         Install PhantomJS to workaround the issue. Please download it from https://phantomjs.org/download.html\n",
      "         n = 1nZfwYt0zf6JpEK ; player = https://www.youtube.com/s/player/9599b765/player_ias.vflset/en_US/base.js\n"
     ]
    },
    {
     "name": "stdout",
     "output_type": "stream",
     "text": [
      "[youtube] cKcav-uF4eY: Downloading m3u8 information\n",
      "[info] cKcav-uF4eY: Downloading 1 format(s): 234\n",
      "[hlsnative] Downloading m3u8 manifest\n",
      "[hlsnative] Total fragments: 1092\n",
      "[download] Destination: C:\\Users\\waral\\Desktop\\fyp\\MM-ArgFallacy2025\\path_to_downloaded_dataset\\MMUSED-fallacy\\audio_recordings\\31_2004\\full_audio\n",
      "[download] 100% of   90.57MiB in 00:00:55 at 1.63MiB/s                     \n",
      "[ExtractAudio] Destination: C:\\Users\\waral\\Desktop\\fyp\\MM-ArgFallacy2025\\path_to_downloaded_dataset\\MMUSED-fallacy\\audio_recordings\\31_2004\\full_audio.wav\n",
      "Deleting original file C:\\Users\\waral\\Desktop\\fyp\\MM-ArgFallacy2025\\path_to_downloaded_dataset\\MMUSED-fallacy\\audio_recordings\\31_2004\\full_audio (pass -k to keep)\n"
     ]
    },
    {
     "name": "stderr",
     "output_type": "stream",
     "text": [
      " 80%|████████  | 28/35 [33:35<07:18, 62.68s/it]"
     ]
    },
    {
     "name": "stdout",
     "output_type": "stream",
     "text": [
      "[youtube] Extracting URL: https://www.youtube.com/watch?v=LxhhOfe3uWc&ab_channel=PBSNewsHour\n",
      "[youtube] LxhhOfe3uWc: Downloading webpage\n",
      "[youtube] LxhhOfe3uWc: Downloading tv client config\n",
      "[youtube] LxhhOfe3uWc: Downloading player 9599b765\n",
      "[youtube] LxhhOfe3uWc: Downloading tv player API JSON\n",
      "[youtube] LxhhOfe3uWc: Downloading ios player API JSON\n"
     ]
    },
    {
     "name": "stderr",
     "output_type": "stream",
     "text": [
      "WARNING: [youtube] LxhhOfe3uWc: nsig extraction failed: Some formats may be missing\n",
      "         Install PhantomJS to workaround the issue. Please download it from https://phantomjs.org/download.html\n",
      "         n = O7X4ybBtDeVQvR_ ; player = https://www.youtube.com/s/player/9599b765/player_ias.vflset/en_US/base.js\n",
      "WARNING: [youtube] LxhhOfe3uWc: nsig extraction failed: Some formats may be missing\n",
      "         Install PhantomJS to workaround the issue. Please download it from https://phantomjs.org/download.html\n",
      "         n = K6pISTcHhLRSLon ; player = https://www.youtube.com/s/player/9599b765/player_ias.vflset/en_US/base.js\n",
      "WARNING: [youtube] LxhhOfe3uWc: nsig extraction failed: Some formats may be missing\n",
      "         Install PhantomJS to workaround the issue. Please download it from https://phantomjs.org/download.html\n",
      "         n = 9Kcn2SEMDCG5jVX ; player = https://www.youtube.com/s/player/9599b765/player_ias.vflset/en_US/base.js\n",
      "WARNING: [youtube] LxhhOfe3uWc: nsig extraction failed: Some formats may be missing\n",
      "         Install PhantomJS to workaround the issue. Please download it from https://phantomjs.org/download.html\n",
      "         n = lDmD74nes3I8hDh ; player = https://www.youtube.com/s/player/9599b765/player_ias.vflset/en_US/base.js\n"
     ]
    },
    {
     "name": "stdout",
     "output_type": "stream",
     "text": [
      "[youtube] LxhhOfe3uWc: Downloading m3u8 information\n",
      "[info] LxhhOfe3uWc: Downloading 1 format(s): 234\n",
      "[hlsnative] Downloading m3u8 manifest\n",
      "[hlsnative] Total fragments: 1072\n",
      "[download] Destination: C:\\Users\\waral\\Desktop\\fyp\\MM-ArgFallacy2025\\path_to_downloaded_dataset\\MMUSED-fallacy\\audio_recordings\\41_2016\\full_audio\n",
      "[download] 100% of   89.40MiB in 00:00:55 at 1.60MiB/s                     \n",
      "[ExtractAudio] Destination: C:\\Users\\waral\\Desktop\\fyp\\MM-ArgFallacy2025\\path_to_downloaded_dataset\\MMUSED-fallacy\\audio_recordings\\41_2016\\full_audio.wav\n",
      "Deleting original file C:\\Users\\waral\\Desktop\\fyp\\MM-ArgFallacy2025\\path_to_downloaded_dataset\\MMUSED-fallacy\\audio_recordings\\41_2016\\full_audio (pass -k to keep)\n"
     ]
    },
    {
     "name": "stderr",
     "output_type": "stream",
     "text": [
      " 83%|████████▎ | 29/35 [34:47<06:33, 65.59s/it]"
     ]
    },
    {
     "name": "stdout",
     "output_type": "stream",
     "text": [
      "[youtube] Extracting URL: https://www.youtube.com/watch?v=7fmzBwnmQJM&t=1521s\n",
      "[youtube] 7fmzBwnmQJM: Downloading webpage\n",
      "[youtube] 7fmzBwnmQJM: Downloading tv client config\n",
      "[youtube] 7fmzBwnmQJM: Downloading player 9599b765\n",
      "[youtube] 7fmzBwnmQJM: Downloading tv player API JSON\n",
      "[youtube] 7fmzBwnmQJM: Downloading ios player API JSON\n"
     ]
    },
    {
     "name": "stderr",
     "output_type": "stream",
     "text": [
      "WARNING: [youtube] 7fmzBwnmQJM: nsig extraction failed: Some formats may be missing\n",
      "         Install PhantomJS to workaround the issue. Please download it from https://phantomjs.org/download.html\n",
      "         n = ETvC5r0926TV93z ; player = https://www.youtube.com/s/player/9599b765/player_ias.vflset/en_US/base.js\n",
      "WARNING: [youtube] 7fmzBwnmQJM: nsig extraction failed: Some formats may be missing\n",
      "         Install PhantomJS to workaround the issue. Please download it from https://phantomjs.org/download.html\n",
      "         n = RdO7kX3XcY8PBts ; player = https://www.youtube.com/s/player/9599b765/player_ias.vflset/en_US/base.js\n",
      "WARNING: [youtube] 7fmzBwnmQJM: nsig extraction failed: Some formats may be missing\n",
      "         Install PhantomJS to workaround the issue. Please download it from https://phantomjs.org/download.html\n",
      "         n = Fr-DVynmkJBxUo2 ; player = https://www.youtube.com/s/player/9599b765/player_ias.vflset/en_US/base.js\n",
      "WARNING: [youtube] 7fmzBwnmQJM: nsig extraction failed: Some formats may be missing\n",
      "         Install PhantomJS to workaround the issue. Please download it from https://phantomjs.org/download.html\n",
      "         n = du9btbikO1dvTxm ; player = https://www.youtube.com/s/player/9599b765/player_ias.vflset/en_US/base.js\n"
     ]
    },
    {
     "name": "stdout",
     "output_type": "stream",
     "text": [
      "[youtube] 7fmzBwnmQJM: Downloading m3u8 information\n",
      "[info] 7fmzBwnmQJM: Downloading 1 format(s): 234\n",
      "[hlsnative] Downloading m3u8 manifest\n",
      "[hlsnative] Total fragments: 1055\n",
      "[download] Destination: C:\\Users\\waral\\Desktop\\fyp\\MM-ArgFallacy2025\\path_to_downloaded_dataset\\MMUSED-fallacy\\audio_recordings\\42_2016\\full_audio\n",
      "[download] 100% of   87.59MiB in 00:01:00 at 1.45MiB/s                     \n",
      "[ExtractAudio] Destination: C:\\Users\\waral\\Desktop\\fyp\\MM-ArgFallacy2025\\path_to_downloaded_dataset\\MMUSED-fallacy\\audio_recordings\\42_2016\\full_audio.wav\n",
      "Deleting original file C:\\Users\\waral\\Desktop\\fyp\\MM-ArgFallacy2025\\path_to_downloaded_dataset\\MMUSED-fallacy\\audio_recordings\\42_2016\\full_audio (pass -k to keep)\n"
     ]
    },
    {
     "name": "stderr",
     "output_type": "stream",
     "text": [
      " 86%|████████▌ | 30/35 [36:01<05:40, 68.05s/it]"
     ]
    },
    {
     "name": "stdout",
     "output_type": "stream",
     "text": [
      "[youtube] Extracting URL: https://www.youtube.com/watch?v=smkyorC5qwc&ab_channel=NBCNews\n",
      "[youtube] smkyorC5qwc: Downloading webpage\n",
      "[youtube] smkyorC5qwc: Downloading tv client config\n",
      "[youtube] smkyorC5qwc: Downloading player 179bab65\n",
      "[youtube] smkyorC5qwc: Downloading tv player API JSON\n",
      "[youtube] smkyorC5qwc: Downloading ios player API JSON\n"
     ]
    },
    {
     "name": "stderr",
     "output_type": "stream",
     "text": [
      "WARNING: [youtube] smkyorC5qwc: nsig extraction failed: Some formats may be missing\n",
      "         Install PhantomJS to workaround the issue. Please download it from https://phantomjs.org/download.html\n",
      "         n = Vk237sB7_QWwgkZnh9 ; player = https://www.youtube.com/s/player/179bab65/player_ias.vflset/en_US/base.js\n",
      "WARNING: [youtube] smkyorC5qwc: nsig extraction failed: Some formats may be missing\n",
      "         Install PhantomJS to workaround the issue. Please download it from https://phantomjs.org/download.html\n",
      "         n = b-To1oDhWNLShIMJQ2 ; player = https://www.youtube.com/s/player/179bab65/player_ias.vflset/en_US/base.js\n",
      "WARNING: [youtube] smkyorC5qwc: nsig extraction failed: Some formats may be missing\n",
      "         Install PhantomJS to workaround the issue. Please download it from https://phantomjs.org/download.html\n",
      "         n = f8aTYx7C8DpMtnY-xt ; player = https://www.youtube.com/s/player/179bab65/player_ias.vflset/en_US/base.js\n",
      "WARNING: [youtube] smkyorC5qwc: nsig extraction failed: Some formats may be missing\n",
      "         Install PhantomJS to workaround the issue. Please download it from https://phantomjs.org/download.html\n",
      "         n = r6Mqw2wxGLwsZIHn4p ; player = https://www.youtube.com/s/player/179bab65/player_ias.vflset/en_US/base.js\n"
     ]
    },
    {
     "name": "stdout",
     "output_type": "stream",
     "text": [
      "[youtube] smkyorC5qwc: Downloading m3u8 information\n",
      "[info] smkyorC5qwc: Downloading 1 format(s): 234\n",
      "[hlsnative] Downloading m3u8 manifest\n",
      "[hlsnative] Total fragments: 1320\n",
      "[download] Destination: C:\\Users\\waral\\Desktop\\fyp\\MM-ArgFallacy2025\\path_to_downloaded_dataset\\MMUSED-fallacy\\audio_recordings\\43_2016\\full_audio\n",
      "[download] 100% of  108.27MiB in 00:01:10 at 1.53MiB/s                     \n",
      "[ExtractAudio] Destination: C:\\Users\\waral\\Desktop\\fyp\\MM-ArgFallacy2025\\path_to_downloaded_dataset\\MMUSED-fallacy\\audio_recordings\\43_2016\\full_audio.wav\n",
      "Deleting original file C:\\Users\\waral\\Desktop\\fyp\\MM-ArgFallacy2025\\path_to_downloaded_dataset\\MMUSED-fallacy\\audio_recordings\\43_2016\\full_audio (pass -k to keep)\n"
     ]
    },
    {
     "name": "stderr",
     "output_type": "stream",
     "text": [
      " 89%|████████▊ | 31/35 [37:20<04:45, 71.41s/it]"
     ]
    },
    {
     "name": "stdout",
     "output_type": "stream",
     "text": [
      "[youtube] Extracting URL: https://www.youtube.com/watch?v=w2OIGH710aY&t=14s&ab_channel=PBSNewsHour\n",
      "[youtube] w2OIGH710aY: Downloading webpage\n",
      "[youtube] w2OIGH710aY: Downloading tv client config\n",
      "[youtube] w2OIGH710aY: Downloading player 9599b765\n",
      "[youtube] w2OIGH710aY: Downloading tv player API JSON\n",
      "[youtube] w2OIGH710aY: Downloading ios player API JSON\n"
     ]
    },
    {
     "name": "stderr",
     "output_type": "stream",
     "text": [
      "WARNING: [youtube] w2OIGH710aY: nsig extraction failed: Some formats may be missing\n",
      "         Install PhantomJS to workaround the issue. Please download it from https://phantomjs.org/download.html\n",
      "         n = 7RS5DbrrpNjO5Vd ; player = https://www.youtube.com/s/player/9599b765/player_ias.vflset/en_US/base.js\n",
      "WARNING: [youtube] w2OIGH710aY: nsig extraction failed: Some formats may be missing\n",
      "         Install PhantomJS to workaround the issue. Please download it from https://phantomjs.org/download.html\n",
      "         n = yVPcMlK689Y41y9 ; player = https://www.youtube.com/s/player/9599b765/player_ias.vflset/en_US/base.js\n",
      "WARNING: [youtube] w2OIGH710aY: nsig extraction failed: Some formats may be missing\n",
      "         Install PhantomJS to workaround the issue. Please download it from https://phantomjs.org/download.html\n",
      "         n = -k68zH0624tE_DY ; player = https://www.youtube.com/s/player/9599b765/player_ias.vflset/en_US/base.js\n",
      "WARNING: [youtube] w2OIGH710aY: nsig extraction failed: Some formats may be missing\n",
      "         Install PhantomJS to workaround the issue. Please download it from https://phantomjs.org/download.html\n",
      "         n = PpY5I2-ncoyvfKX ; player = https://www.youtube.com/s/player/9599b765/player_ias.vflset/en_US/base.js\n"
     ]
    },
    {
     "name": "stdout",
     "output_type": "stream",
     "text": [
      "[youtube] w2OIGH710aY: Downloading m3u8 information\n",
      "[info] w2OIGH710aY: Downloading 1 format(s): 234\n",
      "[hlsnative] Downloading m3u8 manifest\n",
      "[hlsnative] Total fragments: 897\n",
      "[download] Destination: C:\\Users\\waral\\Desktop\\fyp\\MM-ArgFallacy2025\\path_to_downloaded_dataset\\MMUSED-fallacy\\audio_recordings\\13_1988\\full_audio\n",
      "[download] 100% of   82.50MiB in 00:00:58 at 1.41MiB/s                    \n",
      "[ExtractAudio] Destination: C:\\Users\\waral\\Desktop\\fyp\\MM-ArgFallacy2025\\path_to_downloaded_dataset\\MMUSED-fallacy\\audio_recordings\\13_1988\\full_audio.wav\n",
      "Deleting original file C:\\Users\\waral\\Desktop\\fyp\\MM-ArgFallacy2025\\path_to_downloaded_dataset\\MMUSED-fallacy\\audio_recordings\\13_1988\\full_audio (pass -k to keep)\n"
     ]
    },
    {
     "name": "stderr",
     "output_type": "stream",
     "text": [
      " 91%|█████████▏| 32/35 [38:26<03:29, 69.68s/it]"
     ]
    },
    {
     "name": "stdout",
     "output_type": "stream",
     "text": [
      "[youtube] Extracting URL: https://www.youtube.com/watch?v=w3KxBME7DpM&ab_channel=PBSNewsHour\n",
      "[youtube] w3KxBME7DpM: Downloading webpage\n",
      "[youtube] w3KxBME7DpM: Downloading tv client config\n",
      "[youtube] w3KxBME7DpM: Downloading player 9599b765\n",
      "[youtube] w3KxBME7DpM: Downloading tv player API JSON\n",
      "[youtube] w3KxBME7DpM: Downloading ios player API JSON\n"
     ]
    },
    {
     "name": "stderr",
     "output_type": "stream",
     "text": [
      "WARNING: [youtube] w3KxBME7DpM: nsig extraction failed: Some formats may be missing\n",
      "         Install PhantomJS to workaround the issue. Please download it from https://phantomjs.org/download.html\n",
      "         n = uAZo4lgHSMojvt0 ; player = https://www.youtube.com/s/player/9599b765/player_ias.vflset/en_US/base.js\n",
      "WARNING: [youtube] w3KxBME7DpM: nsig extraction failed: Some formats may be missing\n",
      "         Install PhantomJS to workaround the issue. Please download it from https://phantomjs.org/download.html\n",
      "         n = C9g8w31GgjA7wxw ; player = https://www.youtube.com/s/player/9599b765/player_ias.vflset/en_US/base.js\n",
      "WARNING: [youtube] w3KxBME7DpM: nsig extraction failed: Some formats may be missing\n",
      "         Install PhantomJS to workaround the issue. Please download it from https://phantomjs.org/download.html\n",
      "         n = n7IheEWA0wikT5M ; player = https://www.youtube.com/s/player/9599b765/player_ias.vflset/en_US/base.js\n",
      "WARNING: [youtube] w3KxBME7DpM: nsig extraction failed: Some formats may be missing\n",
      "         Install PhantomJS to workaround the issue. Please download it from https://phantomjs.org/download.html\n",
      "         n = sc-qEF9Hx7TBt1- ; player = https://www.youtube.com/s/player/9599b765/player_ias.vflset/en_US/base.js\n"
     ]
    },
    {
     "name": "stdout",
     "output_type": "stream",
     "text": [
      "[youtube] w3KxBME7DpM: Downloading m3u8 information\n",
      "[info] w3KxBME7DpM: Downloading 1 format(s): 234\n",
      "[hlsnative] Downloading m3u8 manifest\n",
      "[hlsnative] Total fragments: 1276\n",
      "[download] Destination: C:\\Users\\waral\\Desktop\\fyp\\MM-ArgFallacy2025\\path_to_downloaded_dataset\\MMUSED-fallacy\\audio_recordings\\44_2020\\full_audio\n",
      "[download] 100% of  108.93MiB in 00:01:05 at 1.67MiB/s                     \n",
      "[ExtractAudio] Destination: C:\\Users\\waral\\Desktop\\fyp\\MM-ArgFallacy2025\\path_to_downloaded_dataset\\MMUSED-fallacy\\audio_recordings\\44_2020\\full_audio.wav\n",
      "Deleting original file C:\\Users\\waral\\Desktop\\fyp\\MM-ArgFallacy2025\\path_to_downloaded_dataset\\MMUSED-fallacy\\audio_recordings\\44_2020\\full_audio (pass -k to keep)\n"
     ]
    },
    {
     "name": "stderr",
     "output_type": "stream",
     "text": [
      " 94%|█████████▍| 33/35 [39:41<02:22, 71.28s/it]"
     ]
    },
    {
     "name": "stdout",
     "output_type": "stream",
     "text": [
      "[youtube] Extracting URL: https://www.youtube.com/watch?v=t_G0ia3JOVs&ab_channel=C-SPAN\n",
      "[youtube] t_G0ia3JOVs: Downloading webpage\n",
      "[youtube] t_G0ia3JOVs: Downloading tv client config\n",
      "[youtube] t_G0ia3JOVs: Downloading player 9599b765\n",
      "[youtube] t_G0ia3JOVs: Downloading tv player API JSON\n",
      "[youtube] t_G0ia3JOVs: Downloading ios player API JSON\n"
     ]
    },
    {
     "name": "stderr",
     "output_type": "stream",
     "text": [
      "WARNING: [youtube] t_G0ia3JOVs: nsig extraction failed: Some formats may be missing\n",
      "         Install PhantomJS to workaround the issue. Please download it from https://phantomjs.org/download.html\n",
      "         n = G7NAxPBsv7YmfIb ; player = https://www.youtube.com/s/player/9599b765/player_ias.vflset/en_US/base.js\n",
      "WARNING: [youtube] t_G0ia3JOVs: nsig extraction failed: Some formats may be missing\n",
      "         Install PhantomJS to workaround the issue. Please download it from https://phantomjs.org/download.html\n",
      "         n = 4TXiRjyRChyurJl ; player = https://www.youtube.com/s/player/9599b765/player_ias.vflset/en_US/base.js\n",
      "WARNING: [youtube] t_G0ia3JOVs: nsig extraction failed: Some formats may be missing\n",
      "         Install PhantomJS to workaround the issue. Please download it from https://phantomjs.org/download.html\n",
      "         n = KcpEna1sSlhOsc6 ; player = https://www.youtube.com/s/player/9599b765/player_ias.vflset/en_US/base.js\n",
      "WARNING: [youtube] t_G0ia3JOVs: nsig extraction failed: Some formats may be missing\n",
      "         Install PhantomJS to workaround the issue. Please download it from https://phantomjs.org/download.html\n",
      "         n = Krs0bl23dl4FgEP ; player = https://www.youtube.com/s/player/9599b765/player_ias.vflset/en_US/base.js\n"
     ]
    },
    {
     "name": "stdout",
     "output_type": "stream",
     "text": [
      "[youtube] t_G0ia3JOVs: Downloading m3u8 information\n",
      "[info] t_G0ia3JOVs: Downloading 1 format(s): 234\n",
      "[hlsnative] Downloading m3u8 manifest\n",
      "[hlsnative] Total fragments: 1194\n",
      "[download] Destination: C:\\Users\\waral\\Desktop\\fyp\\MM-ArgFallacy2025\\path_to_downloaded_dataset\\MMUSED-fallacy\\audio_recordings\\45_2020\\full_audio\n",
      "[download] 100% of   99.08MiB in 00:01:09 at 1.42MiB/s                     \n",
      "[ExtractAudio] Destination: C:\\Users\\waral\\Desktop\\fyp\\MM-ArgFallacy2025\\path_to_downloaded_dataset\\MMUSED-fallacy\\audio_recordings\\45_2020\\full_audio.wav\n",
      "Deleting original file C:\\Users\\waral\\Desktop\\fyp\\MM-ArgFallacy2025\\path_to_downloaded_dataset\\MMUSED-fallacy\\audio_recordings\\45_2020\\full_audio (pass -k to keep)\n"
     ]
    },
    {
     "name": "stderr",
     "output_type": "stream",
     "text": [
      " 97%|█████████▋| 34/35 [41:05<01:15, 75.21s/it]"
     ]
    },
    {
     "name": "stdout",
     "output_type": "stream",
     "text": [
      "[youtube] Extracting URL: https://www.youtube.com/watch?v=UCA1A5GqCdQ&ab_channel=NBCNews\n",
      "[youtube] UCA1A5GqCdQ: Downloading webpage\n",
      "[youtube] UCA1A5GqCdQ: Downloading tv client config\n",
      "[youtube] UCA1A5GqCdQ: Downloading player 9599b765\n",
      "[youtube] UCA1A5GqCdQ: Downloading tv player API JSON\n",
      "[youtube] UCA1A5GqCdQ: Downloading ios player API JSON\n"
     ]
    },
    {
     "name": "stderr",
     "output_type": "stream",
     "text": [
      "WARNING: [youtube] UCA1A5GqCdQ: nsig extraction failed: Some formats may be missing\n",
      "         Install PhantomJS to workaround the issue. Please download it from https://phantomjs.org/download.html\n",
      "         n = m5IgQ5CqpGyH0K9 ; player = https://www.youtube.com/s/player/9599b765/player_ias.vflset/en_US/base.js\n",
      "WARNING: [youtube] UCA1A5GqCdQ: nsig extraction failed: Some formats may be missing\n",
      "         Install PhantomJS to workaround the issue. Please download it from https://phantomjs.org/download.html\n",
      "         n = 1TevfuXMIL9rKg- ; player = https://www.youtube.com/s/player/9599b765/player_ias.vflset/en_US/base.js\n",
      "WARNING: [youtube] UCA1A5GqCdQ: nsig extraction failed: Some formats may be missing\n",
      "         Install PhantomJS to workaround the issue. Please download it from https://phantomjs.org/download.html\n",
      "         n = LqmJPFHG21VtuNs ; player = https://www.youtube.com/s/player/9599b765/player_ias.vflset/en_US/base.js\n",
      "WARNING: [youtube] UCA1A5GqCdQ: nsig extraction failed: Some formats may be missing\n",
      "         Install PhantomJS to workaround the issue. Please download it from https://phantomjs.org/download.html\n",
      "         n = KnmI7x0ey6g6RaP ; player = https://www.youtube.com/s/player/9599b765/player_ias.vflset/en_US/base.js\n"
     ]
    },
    {
     "name": "stdout",
     "output_type": "stream",
     "text": [
      "[youtube] UCA1A5GqCdQ: Downloading m3u8 information\n",
      "[info] UCA1A5GqCdQ: Downloading 1 format(s): 234\n",
      "[hlsnative] Downloading m3u8 manifest\n",
      "[hlsnative] Total fragments: 1345\n",
      "[download] Destination: C:\\Users\\waral\\Desktop\\fyp\\MM-ArgFallacy2025\\path_to_downloaded_dataset\\MMUSED-fallacy\\audio_recordings\\46_2020\\full_audio\n",
      "[download] 100% of  111.60MiB in 00:01:20 at 1.38MiB/s                     \n",
      "[ExtractAudio] Destination: C:\\Users\\waral\\Desktop\\fyp\\MM-ArgFallacy2025\\path_to_downloaded_dataset\\MMUSED-fallacy\\audio_recordings\\46_2020\\full_audio.wav\n",
      "Deleting original file C:\\Users\\waral\\Desktop\\fyp\\MM-ArgFallacy2025\\path_to_downloaded_dataset\\MMUSED-fallacy\\audio_recordings\\46_2020\\full_audio (pass -k to keep)\n"
     ]
    },
    {
     "name": "stderr",
     "output_type": "stream",
     "text": [
      "100%|██████████| 35/35 [42:35<00:00, 73.02s/it]\n",
      "Building clips...: 100%|██████████| 35/35 [04:05<00:00,  7.00s/it]\n"
     ]
    },
    {
     "ename": "KeyError",
     "evalue": "'mm-argfallacy-2025'",
     "output_type": "error",
     "traceback": [
      "\u001b[1;31m---------------------------------------------------------------------------\u001b[0m",
      "\u001b[1;31mKeyError\u001b[0m                                  Traceback (most recent call last)",
      "Cell \u001b[1;32mIn[15], line 14\u001b[0m\n\u001b[0;32m      7\u001b[0m loader \u001b[38;5;241m=\u001b[39m MMUSEDFallacy(\n\u001b[0;32m      8\u001b[0m     task_name\u001b[38;5;241m=\u001b[39m\u001b[38;5;124m'\u001b[39m\u001b[38;5;124mafd\u001b[39m\u001b[38;5;124m'\u001b[39m,\n\u001b[0;32m      9\u001b[0m     input_mode\u001b[38;5;241m=\u001b[39mInputMode\u001b[38;5;241m.\u001b[39mTEXT_ONLY,\n\u001b[0;32m     10\u001b[0m     base_data_path\u001b[38;5;241m=\u001b[39mbase_data_path\n\u001b[0;32m     11\u001b[0m )\n\u001b[0;32m     13\u001b[0m \u001b[38;5;66;03m# Retrieve the data splits\u001b[39;00m\n\u001b[1;32m---> 14\u001b[0m split_info \u001b[38;5;241m=\u001b[39m \u001b[43mloader\u001b[49m\u001b[38;5;241;43m.\u001b[39;49m\u001b[43mget_splits\u001b[49m\u001b[43m(\u001b[49m\u001b[38;5;124;43m'\u001b[39;49m\u001b[38;5;124;43mmm-argfallacy-2025\u001b[39;49m\u001b[38;5;124;43m'\u001b[39;49m\u001b[43m)\u001b[49m\n\u001b[0;32m     16\u001b[0m \u001b[38;5;66;03m# Access the test dataset\u001b[39;00m\n\u001b[0;32m     17\u001b[0m test_dataset \u001b[38;5;241m=\u001b[39m split_info\u001b[38;5;241m.\u001b[39mtest\n",
      "File \u001b[1;32mc:\\Users\\waral\\AppData\\Local\\Programs\\Python\\Python310\\lib\\site-packages\\mamkit\\data\\datasets.py:276\u001b[0m, in \u001b[0;36mLoader.get_splits\u001b[1;34m(self, key)\u001b[0m\n\u001b[0;32m    272\u001b[0m \u001b[38;5;28;01mdef\u001b[39;00m\u001b[38;5;250m \u001b[39m\u001b[38;5;21mget_splits\u001b[39m(\n\u001b[0;32m    273\u001b[0m         \u001b[38;5;28mself\u001b[39m,\n\u001b[0;32m    274\u001b[0m         key: \u001b[38;5;28mstr\u001b[39m \u001b[38;5;241m=\u001b[39m \u001b[38;5;124m'\u001b[39m\u001b[38;5;124mdefault\u001b[39m\u001b[38;5;124m'\u001b[39m\n\u001b[0;32m    275\u001b[0m ) \u001b[38;5;241m-\u001b[39m\u001b[38;5;241m>\u001b[39m List[SplitInfo]:\n\u001b[1;32m--> 276\u001b[0m     \u001b[38;5;28;01mreturn\u001b[39;00m \u001b[38;5;28;43mself\u001b[39;49m\u001b[38;5;241;43m.\u001b[39;49m\u001b[43msplitters\u001b[49m\u001b[43m[\u001b[49m\u001b[43mkey\u001b[49m\u001b[43m]\u001b[49m()\n",
      "\u001b[1;31mKeyError\u001b[0m: 'mm-argfallacy-2025'"
     ]
    }
   ],
   "source": [
    "from mamkit.data.datasets import MMUSEDFallacy, InputMode\n",
    "\n",
    "# Specify the path to the dataset\n",
    "base_data_path = 'path_to_downloaded_dataset'\n",
    "\n",
    "# Initialize the dataset loader\n",
    "loader = MMUSEDFallacy(\n",
    "    task_name='afd',\n",
    "    input_mode=InputMode.TEXT_ONLY,\n",
    "    base_data_path=base_data_path\n",
    ")\n",
    "\n",
    "# Retrieve the data splits\n",
    "split_info = loader.get_splits('mm-argfallacy-2025')\n",
    "\n",
    "# Access the test dataset\n",
    "test_dataset = split_info.test\n"
   ]
  },
  {
   "cell_type": "code",
   "execution_count": null,
   "id": "01ac5c93",
   "metadata": {},
   "outputs": [
    {
     "name": "stdout",
     "output_type": "stream",
     "text": [
      "['__annotations__', '__class__', '__dataclass_fields__', '__dataclass_params__', '__delattr__', '__dict__', '__dir__', '__doc__', '__eq__', '__format__', '__ge__', '__getattribute__', '__gt__', '__hash__', '__init__', '__init_subclass__', '__le__', '__lt__', '__match_args__', '__module__', '__ne__', '__new__', '__reduce__', '__reduce_ex__', '__repr__', '__setattr__', '__sizeof__', '__str__', '__subclasshook__', '__weakref__', 'test', 'train', 'val']\n"
     ]
    }
   ],
   "source": [
    "split_info = loader.get_splits()  # or loader.get_splits('default')\n",
    "\n",
    "# Access the test dataset\n",
    "split_infos = loader.get_splits()\n",
    "\n",
    "# Initialize variables to store datasets\n",
    "train_dataset = val_dataset = test_dataset = None\n",
    "\n",
    "# Iterate over the splits to assign datasets\n",
    "for split_info in split_infos:\n",
    "    print(dir(split_info))\n",
    "\n",
    "\n",
    "\n"
   ]
  },
  {
   "cell_type": "code",
   "execution_count": 24,
   "id": "77d46484",
   "metadata": {},
   "outputs": [],
   "source": [
    "# Retrieve the data splits\n",
    "split_infos = loader.get_splits()\n",
    "\n",
    "# Initialize variables to store datasets\n",
    "train_dataset = val_dataset = test_dataset = None\n",
    "\n",
    "# Iterate over the splits to assign datasets\n",
    "for split_info in split_infos:\n",
    "    if hasattr(split_info, 'train'):\n",
    "        train_dataset = split_info.train\n",
    "    if hasattr(split_info, 'val'):\n",
    "        val_dataset = split_info.val\n",
    "    if hasattr(split_info, 'test'):\n",
    "        test_dataset = split_info.test\n",
    "\n"
   ]
  },
  {
   "cell_type": "code",
   "execution_count": 26,
   "id": "44a72268",
   "metadata": {},
   "outputs": [
    {
     "name": "stdout",
     "output_type": "stream",
     "text": [
      "Training samples: 17118\n",
      "Validation samples: 0\n",
      "Test samples: 0\n",
      "('I have a plan -- not a secret plan.', 0, None)\n"
     ]
    }
   ],
   "source": [
    "# Check the number of samples in each split\n",
    "print(f\"Training samples: {len(train_dataset)}\")\n",
    "print(f\"Validation samples: {len(val_dataset)}\")\n",
    "print(f\"Test samples: {len(test_dataset)}\")\n",
    "\n",
    "# View a sample from the training dataset\n",
    "sample = train_dataset[0]\n",
    "print(sample)\n"
   ]
  },
  {
   "cell_type": "code",
   "execution_count": 29,
   "id": "fd9ae3b8",
   "metadata": {},
   "outputs": [
    {
     "name": "stdout",
     "output_type": "stream",
     "text": [
      "Training samples: 17118\n",
      "Validation samples: 0\n",
      "Test samples: 0\n"
     ]
    }
   ],
   "source": [
    "print(f\"Training samples: {len(train_dataset)}\")\n",
    "print(f\"Validation samples: {len(val_dataset)}\")\n",
    "print(f\"Test samples: {len(test_dataset)}\")\n"
   ]
  },
  {
   "cell_type": "code",
   "execution_count": 35,
   "id": "5539a8c8",
   "metadata": {},
   "outputs": [],
   "source": [
    "# Convert to list for shuffling\n",
    "train_data_list = list(train_dataset)\n"
   ]
  },
  {
   "cell_type": "code",
   "execution_count": 36,
   "id": "3e00d6cf",
   "metadata": {},
   "outputs": [],
   "source": [
    "import random\n",
    "\n",
    "# Shuffle the data\n",
    "random.shuffle(train_data_list)\n"
   ]
  },
  {
   "cell_type": "code",
   "execution_count": 37,
   "id": "7477c233",
   "metadata": {},
   "outputs": [],
   "source": [
    "# Calculate split indices\n",
    "total_samples = len(train_data_list)\n",
    "train_end = int(0.8 * total_samples)\n",
    "val_end = int(0.9 * total_samples)\n",
    "\n",
    "# Split the data\n",
    "train_split = train_data_list[:train_end]\n",
    "val_split = train_data_list[train_end:val_end]\n",
    "test_split = train_data_list[val_end:]\n"
   ]
  },
  {
   "cell_type": "code",
   "execution_count": 40,
   "id": "7ef33795",
   "metadata": {},
   "outputs": [],
   "source": [
    "# For training data\n",
    "train_samples = [sample[0] for sample in train_split]\n",
    "train_labels = [sample[1] for sample in train_split]\n",
    "\n",
    "# For validation data\n",
    "val_samples = [sample[0] for sample in val_split]\n",
    "val_labels = [sample[1] for sample in val_split]\n",
    "\n",
    "# For test data\n",
    "test_samples = [sample[0] for sample in test_split]\n",
    "test_labels = [sample[1] for sample in test_split]\n"
   ]
  },
  {
   "cell_type": "code",
   "execution_count": 42,
   "id": "1ff5bdd6",
   "metadata": {},
   "outputs": [],
   "source": [
    "from mamkit.data.datasets import UnimodalDataset\n",
    "\n",
    "# Reconstruct datasets using positional arguments\n",
    "train_dataset = UnimodalDataset(train_samples, train_labels)\n",
    "val_dataset = UnimodalDataset(val_samples, val_labels)\n",
    "test_dataset = UnimodalDataset(test_samples, test_labels)\n",
    "\n"
   ]
  },
  {
   "cell_type": "code",
   "execution_count": 44,
   "id": "78a73485",
   "metadata": {},
   "outputs": [
    {
     "name": "stdout",
     "output_type": "stream",
     "text": [
      "Sample 1:\n",
      "Text: It is a commitment that we have to meet if we're going to protect the security of Western Europe.\n",
      "Label: 0\n",
      "Metadata: None\n",
      "\n",
      "Sample 2:\n",
      "Text: I don't mean to be critical of uh - Senator Mondale, but uh - I was uh - very, very surprised when I read that uh - Senator Mondale made a very derogatory, very personal comment about General Brown uh - after the news story that uh - broke about General Brown.\n",
      "Label: 1\n",
      "Metadata: None\n",
      "\n",
      "Sample 3:\n",
      "Text: We have record numbers of new small businesses.\n",
      "Label: 0\n",
      "Metadata: None\n",
      "\n",
      "Sample 4:\n",
      "Text: You look at Charlotte.\n",
      "Label: 0\n",
      "Metadata: None\n",
      "\n",
      "Sample 5:\n",
      "Text: I was just endorsed by ICE.\n",
      "Label: 0\n",
      "Metadata: None\n",
      "\n"
     ]
    }
   ],
   "source": [
    "# Examine a few samples from the training dataset\n",
    "for i in range(5):\n",
    "    sample = test_dataset[i]\n",
    "    print(f\"Sample {i+1}:\")\n",
    "    print(f\"Text: {sample[0]}\")\n",
    "    print(f\"Label: {sample[1]}\")\n",
    "    print(f\"Metadata: {sample[2]}\\n\")\n"
   ]
  },
  {
   "cell_type": "code",
   "execution_count": 45,
   "id": "f7972ba0",
   "metadata": {},
   "outputs": [
    {
     "name": "stdout",
     "output_type": "stream",
     "text": [
      "Training samples: 13694\n",
      "Validation samples: 1712\n",
      "Test samples: 1712\n"
     ]
    }
   ],
   "source": [
    "print(f\"Training samples: {len(train_dataset)}\")\n",
    "print(f\"Validation samples: {len(val_dataset)}\")\n",
    "print(f\"Test samples: {len(test_dataset)}\")\n"
   ]
  },
  {
   "cell_type": "code",
   "execution_count": 47,
   "id": "57028a58",
   "metadata": {},
   "outputs": [],
   "source": [
    "import pandas as pd\n",
    "\n",
    "# Assuming train_dataset is a list of tuples: (text, label)\n",
    "data = [{'text': sample[0], 'label': sample[1]} for sample in train_dataset]\n",
    "\n",
    "# Create a DataFrame\n",
    "df = pd.DataFrame(data)\n",
    "\n",
    "# Save to CSV\n",
    "df.to_csv('train_dataset.csv', index=False)\n"
   ]
  },
  {
   "cell_type": "code",
   "execution_count": 1,
   "id": "3164d3bc",
   "metadata": {},
   "outputs": [
    {
     "name": "stderr",
     "output_type": "stream",
     "text": [
      "c:\\Users\\waral\\AppData\\Local\\Programs\\Python\\Python310\\lib\\site-packages\\tqdm\\auto.py:21: TqdmWarning: IProgress not found. Please update jupyter and ipywidgets. See https://ipywidgets.readthedocs.io/en/stable/user_install.html\n",
      "  from .autonotebook import tqdm as notebook_tqdm\n"
     ]
    }
   ],
   "source": [
    "from transformers import RobertaForSequenceClassification, RobertaTokenizer\n",
    "\n",
    "# Load model\n",
    "model = RobertaForSequenceClassification.from_pretrained(\"./roberta_fallacy_model\")\n",
    "tokenizer = RobertaTokenizer.from_pretrained(\"./roberta_fallacy_model\")"
   ]
  },
  {
   "cell_type": "code",
   "execution_count": 19,
   "id": "aa1d2a49",
   "metadata": {},
   "outputs": [
    {
     "name": "stdout",
     "output_type": "stream",
     "text": [
      "Predicted class: 2\n"
     ]
    }
   ],
   "source": [
    "# Example input\n",
    "text = \"America is a fair society, and it is not right that Vice President Bush pays less in taxes than the janitor who helps him.\"\n",
    "\n",
    "# Tokenize the input\n",
    "inputs = tokenizer(text, return_tensors=\"pt\")\n",
    "\n",
    "# Get model predictions\n",
    "outputs = model(**inputs)\n",
    "logits = outputs.logits\n",
    "\n",
    "# Determine predicted class\n",
    "predicted_class = logits.argmax().item()\n",
    "print(f\"Predicted class: {predicted_class}\")\n"
   ]
  },
  {
   "cell_type": "code",
   "execution_count": 16,
   "id": "51e96680",
   "metadata": {},
   "outputs": [],
   "source": [
    "id2label = {\n",
    "    0: \"Appeal to Emotion\",\n",
    "    1: \"Appeal to Authority\",\n",
    "    2: \"Ad Hominem\",\n",
    "    3: \"False Cause\",\n",
    "    4: \"Slippery Slope\",\n",
    "    5: \"Slogans\"\n",
    "}\n"
   ]
  },
  {
   "cell_type": "code",
   "execution_count": 17,
   "id": "f3d058de",
   "metadata": {},
   "outputs": [
    {
     "name": "stdout",
     "output_type": "stream",
     "text": [
      "Predicted Fallacy: Appeal to Emotion\n"
     ]
    }
   ],
   "source": [
    "# Example: predicted_class is the index returned by the model\n",
    "predicted_class = logits.argmax().item()\n",
    "predicted_label = id2label.get(predicted_class, \"Unknown\")\n",
    "print(f\"Predicted Fallacy: {predicted_label}\")\n"
   ]
  },
  {
   "cell_type": "code",
   "execution_count": 14,
   "id": "06e5c125",
   "metadata": {},
   "outputs": [
    {
     "data": {
      "text/plain": [
       "('./roberta_fallacy_model_updated\\\\tokenizer_config.json',\n",
       " './roberta_fallacy_model_updated\\\\special_tokens_map.json',\n",
       " './roberta_fallacy_model_updated\\\\vocab.json',\n",
       " './roberta_fallacy_model_updated\\\\merges.txt',\n",
       " './roberta_fallacy_model_updated\\\\added_tokens.json')"
      ]
     },
     "execution_count": 14,
     "metadata": {},
     "output_type": "execute_result"
    }
   ],
   "source": [
    "# Define label mappings\n",
    "label2id = {\n",
    "    \"Equivocation\": 0,\n",
    "    \"Faulty Generalization\": 1,\n",
    "    # ... add all labels\n",
    "}\n",
    "id2label = {v: k for k, v in label2id.items()}\n",
    "\n",
    "# Set label mappings in model configuration\n",
    "model.config.label2id = label2id\n",
    "model.config.id2label = id2label\n",
    "\n",
    "# Save the model and tokenizer\n",
    "model.save_pretrained(\"./roberta_fallacy_model_updated\")\n",
    "tokenizer.save_pretrained(\"./roberta_fallacy_model_updated\")\n"
   ]
  }
 ],
 "metadata": {
  "kernelspec": {
   "display_name": "Python 3",
   "language": "python",
   "name": "python3"
  },
  "language_info": {
   "codemirror_mode": {
    "name": "ipython",
    "version": 3
   },
   "file_extension": ".py",
   "mimetype": "text/x-python",
   "name": "python",
   "nbconvert_exporter": "python",
   "pygments_lexer": "ipython3",
   "version": "3.10.0"
  }
 },
 "nbformat": 4,
 "nbformat_minor": 5
}
